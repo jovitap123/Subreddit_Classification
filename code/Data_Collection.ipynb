{
 "cells": [
  {
   "cell_type": "markdown",
   "metadata": {},
   "source": [
    "### Import Libraries"
   ]
  },
  {
   "cell_type": "code",
   "execution_count": 164,
   "metadata": {},
   "outputs": [],
   "source": [
    "import numpy as np\n",
    "import pandas as pd\n",
    "import requests\n",
    "import json"
   ]
  },
  {
   "cell_type": "markdown",
   "metadata": {},
   "source": [
    "### Set Up Options"
   ]
  },
  {
   "cell_type": "code",
   "execution_count": 165,
   "metadata": {},
   "outputs": [],
   "source": [
    "pd.set_option('display.max_columns', 250)\n",
    "pd.set_option('display.max_rows', 250)"
   ]
  },
  {
   "cell_type": "markdown",
   "metadata": {},
   "source": [
    "### References to build this code"
   ]
  },
  {
   "cell_type": "code",
   "execution_count": 166,
   "metadata": {},
   "outputs": [],
   "source": [
    "#https://github.com/pushshift/api\n",
    "#https://medium.com/@RareLoot/using-pushshifts-api-to-extract-reddit-submissions-fb517b286563"
   ]
  },
  {
   "cell_type": "markdown",
   "metadata": {},
   "source": [
    "### Subreddit posts extraction function"
   ]
  },
  {
   "cell_type": "code",
   "execution_count": 167,
   "metadata": {},
   "outputs": [],
   "source": [
    "def subreddit_post_extract(subreddit,cycles,size,days_gap,post='submission'):\n",
    "#subreddit: Name of subreddit for scraping\n",
    "#cycles: Number of times to run the function to extract post\n",
    "#size: Number of posts requested in one extraction\n",
    "#day_skip: number of days to skip day for each cycle \n",
    "\n",
    "    #Submission categories requested from reddit \n",
    "    sub_categories = ['id','subreddit','title','selftext']    \n",
    "    \n",
    "    #Empty post list\n",
    "    posts=[] \n",
    "    # after — where to start the search\n",
    "    collect_after = 7   \n",
    "\n",
    "    for i in range(cycles):\n",
    "        #url\n",
    "        url= \"https://api.pushshift.io/reddit/search/{}/?subreddit={}&size={}&after={}d\".format(post, subreddit, size, days_gap * i + collect_after) \n",
    "        print('Data collected from {} subreddit starting at {} days from today'.format(subreddit, days_gap * i + collect_after))\n",
    "        # get data\n",
    "        res = requests.get(url)\n",
    "        posts.extend(res.json()['data']) \n",
    "        time.sleep(1) \n",
    "\n",
    "    #convert lists into data frame\n",
    "    posts_df = pd.DataFrame.from_dict(posts) \n",
    "    posts_df = posts_df[sub_categories] \n",
    "    return posts_df"
   ]
  },
  {
   "cell_type": "code",
   "execution_count": 168,
   "metadata": {},
   "outputs": [
    {
     "name": "stdout",
     "output_type": "stream",
     "text": [
      "Data collected from Marvel subreddit starting at 7 days from today\n",
      "Data collected from Marvel subreddit starting at 38 days from today\n",
      "Data collected from Marvel subreddit starting at 69 days from today\n",
      "Data collected from Marvel subreddit starting at 100 days from today\n",
      "Data collected from Marvel subreddit starting at 131 days from today\n",
      "Data collected from Marvel subreddit starting at 162 days from today\n",
      "Data collected from Marvel subreddit starting at 193 days from today\n",
      "Data collected from Marvel subreddit starting at 224 days from today\n",
      "Data collected from Marvel subreddit starting at 255 days from today\n",
      "Data collected from Marvel subreddit starting at 286 days from today\n",
      "Data collected from Marvel subreddit starting at 317 days from today\n",
      "Data collected from Marvel subreddit starting at 348 days from today\n",
      "Data collected from Marvel subreddit starting at 379 days from today\n",
      "Data collected from Marvel subreddit starting at 410 days from today\n",
      "Data collected from Marvel subreddit starting at 441 days from today\n",
      "(1500, 4)\n"
     ]
    }
   ],
   "source": [
    "marvel_submissions = subreddit_post_extract('Marvel',15,100,31)\n",
    "print(marvel_submissions.shape)"
   ]
  },
  {
   "cell_type": "code",
   "execution_count": 169,
   "metadata": {},
   "outputs": [
    {
     "data": {
      "text/plain": [
       "1500"
      ]
     },
     "execution_count": 169,
     "metadata": {},
     "output_type": "execute_result"
    }
   ],
   "source": [
    "marvel_submissions['id'].nunique()"
   ]
  },
  {
   "cell_type": "code",
   "execution_count": 170,
   "metadata": {},
   "outputs": [
    {
     "data": {
      "text/plain": [
       "1486"
      ]
     },
     "execution_count": 170,
     "metadata": {},
     "output_type": "execute_result"
    }
   ],
   "source": [
    "marvel_submissions['title'].nunique()"
   ]
  },
  {
   "cell_type": "code",
   "execution_count": 171,
   "metadata": {},
   "outputs": [
    {
     "data": {
      "text/html": [
       "<div>\n",
       "<style scoped>\n",
       "    .dataframe tbody tr th:only-of-type {\n",
       "        vertical-align: middle;\n",
       "    }\n",
       "\n",
       "    .dataframe tbody tr th {\n",
       "        vertical-align: top;\n",
       "    }\n",
       "\n",
       "    .dataframe thead th {\n",
       "        text-align: right;\n",
       "    }\n",
       "</style>\n",
       "<table border=\"1\" class=\"dataframe\">\n",
       "  <thead>\n",
       "    <tr style=\"text-align: right;\">\n",
       "      <th></th>\n",
       "      <th>id</th>\n",
       "      <th>subreddit</th>\n",
       "      <th>title</th>\n",
       "      <th>selftext</th>\n",
       "    </tr>\n",
       "  </thead>\n",
       "  <tbody>\n",
       "    <tr>\n",
       "      <th>0</th>\n",
       "      <td>hnsorg</td>\n",
       "      <td>Marvel</td>\n",
       "      <td>Daredevil by Bill Sienkiewicz</td>\n",
       "      <td></td>\n",
       "    </tr>\n",
       "    <tr>\n",
       "      <th>1</th>\n",
       "      <td>hnsqr9</td>\n",
       "      <td>Marvel</td>\n",
       "      <td>That's probably the most obvious example of Ul...</td>\n",
       "      <td></td>\n",
       "    </tr>\n",
       "    <tr>\n",
       "      <th>2</th>\n",
       "      <td>hnsvgp</td>\n",
       "      <td>Marvel</td>\n",
       "      <td>Picture of Spidey I drew...</td>\n",
       "      <td>[removed]</td>\n",
       "    </tr>\n",
       "    <tr>\n",
       "      <th>3</th>\n",
       "      <td>hnswrl</td>\n",
       "      <td>Marvel</td>\n",
       "      <td>Just a little drawing I did</td>\n",
       "      <td></td>\n",
       "    </tr>\n",
       "    <tr>\n",
       "      <th>4</th>\n",
       "      <td>hnt890</td>\n",
       "      <td>Marvel</td>\n",
       "      <td>That suit did nothing for his ass.</td>\n",
       "      <td></td>\n",
       "    </tr>\n",
       "    <tr>\n",
       "      <th>...</th>\n",
       "      <td>...</td>\n",
       "      <td>...</td>\n",
       "      <td>...</td>\n",
       "      <td>...</td>\n",
       "    </tr>\n",
       "    <tr>\n",
       "      <th>1495</th>\n",
       "      <td>bjrr4r</td>\n",
       "      <td>Marvel</td>\n",
       "      <td>It's not the CAT. It's the RAT!</td>\n",
       "      <td></td>\n",
       "    </tr>\n",
       "    <tr>\n",
       "      <th>1496</th>\n",
       "      <td>bjrune</td>\n",
       "      <td>Marvel</td>\n",
       "      <td>The Great I Am</td>\n",
       "      <td></td>\n",
       "    </tr>\n",
       "    <tr>\n",
       "      <th>1497</th>\n",
       "      <td>bjrvxm</td>\n",
       "      <td>Marvel</td>\n",
       "      <td>10 Years of Iron Man Suiting Up Compilation (2...</td>\n",
       "      <td></td>\n",
       "    </tr>\n",
       "    <tr>\n",
       "      <th>1498</th>\n",
       "      <td>bjrwyk</td>\n",
       "      <td>Marvel</td>\n",
       "      <td>10 Years of Tony Stark Suiting Up to Iron Man ...</td>\n",
       "      <td></td>\n",
       "    </tr>\n",
       "    <tr>\n",
       "      <th>1499</th>\n",
       "      <td>bjryhy</td>\n",
       "      <td>Marvel</td>\n",
       "      <td>Captain Marvel Chibi Commission ✊ by me (salty...</td>\n",
       "      <td></td>\n",
       "    </tr>\n",
       "  </tbody>\n",
       "</table>\n",
       "<p>1500 rows × 4 columns</p>\n",
       "</div>"
      ],
      "text/plain": [
       "          id subreddit                                              title  \\\n",
       "0     hnsorg    Marvel                      Daredevil by Bill Sienkiewicz   \n",
       "1     hnsqr9    Marvel  That's probably the most obvious example of Ul...   \n",
       "2     hnsvgp    Marvel                        Picture of Spidey I drew...   \n",
       "3     hnswrl    Marvel                        Just a little drawing I did   \n",
       "4     hnt890    Marvel                 That suit did nothing for his ass.   \n",
       "...      ...       ...                                                ...   \n",
       "1495  bjrr4r    Marvel                    It's not the CAT. It's the RAT!   \n",
       "1496  bjrune    Marvel                                     The Great I Am   \n",
       "1497  bjrvxm    Marvel  10 Years of Iron Man Suiting Up Compilation (2...   \n",
       "1498  bjrwyk    Marvel  10 Years of Tony Stark Suiting Up to Iron Man ...   \n",
       "1499  bjryhy    Marvel  Captain Marvel Chibi Commission ✊ by me (salty...   \n",
       "\n",
       "       selftext  \n",
       "0                \n",
       "1                \n",
       "2     [removed]  \n",
       "3                \n",
       "4                \n",
       "...         ...  \n",
       "1495             \n",
       "1496             \n",
       "1497             \n",
       "1498             \n",
       "1499             \n",
       "\n",
       "[1500 rows x 4 columns]"
      ]
     },
     "execution_count": 171,
     "metadata": {},
     "output_type": "execute_result"
    }
   ],
   "source": [
    "marvel_submissions"
   ]
  },
  {
   "cell_type": "code",
   "execution_count": 172,
   "metadata": {},
   "outputs": [
    {
     "data": {
      "text/plain": [
       "219"
      ]
     },
     "execution_count": 172,
     "metadata": {},
     "output_type": "execute_result"
    }
   ],
   "source": [
    "marvel_submissions['selftext'].nunique()"
   ]
  },
  {
   "cell_type": "code",
   "execution_count": 162,
   "metadata": {},
   "outputs": [],
   "source": [
    "#Some titles are duplicate which will be removed in Data Cleaning"
   ]
  },
  {
   "cell_type": "code",
   "execution_count": 173,
   "metadata": {},
   "outputs": [
    {
     "name": "stdout",
     "output_type": "stream",
     "text": [
      "Data collected from DCComics subreddit starting at 7 days from today\n",
      "Data collected from DCComics subreddit starting at 38 days from today\n",
      "Data collected from DCComics subreddit starting at 69 days from today\n",
      "Data collected from DCComics subreddit starting at 100 days from today\n",
      "Data collected from DCComics subreddit starting at 131 days from today\n",
      "Data collected from DCComics subreddit starting at 162 days from today\n",
      "Data collected from DCComics subreddit starting at 193 days from today\n",
      "Data collected from DCComics subreddit starting at 224 days from today\n",
      "Data collected from DCComics subreddit starting at 255 days from today\n",
      "Data collected from DCComics subreddit starting at 286 days from today\n",
      "Data collected from DCComics subreddit starting at 317 days from today\n",
      "Data collected from DCComics subreddit starting at 348 days from today\n",
      "Data collected from DCComics subreddit starting at 379 days from today\n",
      "Data collected from DCComics subreddit starting at 410 days from today\n",
      "Data collected from DCComics subreddit starting at 441 days from today\n",
      "(1500, 4)\n"
     ]
    }
   ],
   "source": [
    "dc_submissions = subreddit_post_extract('DCComics',15,100,31)\n",
    "print(dc_submissions.shape)"
   ]
  },
  {
   "cell_type": "code",
   "execution_count": 174,
   "metadata": {},
   "outputs": [
    {
     "data": {
      "text/plain": [
       "1500"
      ]
     },
     "execution_count": 174,
     "metadata": {},
     "output_type": "execute_result"
    }
   ],
   "source": [
    "dc_submissions['id'].nunique()"
   ]
  },
  {
   "cell_type": "code",
   "execution_count": 175,
   "metadata": {},
   "outputs": [
    {
     "data": {
      "text/plain": [
       "1479"
      ]
     },
     "execution_count": 175,
     "metadata": {},
     "output_type": "execute_result"
    }
   ],
   "source": [
    "dc_submissions['title'].nunique()"
   ]
  },
  {
   "cell_type": "code",
   "execution_count": 176,
   "metadata": {},
   "outputs": [
    {
     "data": {
      "text/html": [
       "<div>\n",
       "<style scoped>\n",
       "    .dataframe tbody tr th:only-of-type {\n",
       "        vertical-align: middle;\n",
       "    }\n",
       "\n",
       "    .dataframe tbody tr th {\n",
       "        vertical-align: top;\n",
       "    }\n",
       "\n",
       "    .dataframe thead th {\n",
       "        text-align: right;\n",
       "    }\n",
       "</style>\n",
       "<table border=\"1\" class=\"dataframe\">\n",
       "  <thead>\n",
       "    <tr style=\"text-align: right;\">\n",
       "      <th></th>\n",
       "      <th>id</th>\n",
       "      <th>subreddit</th>\n",
       "      <th>title</th>\n",
       "      <th>selftext</th>\n",
       "    </tr>\n",
       "  </thead>\n",
       "  <tbody>\n",
       "    <tr>\n",
       "      <th>0</th>\n",
       "      <td>hnsi3i</td>\n",
       "      <td>DCcomics</td>\n",
       "      <td>[Film/TV] Would you like to see Lynda Carter r...</td>\n",
       "      <td></td>\n",
       "    </tr>\n",
       "    <tr>\n",
       "      <th>1</th>\n",
       "      <td>hnsnr2</td>\n",
       "      <td>DCcomics</td>\n",
       "      <td>Couple of Chuck Dixon questions</td>\n",
       "      <td>Trying to really get into batman in the 90’s p...</td>\n",
       "    </tr>\n",
       "    <tr>\n",
       "      <th>2</th>\n",
       "      <td>hnsrpm</td>\n",
       "      <td>DCcomics</td>\n",
       "      <td>[Artwork] Tony S. Daniel: Some WIP from #Death...</td>\n",
       "      <td></td>\n",
       "    </tr>\n",
       "    <tr>\n",
       "      <th>3</th>\n",
       "      <td>hnstjs</td>\n",
       "      <td>DCcomics</td>\n",
       "      <td>Theatrical JL vs Snyder Cut JL</td>\n",
       "      <td></td>\n",
       "    </tr>\n",
       "    <tr>\n",
       "      <th>4</th>\n",
       "      <td>hnsvxj</td>\n",
       "      <td>DCcomics</td>\n",
       "      <td>DC Post Death Metal</td>\n",
       "      <td>[removed]</td>\n",
       "    </tr>\n",
       "    <tr>\n",
       "      <th>...</th>\n",
       "      <td>...</td>\n",
       "      <td>...</td>\n",
       "      <td>...</td>\n",
       "      <td>...</td>\n",
       "    </tr>\n",
       "    <tr>\n",
       "      <th>1495</th>\n",
       "      <td>bk83dr</td>\n",
       "      <td>DCcomics</td>\n",
       "      <td>I can’t wait for these two mini series, about ...</td>\n",
       "      <td></td>\n",
       "    </tr>\n",
       "    <tr>\n",
       "      <th>1496</th>\n",
       "      <td>bk85mb</td>\n",
       "      <td>DCcomics</td>\n",
       "      <td>What tuning is Andy's guitar in here?</td>\n",
       "      <td>[removed]</td>\n",
       "    </tr>\n",
       "    <tr>\n",
       "      <th>1497</th>\n",
       "      <td>bk8cjg</td>\n",
       "      <td>DCcomics</td>\n",
       "      <td>I love this movie and I love this scene. So I ...</td>\n",
       "      <td></td>\n",
       "    </tr>\n",
       "    <tr>\n",
       "      <th>1498</th>\n",
       "      <td>bk8fl3</td>\n",
       "      <td>DCcomics</td>\n",
       "      <td>Shazam! #6 Textless Variant Cover by Karmome S...</td>\n",
       "      <td></td>\n",
       "    </tr>\n",
       "    <tr>\n",
       "      <th>1499</th>\n",
       "      <td>bk8r7k</td>\n",
       "      <td>DCcomics</td>\n",
       "      <td>Cassandra Cain's HIC Style Confessional (art b...</td>\n",
       "      <td>https://imgur.com/a/OUiLipy\\n\\nSource: https:/...</td>\n",
       "    </tr>\n",
       "  </tbody>\n",
       "</table>\n",
       "<p>1500 rows × 4 columns</p>\n",
       "</div>"
      ],
      "text/plain": [
       "          id subreddit                                              title  \\\n",
       "0     hnsi3i  DCcomics  [Film/TV] Would you like to see Lynda Carter r...   \n",
       "1     hnsnr2  DCcomics                    Couple of Chuck Dixon questions   \n",
       "2     hnsrpm  DCcomics  [Artwork] Tony S. Daniel: Some WIP from #Death...   \n",
       "3     hnstjs  DCcomics                     Theatrical JL vs Snyder Cut JL   \n",
       "4     hnsvxj  DCcomics                                DC Post Death Metal   \n",
       "...      ...       ...                                                ...   \n",
       "1495  bk83dr  DCcomics  I can’t wait for these two mini series, about ...   \n",
       "1496  bk85mb  DCcomics              What tuning is Andy's guitar in here?   \n",
       "1497  bk8cjg  DCcomics  I love this movie and I love this scene. So I ...   \n",
       "1498  bk8fl3  DCcomics  Shazam! #6 Textless Variant Cover by Karmome S...   \n",
       "1499  bk8r7k  DCcomics  Cassandra Cain's HIC Style Confessional (art b...   \n",
       "\n",
       "                                               selftext  \n",
       "0                                                        \n",
       "1     Trying to really get into batman in the 90’s p...  \n",
       "2                                                        \n",
       "3                                                        \n",
       "4                                             [removed]  \n",
       "...                                                 ...  \n",
       "1495                                                     \n",
       "1496                                          [removed]  \n",
       "1497                                                     \n",
       "1498                                                     \n",
       "1499  https://imgur.com/a/OUiLipy\\n\\nSource: https:/...  \n",
       "\n",
       "[1500 rows x 4 columns]"
      ]
     },
     "execution_count": 176,
     "metadata": {},
     "output_type": "execute_result"
    }
   ],
   "source": [
    "dc_submissions"
   ]
  },
  {
   "cell_type": "code",
   "execution_count": 177,
   "metadata": {},
   "outputs": [
    {
     "data": {
      "text/plain": [
       "434"
      ]
     },
     "execution_count": 177,
     "metadata": {},
     "output_type": "execute_result"
    }
   ],
   "source": [
    "dc_submissions['selftext'].nunique()"
   ]
  },
  {
   "cell_type": "code",
   "execution_count": 178,
   "metadata": {},
   "outputs": [],
   "source": [
    "#Some titles are duplicate which will be removed in Data Cleaning"
   ]
  },
  {
   "cell_type": "markdown",
   "metadata": {},
   "source": [
    "### Combine dataframes for EDA and Data cleaning\n"
   ]
  },
  {
   "cell_type": "code",
   "execution_count": 179,
   "metadata": {},
   "outputs": [],
   "source": [
    "df = pd.concat([marvel_submissions[['id','title','selftext', 'subreddit']], dc_submissions[['id','title','selftext','subreddit']]], ignore_index=True)\n",
    "df.to_csv('subreddit_submissions.csv', index=False)"
   ]
  }
 ],
 "metadata": {
  "kernelspec": {
   "display_name": "Python 3",
   "language": "python",
   "name": "python3"
  },
  "language_info": {
   "codemirror_mode": {
    "name": "ipython",
    "version": 3
   },
   "file_extension": ".py",
   "mimetype": "text/x-python",
   "name": "python",
   "nbconvert_exporter": "python",
   "pygments_lexer": "ipython3",
   "version": "3.7.6"
  }
 },
 "nbformat": 4,
 "nbformat_minor": 4
}
