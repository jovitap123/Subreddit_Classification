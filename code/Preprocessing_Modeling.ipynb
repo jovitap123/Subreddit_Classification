{
 "cells": [
  {
   "cell_type": "markdown",
   "metadata": {},
   "source": [
    "### Import Libraries "
   ]
  },
  {
   "cell_type": "code",
   "execution_count": 579,
   "metadata": {},
   "outputs": [],
   "source": [
    "import numpy as np\n",
    "import pandas as pd\n",
    "import matplotlib.pyplot as plt\n",
    "import seaborn as sns\n",
    "import nltk\n",
    "import re\n",
    "\n",
    "%matplotlib inline\n",
    "\n",
    "from nltk.corpus import stopwords\n",
    "from nltk.tokenize import RegexpTokenizer\n",
    "from nltk.stem import WordNetLemmatizer\n",
    "from nltk.stem.porter import PorterStemmer\n",
    "from bs4 import BeautifulSoup \n",
    "from sklearn.preprocessing import FunctionTransformer\n",
    "from sklearn.feature_extraction.text import CountVectorizer,TfidfVectorizer\n",
    "from sklearn.feature_extraction import stop_words\n",
    "from sklearn.neighbors import KNeighborsClassifier\n",
    "from sklearn.linear_model import LogisticRegression\n",
    "from sklearn.naive_bayes import BernoulliNB, MultinomialNB, GaussianNB\n",
    "from sklearn.tree import DecisionTreeClassifier\n",
    "from sklearn.ensemble import BaggingClassifier, RandomForestClassifier, ExtraTreesClassifier, AdaBoostClassifier\n",
    "from sklearn.pipeline import Pipeline\n",
    "from sklearn.model_selection import train_test_split, GridSearchCV,cross_val_score\n",
    "from sklearn.metrics import plot_confusion_matrix"
   ]
  },
  {
   "cell_type": "markdown",
   "metadata": {},
   "source": [
    "### Import cleaned csv"
   ]
  },
  {
   "cell_type": "code",
   "execution_count": 482,
   "metadata": {},
   "outputs": [],
   "source": [
    "df=pd.read_csv('../datasets/cleaned_submissions.csv')"
   ]
  },
  {
   "cell_type": "code",
   "execution_count": 483,
   "metadata": {},
   "outputs": [
    {
     "data": {
      "text/html": [
       "<div>\n",
       "<style scoped>\n",
       "    .dataframe tbody tr th:only-of-type {\n",
       "        vertical-align: middle;\n",
       "    }\n",
       "\n",
       "    .dataframe tbody tr th {\n",
       "        vertical-align: top;\n",
       "    }\n",
       "\n",
       "    .dataframe thead th {\n",
       "        text-align: right;\n",
       "    }\n",
       "</style>\n",
       "<table border=\"1\" class=\"dataframe\">\n",
       "  <thead>\n",
       "    <tr style=\"text-align: right;\">\n",
       "      <th></th>\n",
       "      <th>id</th>\n",
       "      <th>title</th>\n",
       "      <th>subreddit</th>\n",
       "    </tr>\n",
       "  </thead>\n",
       "  <tbody>\n",
       "    <tr>\n",
       "      <th>0</th>\n",
       "      <td>hnsorg</td>\n",
       "      <td>Daredevil by Bill Sienkiewicz</td>\n",
       "      <td>Marvel</td>\n",
       "    </tr>\n",
       "    <tr>\n",
       "      <th>1</th>\n",
       "      <td>hnsqr9</td>\n",
       "      <td>Thats probably the most obvious example of Ult...</td>\n",
       "      <td>Marvel</td>\n",
       "    </tr>\n",
       "    <tr>\n",
       "      <th>2</th>\n",
       "      <td>hnsvgp</td>\n",
       "      <td>Picture of Spidey  drew</td>\n",
       "      <td>Marvel</td>\n",
       "    </tr>\n",
       "    <tr>\n",
       "      <th>3</th>\n",
       "      <td>hnswrl</td>\n",
       "      <td>Just  little drawing  did</td>\n",
       "      <td>Marvel</td>\n",
       "    </tr>\n",
       "    <tr>\n",
       "      <th>4</th>\n",
       "      <td>hnt890</td>\n",
       "      <td>That suit did nothing for his ass</td>\n",
       "      <td>Marvel</td>\n",
       "    </tr>\n",
       "  </tbody>\n",
       "</table>\n",
       "</div>"
      ],
      "text/plain": [
       "       id                                              title subreddit\n",
       "0  hnsorg                      Daredevil by Bill Sienkiewicz    Marvel\n",
       "1  hnsqr9  Thats probably the most obvious example of Ult...    Marvel\n",
       "2  hnsvgp                            Picture of Spidey  drew    Marvel\n",
       "3  hnswrl                          Just  little drawing  did    Marvel\n",
       "4  hnt890                  That suit did nothing for his ass    Marvel"
      ]
     },
     "execution_count": 483,
     "metadata": {},
     "output_type": "execute_result"
    }
   ],
   "source": [
    "df.head()"
   ]
  },
  {
   "cell_type": "code",
   "execution_count": 484,
   "metadata": {},
   "outputs": [],
   "source": [
    "#Initiate to tokenize, lemmatize words\n",
    "tokenizer=RegexpTokenizer('\\w+')\n",
    "lemmatize = WordNetLemmatizer()\n",
    "porter=PorterStemmer()"
   ]
  },
  {
   "cell_type": "code",
   "execution_count": 485,
   "metadata": {},
   "outputs": [],
   "source": [
    "#Function to tokenize, lower case and remove stop words\n",
    "def process_string(df):\n",
    "    tokens=tokenizer.tokenize(df.lower())\n",
    "    words=[word for word in tokens if not word in stopwords.words('english')]\n",
    "    return (\" \".join(words))"
   ]
  },
  {
   "cell_type": "code",
   "execution_count": 486,
   "metadata": {},
   "outputs": [],
   "source": [
    "#tokenize, lower case and remove stop words \n",
    "clean_title=[]\n",
    "for title in df['title']:\n",
    "    clean_title.append(process_string(title))"
   ]
  },
  {
   "cell_type": "code",
   "execution_count": 487,
   "metadata": {},
   "outputs": [
    {
     "data": {
      "text/plain": [
       "['daredevil bill sienkiewicz',\n",
       " 'thats probably obvious example ultimates trying like movie ultimates',\n",
       " 'picture spidey drew',\n",
       " 'little drawing',\n",
       " 'suit nothing ass']"
      ]
     },
     "execution_count": 487,
     "metadata": {},
     "output_type": "execute_result"
    }
   ],
   "source": [
    "clean_title[:5]"
   ]
  },
  {
   "cell_type": "code",
   "execution_count": 488,
   "metadata": {},
   "outputs": [],
   "source": [
    "model_df=pd.DataFrame()"
   ]
  },
  {
   "cell_type": "code",
   "execution_count": 489,
   "metadata": {},
   "outputs": [],
   "source": [
    "model_df[['id','subreddit']]=df[['id','subreddit']]"
   ]
  },
  {
   "cell_type": "code",
   "execution_count": 490,
   "metadata": {},
   "outputs": [],
   "source": [
    "model_df['submissions']=clean_title"
   ]
  },
  {
   "cell_type": "code",
   "execution_count": 491,
   "metadata": {},
   "outputs": [
    {
     "data": {
      "text/html": [
       "<div>\n",
       "<style scoped>\n",
       "    .dataframe tbody tr th:only-of-type {\n",
       "        vertical-align: middle;\n",
       "    }\n",
       "\n",
       "    .dataframe tbody tr th {\n",
       "        vertical-align: top;\n",
       "    }\n",
       "\n",
       "    .dataframe thead th {\n",
       "        text-align: right;\n",
       "    }\n",
       "</style>\n",
       "<table border=\"1\" class=\"dataframe\">\n",
       "  <thead>\n",
       "    <tr style=\"text-align: right;\">\n",
       "      <th></th>\n",
       "      <th>id</th>\n",
       "      <th>subreddit</th>\n",
       "      <th>submissions</th>\n",
       "    </tr>\n",
       "  </thead>\n",
       "  <tbody>\n",
       "    <tr>\n",
       "      <th>0</th>\n",
       "      <td>hnsorg</td>\n",
       "      <td>Marvel</td>\n",
       "      <td>daredevil bill sienkiewicz</td>\n",
       "    </tr>\n",
       "    <tr>\n",
       "      <th>1</th>\n",
       "      <td>hnsqr9</td>\n",
       "      <td>Marvel</td>\n",
       "      <td>thats probably obvious example ultimates tryin...</td>\n",
       "    </tr>\n",
       "    <tr>\n",
       "      <th>2</th>\n",
       "      <td>hnsvgp</td>\n",
       "      <td>Marvel</td>\n",
       "      <td>picture spidey drew</td>\n",
       "    </tr>\n",
       "    <tr>\n",
       "      <th>3</th>\n",
       "      <td>hnswrl</td>\n",
       "      <td>Marvel</td>\n",
       "      <td>little drawing</td>\n",
       "    </tr>\n",
       "    <tr>\n",
       "      <th>4</th>\n",
       "      <td>hnt890</td>\n",
       "      <td>Marvel</td>\n",
       "      <td>suit nothing ass</td>\n",
       "    </tr>\n",
       "    <tr>\n",
       "      <th>...</th>\n",
       "      <td>...</td>\n",
       "      <td>...</td>\n",
       "      <td>...</td>\n",
       "    </tr>\n",
       "    <tr>\n",
       "      <th>2948</th>\n",
       "      <td>bk83dr</td>\n",
       "      <td>DCcomics</td>\n",
       "      <td>cant wait two mini series time got attention c...</td>\n",
       "    </tr>\n",
       "    <tr>\n",
       "      <th>2949</th>\n",
       "      <td>bk85mb</td>\n",
       "      <td>DCcomics</td>\n",
       "      <td>tuning andys guitar</td>\n",
       "    </tr>\n",
       "    <tr>\n",
       "      <th>2950</th>\n",
       "      <td>bk8cjg</td>\n",
       "      <td>DCcomics</td>\n",
       "      <td>love movie love scene made version hope like</td>\n",
       "    </tr>\n",
       "    <tr>\n",
       "      <th>2951</th>\n",
       "      <td>bk8fl3</td>\n",
       "      <td>DCcomics</td>\n",
       "      <td>shazam textless variant cover karmome shirahama</td>\n",
       "    </tr>\n",
       "    <tr>\n",
       "      <th>2952</th>\n",
       "      <td>bk8r7k</td>\n",
       "      <td>DCcomics</td>\n",
       "      <td>cassandra cains hic style confessional art psu...</td>\n",
       "    </tr>\n",
       "  </tbody>\n",
       "</table>\n",
       "<p>2953 rows × 3 columns</p>\n",
       "</div>"
      ],
      "text/plain": [
       "          id subreddit                                        submissions\n",
       "0     hnsorg    Marvel                         daredevil bill sienkiewicz\n",
       "1     hnsqr9    Marvel  thats probably obvious example ultimates tryin...\n",
       "2     hnsvgp    Marvel                                picture spidey drew\n",
       "3     hnswrl    Marvel                                     little drawing\n",
       "4     hnt890    Marvel                                   suit nothing ass\n",
       "...      ...       ...                                                ...\n",
       "2948  bk83dr  DCcomics  cant wait two mini series time got attention c...\n",
       "2949  bk85mb  DCcomics                                tuning andys guitar\n",
       "2950  bk8cjg  DCcomics       love movie love scene made version hope like\n",
       "2951  bk8fl3  DCcomics    shazam textless variant cover karmome shirahama\n",
       "2952  bk8r7k  DCcomics  cassandra cains hic style confessional art psu...\n",
       "\n",
       "[2953 rows x 3 columns]"
      ]
     },
     "execution_count": 491,
     "metadata": {},
     "output_type": "execute_result"
    }
   ],
   "source": [
    "model_df"
   ]
  },
  {
   "cell_type": "code",
   "execution_count": 492,
   "metadata": {},
   "outputs": [],
   "source": [
    "#Compile cleaned dataframe for modeling\n",
    "#processed posts-titles\n",
    "#Subreddits\n",
    "#id\n",
    "#target(Marvel:1,DCComics:0)"
   ]
  },
  {
   "cell_type": "code",
   "execution_count": 493,
   "metadata": {},
   "outputs": [],
   "source": [
    "#Convert Subreddit into Target\n",
    "model_df['target'] = df['subreddit'].map({'Marvel': 1, 'DCcomics': 0})"
   ]
  },
  {
   "cell_type": "code",
   "execution_count": 494,
   "metadata": {},
   "outputs": [
    {
     "data": {
      "text/html": [
       "<div>\n",
       "<style scoped>\n",
       "    .dataframe tbody tr th:only-of-type {\n",
       "        vertical-align: middle;\n",
       "    }\n",
       "\n",
       "    .dataframe tbody tr th {\n",
       "        vertical-align: top;\n",
       "    }\n",
       "\n",
       "    .dataframe thead th {\n",
       "        text-align: right;\n",
       "    }\n",
       "</style>\n",
       "<table border=\"1\" class=\"dataframe\">\n",
       "  <thead>\n",
       "    <tr style=\"text-align: right;\">\n",
       "      <th></th>\n",
       "      <th>id</th>\n",
       "      <th>subreddit</th>\n",
       "      <th>submissions</th>\n",
       "      <th>target</th>\n",
       "    </tr>\n",
       "  </thead>\n",
       "  <tbody>\n",
       "    <tr>\n",
       "      <th>0</th>\n",
       "      <td>hnsorg</td>\n",
       "      <td>Marvel</td>\n",
       "      <td>daredevil bill sienkiewicz</td>\n",
       "      <td>1</td>\n",
       "    </tr>\n",
       "    <tr>\n",
       "      <th>1</th>\n",
       "      <td>hnsqr9</td>\n",
       "      <td>Marvel</td>\n",
       "      <td>thats probably obvious example ultimates tryin...</td>\n",
       "      <td>1</td>\n",
       "    </tr>\n",
       "    <tr>\n",
       "      <th>2</th>\n",
       "      <td>hnsvgp</td>\n",
       "      <td>Marvel</td>\n",
       "      <td>picture spidey drew</td>\n",
       "      <td>1</td>\n",
       "    </tr>\n",
       "    <tr>\n",
       "      <th>3</th>\n",
       "      <td>hnswrl</td>\n",
       "      <td>Marvel</td>\n",
       "      <td>little drawing</td>\n",
       "      <td>1</td>\n",
       "    </tr>\n",
       "    <tr>\n",
       "      <th>4</th>\n",
       "      <td>hnt890</td>\n",
       "      <td>Marvel</td>\n",
       "      <td>suit nothing ass</td>\n",
       "      <td>1</td>\n",
       "    </tr>\n",
       "    <tr>\n",
       "      <th>...</th>\n",
       "      <td>...</td>\n",
       "      <td>...</td>\n",
       "      <td>...</td>\n",
       "      <td>...</td>\n",
       "    </tr>\n",
       "    <tr>\n",
       "      <th>2948</th>\n",
       "      <td>bk83dr</td>\n",
       "      <td>DCcomics</td>\n",
       "      <td>cant wait two mini series time got attention c...</td>\n",
       "      <td>0</td>\n",
       "    </tr>\n",
       "    <tr>\n",
       "      <th>2949</th>\n",
       "      <td>bk85mb</td>\n",
       "      <td>DCcomics</td>\n",
       "      <td>tuning andys guitar</td>\n",
       "      <td>0</td>\n",
       "    </tr>\n",
       "    <tr>\n",
       "      <th>2950</th>\n",
       "      <td>bk8cjg</td>\n",
       "      <td>DCcomics</td>\n",
       "      <td>love movie love scene made version hope like</td>\n",
       "      <td>0</td>\n",
       "    </tr>\n",
       "    <tr>\n",
       "      <th>2951</th>\n",
       "      <td>bk8fl3</td>\n",
       "      <td>DCcomics</td>\n",
       "      <td>shazam textless variant cover karmome shirahama</td>\n",
       "      <td>0</td>\n",
       "    </tr>\n",
       "    <tr>\n",
       "      <th>2952</th>\n",
       "      <td>bk8r7k</td>\n",
       "      <td>DCcomics</td>\n",
       "      <td>cassandra cains hic style confessional art psu...</td>\n",
       "      <td>0</td>\n",
       "    </tr>\n",
       "  </tbody>\n",
       "</table>\n",
       "<p>2953 rows × 4 columns</p>\n",
       "</div>"
      ],
      "text/plain": [
       "          id subreddit                                        submissions  \\\n",
       "0     hnsorg    Marvel                         daredevil bill sienkiewicz   \n",
       "1     hnsqr9    Marvel  thats probably obvious example ultimates tryin...   \n",
       "2     hnsvgp    Marvel                                picture spidey drew   \n",
       "3     hnswrl    Marvel                                     little drawing   \n",
       "4     hnt890    Marvel                                   suit nothing ass   \n",
       "...      ...       ...                                                ...   \n",
       "2948  bk83dr  DCcomics  cant wait two mini series time got attention c...   \n",
       "2949  bk85mb  DCcomics                                tuning andys guitar   \n",
       "2950  bk8cjg  DCcomics       love movie love scene made version hope like   \n",
       "2951  bk8fl3  DCcomics    shazam textless variant cover karmome shirahama   \n",
       "2952  bk8r7k  DCcomics  cassandra cains hic style confessional art psu...   \n",
       "\n",
       "      target  \n",
       "0          1  \n",
       "1          1  \n",
       "2          1  \n",
       "3          1  \n",
       "4          1  \n",
       "...      ...  \n",
       "2948       0  \n",
       "2949       0  \n",
       "2950       0  \n",
       "2951       0  \n",
       "2952       0  \n",
       "\n",
       "[2953 rows x 4 columns]"
      ]
     },
     "execution_count": 494,
     "metadata": {},
     "output_type": "execute_result"
    }
   ],
   "source": [
    "model_df"
   ]
  },
  {
   "cell_type": "markdown",
   "metadata": {},
   "source": [
    "#### Lemmatization"
   ]
  },
  {
   "cell_type": "code",
   "execution_count": 495,
   "metadata": {},
   "outputs": [],
   "source": [
    "marvel=\"\".join(title for title in model_df[model_df['target']==1]['submissions'])"
   ]
  },
  {
   "cell_type": "code",
   "execution_count": 496,
   "metadata": {},
   "outputs": [
    {
     "data": {
      "text/plain": [
       "'daredevil bill sienkiewiczthats probably obvious example ultimates trying like movie ultimatespicture spidey drewlittle drawingsuit nothing assresearch xmencollect current xmen seriestheres official funko favorite villain commissioned make kang kang conqueror popsomething randommay present cable cable cablesilver bronze age colorsavengers dont surrenderagents shield se totally excellent adventures mack discussion threadrussell dauterman wonderful giantsize xmen jean grey emma frostcake day gifts real cake day days reddit cake dayalex rosss avengersandy park art changes look like ultimate spidermancreate marvel version dc superhero girls characters would entailim little new marvel comics universe thor namor comics would recommendunion strikeforce marvels still going releasedmarvel reverses decision release select titles digital returning print stores updated schedule series like hawkeye freefall ghostspiderive got questionwolverine samurai inspired suitantman offer marvel unlimitedclassic bowen ghost rider statue photographyfriendly neighborhood spiderman gift thought sharezub confirms black panther agents wakanda last issue empyre miniseries cancelledhours worth work amazing late night grind spiderman spiderverse one best animated movies ive seen appreciate feedbackgender swapped wolverine looks like patty daytime hookersketch drew earlier would like know guys thinkstart iron man comicscould magneto crush infinity gauntlet thors hammerinfinity portfolio sample pagecaptain america fan art screamingpastastartpast bedtime grootempyre removed tieinsive tshirt since time say goodbye would dearly love get another anyone ideas could start lookinglogan sean murphy neeraj menonyoutubeone best spiderman covers alex rossinfinity portfolio sample page onecalled avengersdaredevil amp elektra rick leonardi neeraj menonmarvel spidermancaptain america reading ordermarvel flashback discussion ed brubakers captain americairon man faces mandarins ultimo robot tales suspenseguyz could rdj return tonny stark inn mcu theorieswatch guyzweek comics jul xforce dr strange empyre fantastic four strange academy ghost rider marvels black panther amp agents wakandadont see reason read comicscomic accurate mcu rebootdeadpool meets mcu spideybusy tfa trailer style black widow couple days im hyped releaseisnt greatest video time dont knowquestioniron man sahin duezguenpssssst thwipthor variant cover gabriele dellottoimagined heard predator alien went marvel original artpreview iwolverine larry hamahonestly never liked design marvels spiderman game boxes look generic uninteresting wish box arts showed nyc since thats pretty major element gameplayoh say see elijah bradley aka patriot young avengers julys character monthmarvel vs capcom inspired carnage venom drawings glitch style doneworking mcu tribute loved infinity sagaworking mcu tribute drawing loved infinity sagainteresting factquestion deciding ultimate marvel vs capcom marvel vs capcom infiniteseems like low ki guyagents shield season episode breakdown easter eggs amp episode previewmade drawing hulkiron man magneto dark phoenix collectible statues xm studiosevolution black cat cartoonsmarvel unlimitedmarvels greatest ships hulkling amp wiccan ultimate power couplefan art spiderman swinging city instagram hope yall likeimmortal hulk threshing placeseatmate thursday night screening homecoming adorable handmade costume suggestsquick question earthxdarkseid destroys dc universe thorned helpscream curse carnage artist garry brown confirms twitter comic canceled reveals inked pages canceled upcoming issuesloki know two stonesreflection spiderman far home look future mcumarvel scholastic launch allnew line original graphic novels young readersbit dilemmamust really suck fortune teller mufan art revivescreamwolverine vs handstories take place united states otherwise nycstewart lee incredible hulkcosplay great deadpool allowedspiderman favorite hero drawsusan storm cheated reed namorfutureyoull back totally hamilton inspiredinfinity gauntlet thanos wallpaper hd phoneidea morbius still happeningfuturistic tech looked like iron man volspiderman kimetsu yaiba characterseems relevantgroot awesome carving middle old golf course parents house pups scaleclassic spiderman vs greengoblin alex rossanyone know artisteverything cancelledive never watched marvel moviesbut ive found list online says order watch im starting iron man looks long journey fun one xdim looking new comicbook series try idea welcometoday painted one favorite images thor ragnarok acrylicbeasthank mccoy ever diedweird question comicsstorm ryan kellycarnage piece worked might posting next days px ocgoingcoming maestrodeadpool drawing little photoshop editguys searched google evan peters played quicksilver xmen movies movies hes starred section picture wandavision see im thinking theories going wandavision brief cameodeadpool drawing little photoshopasgardian storm artist jorge molina manzaneroswear im going crazyworst coronaaffected states india ruled bjp blame modi govt lockdownfailedweatherman another marvel mashupincomingdamaged scott drawingrecently got around playing spiderman ps game week heres throwback fanart made back announcedprequel trilogy ever created graphic novelssinger directed dark phoenixavengers infinity war breakdown new easter eggs found infinity sagathanos ed mcguinessmain reason watching captain marvelreally want build venom whole year made last year mask hand start anyone else made venom muscle suitlengths creators go order justify high intelligence superpower kind bizarre fantastic fourmarvel grew reluctant video gamesrogue artist john tyler christopherspiderman retrospectivefrank castle im coming punisherdrew tchalla black pantherupdated mcu chronological timelinetype xmen get mcuhelp identifying cover american dad episode cover really familiar think thats howard duck bottom right amp makes think animators put real issuemarvel heroes get prominent rolesoppression tribute njadaka erik killmongerxmen event recommendationsmarvel captain america first avenger super soldier serum vial prop replica making diycaptain america mighty avengersim happy tony stark died endgamefeel like thane gotg moviefinallymarvel guardians galaxy baby groot bomb detonator movie prop replica making diystorm comicsbest silver surfer arcsfavorite last story superherolets take look back black panthers first ongoing definitely strange still funmarvels spiderman ps far homeversevenom versus carnage clayton crainsince frank grillo play punisher miss entire decade mcustormmj future jobalways loved spiderman dont know startspidey sketch inkpresented without contextmade casual gambit rogue paintingmove tom hodgemove tom hodgesfanart tony time agofrank castle deep end punisherparallel universe everybody gets upgraded suitbezz collectsseries onespiderman questionfused black panther predator ochappens wolverine gets brain crusheddr doom disney series pitch epdont wanna go mrstarkgot double sided fantastic doctor doom slipmat turntable todaynano tech likemk endgame video challenge igbootstrap paradoxstrongeststill need book happy ones far amazing spiderman jms ultimate collection bookslove good cameoread secret invasion cant help root skullsdeadpool timevenom digital renderscarlet witch artwould situationfirst piece comic leg favourite panel first book venom lethal protector minus speech bubbles benny horizon high priestess tattooillustration venom beforeafterwatchable marvel animated showsdark reign siege gooddaredevil born fanartnew channel youtubeplwvgzyfavourite mcu moviespiderverse older miles morales could look likestoryline bettercaptain america predict corona virus backused machine learning emulate would happen spiderman played michael jackson turned nightmare fuel ocrobocop almost forgotten marvel showinfamous iron man alex rossnew series coming nova richard rideriron man colored pencil sketchfavorite character favorite moment comicscarol danvers character questionagent carnage fan aubig jackpotlittle tropic thunder reference found avengers think fitting iron man one gave linecomic avengers infinity war prelude issue sound captain america civil war moviefavorite ultimate alliance gamecaptain america shield compation captainamericasymbiotesfriends keep company trying times marvel gijoecivil war gt infinity warbar fight cosmic ghost rider geoff shawanywhere find comic sequalsive spent hours trying find characters artwork hardcore comic fans want help last dozen jeff slemons marvel monsters iielse feels sad magneto oldflexingthought yall may like lamp hate people see room irl dont mind sharing internetthink version venom version flash tompson ever get agent venombody art comic design collide jean grey fan comic coverlife imitates artsuperior spiderman designs got looks sensational spider man miles morales ultimate spiderman looksscott hellfire marvel mashupdont mind ketchups tvmark ruffalo gt hulk edit ideahello im role play someone picked iron man guys help say beat iron man like suits weakness weak spots particular weapon technology effect suit appreciate helpsdaredevil acrylic gouache paper stephen jorge segoviamarvel hawkeye humanflash thompson venommade hope lovemarvel revives uncanny avengers part dox roster want cyclops leads spiderman caps representativethor used stormbreaker bifrostxmen jim leedaredevilnever threaten pregnant woman young avengersdaredevil vs fiskiron man mandarindr doom jim leewow look iron man suit made frankly built insanemarvel red team seriesau characterlike marvels oneshots whatifs plain silly absurd every actually happen thorxmen series start fan cyclopsblack widowhoward duck issue original john poundcover artcheap chinese knock captain marvel figure savedtell unpopular opinions marvel heroes amp villiansannouncement reddit comic conhulk vs thanos infinity protocol teaser trailerposted dr strange artwork ago thought fine folks might like see collab im new friend ig thought holographicpsychedelic kinda style went perfect ole stephenrogue xmen selfson wolverine joe quesadainterested marvel cosmic secret invasion event worth read thoughdisney make live action xmen beast extremely popularlogan could use work like turnedpretty easy guessspiderman one goatsxperson trainingmade trailer deadpool let know thinktonys horrible planscarlet witchkid made awesome avengers endgame final battle scene legoupset titan thanosnick fury fan cosplaynova project works marvel studios exclusivevillain want see mcu nextclosing dogital storehelp need find issue patsy walke hellcatgoodbye webcomic flairnova rumors would like playiron heart coming disneyemmy screeners signed mike colton charlie cox jon bernthal first appearances luke cage daredevil punisher collection great weekendthought infinity warhappy may fourth heres everything star wars watch disney plusstarlord questionmarvel director phil coulson battlessymbiote spiderman take placecombination villains could cause mayhemixine gooba marvels editionwhats hot guys named steve sacrificing plane world warlong take thanos retrieve stonesquestion ab bp booksnova supporting characterssectaursmarvel comics sales marchhope one day see antman something like moviesthink would happen america marvel universe went war latveriahelp help kidsthink marvel comics ruined beyonderluis breakscannonball fanart favorite mutantdrew xmen fanartblack widow dampd build optimisedjohnny cash hurt cover ai mori logan moviespoileridea comic book storyoriginal creations black widows childrens wouldnt workhappened odens stafftony stark debtcaptain america mjolnir wallpaperreference vs art sketchsafespace snowflake real elaborated jokeanyone know comic earth spiderman revealed identity civil war undone one daygood todd mcfarlanes issue spiderman runrhodey epic facepalmtwo things go well togetherhomemade marvel face mask hope safe healthyspiderman film rankingvenomcrossover etchingstormbreakercomes comic book films tv adaptations director make vision listen fansmovietvspidey color pencilschoose creative team future great lakes avengers runelizabeth olsen sketchedguys toxic community hope fix fuckextended family fantastic fourspiderman yesterday love apreciatedwriter favourite marvel filmmichael fassbender magneto redesignjames marsden cyclops redesignwhos hyped art frm instabad guy wolverinecreate superherotype panels really dont help hanks reputation avengerswatch brand new wolverine tributecorrect way read major avengers eventsthor sebastián pírizessential big events read properlymarvel phase new relate dateswork progress thanos fanart thinktake wanda ocsuperheroes mcu earn first get paid yes tony starktchalla pay different system never shown movies quite frankly dont jobs apologize advance seems amateu repeated questionoc drew homemade spidey watcha thinkdont know brie got pants wantasm chance encounternew seller need help grade could someone please advise pics cant addtimemcu timelineyes pleasefinally finished break galactus odin silver surfermoon knight startthanos army survived avengers endgamedr strange could found better futurereference marvel hidden image findblack widow theorytwo references marvel hidden image findbeginalternative venom teaser trailer leakstart comicstier power would bayonetta marvel universecomics ultimatumhulks intelligence planet hulkspidermandracula paintingshout kid class playing finale battle scene endgame zoom callspiderman ever alternateuniverse otherwise led avengerssuperheros feel krakoaheres would fixed rhodeywar machine mcureally like sometimesberserker igrejected marvel storyline saw eddie brocks symbiote go heatnew xmen good starting point xmen startbad guymarvel flashback discussion meet skrullsfinally finished venom vs carnage artworkanyone else reading current daredevil comicim artist draws scenes marvel films retro comics vote nextwarriors madnesssince wearing face masks gloves labor day several months away nows perfect time wear white cosplay doctor nemesishello im new comics side marvel aka ive seen movies started getting marvel comics ones farusually dont care much stuff ive came realization today dont like mj peter brokenlooking youtube videospiderwoman daisy ridley amp captain marvel brie larson fan art papurrcatim currently watching marvel films order events release datemarvel thunder amp soldier edit madeempyregoing introduce fantastic xmen mcumarvel comics suck good runs storiesconan obrien accused bribing faculty get son xaviers school gifted youngsterswould appreciate guys could give watchspoiler warning made post earlier asking guardians galaxy came iron man event timeline much deliberation came theoryheartonys elementhate guy writing captian americaspoodermaniron man giving us foreshadowing plot see aim written backwards mia tony searches aldrich killian setting twist later movieseria odin um nazistaneed help finding episode incredible hulk gave nightmares kidinfinity war thanos fight complete resoundsound designlove xmenop items paint quarantine got paintingset coasters madeamazing spiderman omnibus vol printrandom question time spiderverse electric boogaloothor vs destroyerdesigned iron man repulsor viddesigned iron man repulsorroleplay unitystuck quarantine puzzlesorder watch mcuraza first iron man movie supposed human version starjammer alien raza comicsamazing spiderman worldwide absolutely one favorite scenes runemily blunt hasnt talked marvel fantastic four reboot rolecosplay unedited gambit cosplay middleage gambit mark robards photogrhphy tristan dudineiron man back avengersfirst try drawing venom spideyenjoy avengers infinity war trailer xmen days future past stylecarnage design seen ultimate spiderman limited edition introducing carnage videospider man vs teenage mutant ninja turtles tmnt epic bacivil war arc wasnt always perfect two moments glad loosely adapted captain america civil wardeadpool cable team fight sinisters squadiron man mark cosplay suit printedavengers alex grosscaptain marvel steve mcnivenmade memereading jason aarons avengersfanart marvelfanarts including thanos fat thorocintroducing double decker couch everyone watch tv together buddies unless dysfunction family like guardianslove commentevery morning friendly neighborhood spiderman swings open toolboxwolverine john giangneed avengers vs kkkmoved month ago saw street first time able catch pictureanyone read venom daniel wayarguments silly cartoon fanartimmortal iron fist gabriele dellotto variant cover iron fistlooks familiarimportant thing iron man skin carewatched marvel movies proper viewing order receipts includedquestion gods mighty thor spoilercaptain britain sketchhelp namerogue commissioned friend year agomarvel preview amazing spidermanamazing silk fanart anyone else hopes appears next spiderverse movieone five godrew stormspidermantoybiz lizard inspired earth lizardwent liverpool comic con today im spiderman middleinfinity saga fanart evan scale artwhos signaturerussos jj abrams done betterhighest grossing marvel movieselse would want see thunder treeguys think dolly think te drawresearch exactly ultron treat jocastadeadpool sketch rob liefeld digitally coloured practice fanarthelp remember ghost rider comicbrutal xforce wolverine franco carlesimo took definition turned levenguess one marvel villains realfemale loki cosplay hope guys likeamazing statue morbius franco carlesimobloodstone fans room got one today im excited anybody know marvel plans make collected edition ulysses elsa storiesquestion house powersrachel summers questioneye activatedavengers lifelight lyricsloki thor kiddos really miss honestlyhulks strength limitcaptain america pepe larraz david curieldont take symbiotes karaokebigger mauimoana hulk thingfantastic fouravengers inspired tattoo instagramsketch venom imfinished drawing baby groot may best color bit thought id post anyway got help draw ytheres idea goblins marvel flimsdeadpool clip studio paintthanos wallpaper seriessubscription kidtony stark kind pussy like couldnt even survive infinity stones smhmarvel figuresneed help identifying super hero squad toydeadpool vs wolverinequestion regarding spiderman chronological reading orderfind frequency current ongoing seriessweetsearching character namechibi ironman thor made backsomething bugging mcuthanos sketch infinity war daysblack panther vs joker bane epic battle detee cinematicvenom spidey fan art ocincredible hulk qnabrie larsons captain marvel chooses thanos ironman avengersopening new mutants promo box supernova melbournerelatable lolshehulk amp gamora otto schmidtdaredevil cosplayfantastic fourspiderman graphic novelupsettinghappy international womens daypeter whoaeddie good come guys hang togetherive passing time son nicu doodling top pictures meet parker reedstill waiting th season underrated xmen cartoon time art steve gordon actual artist showodin good father mcustart reading thor captain americaknowstoked score couple dollars today awesome coversword master vol questionjean grey dadrianartsphase mcu movies emotional impactfavorite characterfirst avenger igcaptain native americarest trophies engineering group made competition school lightmcu spidey would work much better disney showmarvelous coupleschism design artoflucasig mercmonsterhmdo guys think ever see thanos clones whether comics bigsmall screenmarvel legends collection thus farpalpi wouldnt stand chancecards madefancast norman osborn green goblin damien lewisnew lock screen trailermarvel characters looks animal avatarspidermanbrie larson back captain marvel release date confirmedman spider man al tufinonotice screen red light weird colored roomfar awayimportant comicsmarvel running giveaway years marvel unlimitedcollections partart miles morales inspired ultimate version spiderverse version ig mercmonsterpatton oswalt talks bit new modok series new interviewdaredevil alex maleevtook time cut thought would make good reaction image black catdisney infinity xmen series imagined hector moranepisode wakanda shocks world pthot toys announce avengers endgame thanos battle damaged version scale figuredaredevil fanartthor replace superman metropolis gobuy new black widow posterspunish digital artmarvel least wanted villains mcu phaselaunch disney netflix marvel shows still canoncivil warnothope future marvel opinionwandavision theoryiron man mk cardboard duct tape armourspiderversethats deadpool dvd btwcurious snapchibi hulk finishhhblack widow post credirnephew made show lovelove spidersuit mj cosplay pretty excited cosplay mj black cat weekend favorite marvel ladies ltamazing spidermanmarvels falcon winter soldier everything need knowandy serkis statement venomgood non reddit forums discuss marvel comicstwo women franklins life xmenfantastic four variant cover javier garrontwo women franklins life xmenfantastic four variant cover javier garronbest ongoing marvel comicsrewatching iron man found mean anything experience everything put reasondoctor doom getdachoprabasically whole marvel fandomlmao lolsam raimi talks direct doctor strange exclusivemysterio sketch lunch breaksomeone tell characterssam raimi talks direct doctor strange multiverse madnesshelp wantedcan someone tell whose emblemreadydrew doctor strange batsmemory tony stark iron manxmencould doc ock lift mjölnirintroduction avengers way backrememberlong asgardian dayghost rider vs galactustwitter user colinfirh makes edits pedro pascal tony stark one amazing ltwant start reading characters comics dont know startraimi direct doctor strangetruth hurtsvince colletta inker ruined jack kirbys art youtubefinished final season runawaystrailer goku dbz vs team hulk battlechase finds terminal saviour captain america endsam raimi director toby maguire spiderman trilogy talks direct doctor strange multiverse madnessever germanyxmen fantastic four reed richards vs professor agendas abound summarizationreviewant man always confined limited seriesironman back upcoming marvel moviegoku dbz vs team hulk full video battleffxmen franklin richardsfull rare deleted scene thor ragnarok hdcostumes ultimate alliance getvalkyriejane foster jason aaron goodtony stark iron man jarvis backgroundsound vistattoo instagram guys thinkdoctor stranges portals vs hulks skinanimated cover color doctor strangeposter decorationspiderlife anhad ajit singhhistory marvel films leading box office sinceemperor palpatine vs thanoscharacters marvel shows met characters marvel moviesthink venom good handsrereading fractionaja hawkeye inspired draw little something new yearsmarvel universe series ii trading cardsgood starting graphic novel startsorry youve never seen tangled scenes similarstucky best relationship mcu marveltime dudesposterstumbled upon felt like watching first timecaptain spidercurrently bed bound weeks recovering major surgery decided rewatch films beginning healskip ahead waitstorm trooper thor ragnarokcat dr strange fanexcitedspiderman ladies man dike ruanknow meme already old image made laugh hardmarvel zombies resurrectionmorbius fan posteranswer makers question venomspent hours today making vector image poster spiderverse hope guys enjoywillem defoe comic accurate green goblinupcoming superhero movies dc vs marvel movies release dateswilliam dafoe comic accurate green goblincomiccon valuablecharacters youd like see infinity stonesexpense wolverine slightly exaggerated look defeats embarrassmentsshowing love god thunder aint much know please show collectionsthor ragnarokhappen run guy ampspoiler dr doom comic predicted wwhope ratedguys want see spiderman venomdrew wandaposter made upcoming black widow moviemarvel fanfic writtenmcu fanart made months agoheres thought ironman recreate caps super soldier juice dont want ruin caps life purposeanyone remember villains oirdon similar ffchris evans elevator fight rehearsalchris evans rehearsing elevator fight scene winter soldier coolthors weaponscosplay end every game cttodaredevil dike ruanspiderman freehand artworkdonny cates beginvideo made wolverine fan friendscomic recommendationswolverines expenseunique male super hero costumes marvel universejoe ryan comicsrumor newlysurfaced wanda vision audition tape seemingly hinted return quicksilver seriesmarvel lego superheroes marvel ultimate alliance marvel ultimate alliancedonny cates brings thunderportalsfrom endgamethought guys might like miles morales jacketcover marvel calendarhappy disney finally using xmen property mcuwanted rrated horror filmmany possibilities bruh deadpool xmen venom imagine many unexpected characters showgottlieb spiderman pinball friend sold highschool finally working thought id sharefan art stormhulk namor back belonggoing middle east line cap really resonateswin mrstarkhe knowmonths grinding stark finallyone year reading comics marvel unlimitedyears wife finally finished deadpool drawingcool hate avengers endgame closer look responsephotoshop montage could mcu xmenanyone marvel ultimate alliance code xboxmonth hyped readbought caps shield dads birthday take picture wraping hahaavengers infinity war demastered shot shot recreation infinity war budget high schooleravengers books feature original mcu lineupblack widow yummy justin biebervs cap told worryspiderwoman variants marchhey guys interesting triviaseedeadpool good tried hardest thats countscinematic venoms villainous sidensfw wolverine questionwant another ghost rider movie damn badkey lifting mjolnir thinking worthy thoughts obviously avengerspeople men universe hates mutantsthanos vs hulk hulkbuster fight infinity war spiderman vs venom captain marvel amp bladeanyone know illegal post spoilers wednesday released comic monday tuesday form youtube discussionreview video know please explain got information qualifies know law casephotoshop montage mcu xmen could look likefavorite spiderman movie seriesexclusive marvel comics preview amazing spidermanguys think stark uploaded brain safe place making snapdare mock doomshehulksuperman wonder woman seen wielders mjolnir jane fosters thor bookindependent axe every pale male stale superhero character get handsindependent axe every pale male stale superhero character get handscelebrating marvels stan lee primetime special hosted clark gregg airing decemberdooopppeeeesilver surfer michael turner digitally edited coloured fanartsister knows love marvel made thing christmas tree toys kinder eggssister knows love marvel made tiny christmas tree kinder egg toys ornamentsthanos skull accordingmeeting neighbors visionblack widow solo movie going infinity sagasee absolute winfollowing script order episode xavier remembers xmen animated series jean grey randomly back normal dark phoenix saga never happened suddenly back normal screwcant accept black widow marvel superhero moviecaptain america killed captain america returned stones avengers endgame plotholereddit mutants excaliburcould someone please create gif baby groot kicking baby yodas ass im sick hatersfalls different every yeariron man attacksmarvel character appears box marvel champions card game stilled friendsinternets slamming marvel black widow trailerfamily back togetherbatinthesun black canary vs black widowcouple baddiescome iron man house malibu iron man first avengers tower took place iron mannightwing amazing spidermancouldnt sleep heres black widow wallpaper made using six different images thanks sorting new fanartmark ruffalo man whose enormous wealth forged fires capitalism commercialisation media wants deprive rest us opportunities made filthy richmarvel references superman wonder woman worthy mjolnirtaskmaster spider mans next villain played iko uwaishey marvel think guy forgot cut framesthrowback cool mission impossiblestyle hologram mask winter soldier never usedcontinuity errorhulk brothers smash avengers go spiderman ironman captain americaavengers amp infinity gauntlet battle go hulk spiderman ironman capabyss count canonim interested see race affect sams taking captain america mantle mcu captain americaawhile back thought id post nowsee find referencesrough colossus sketch requestedblack widow feature iron mangiantsize xmen de nye medlemmer marvel på danskmans playing galaga got new arcade machine barwhosoever holds hammer thor worthygot extremely lucky past weekend happened asheville nc todd mcfarlane announced surprise signinglove marvel thing couldnt miss sell everything shop bitlybmxlz get marvel hoodies oh forgot say live earth ship freesuperman ww wield mjolnirblack widow vs black canarymucic new black window trailer sick anybody know namedoh yeah go get emtick crossoverwomankind spaceship hole middleknull isnt thor cates confirms worried venom crossoveractually like knull im glad getting something different thats cates excels imoloveevolution spider manself printed iron man mark armour built stand suit pieced together printing small hip foot parts final fittings adjustments leds shipped never truly thought id something like let alone say madestrange academy trailer marvel comicsthanos needs help theres huge contest france best villain retard baguettes voting joker please come help vote thanos hours left end contestlooking something good readmr sinister scalphunter join newest xteamfinished reading universe im frustrated know never payoff squadron supremedomino deadpoolword ryan reynolds new great lakes avengers seriesavengers endgame time bandits better effects change mindprofessor hulk serving tacocute missexclusive preview fallen angelsspiderman far home kdd steebook coming soon blufanstracking marvel unlimited issueblack widow trailer bohemian rhapsodymint condition peter davids incredible hulkmarvel abc announce celebrating marvels stan lee tv special real stan leedifference release date vs published datequestions marvel mostly iron manthought guys would love newest tattoo muchdisney animated seriessymbioteslong hulk sakaarspidergeddon would problem morlun new archnemesis peter peter parker spectacular spidermanband director passing music guys foundlook got todayultimate spiderman omnibus volhell spider man tvma thats biggest error ever seenill leave captain marvel credit goes guy youtube drew heres link youtubegfmctgywdscustom iron man display case ive working still wipeve ewing recaps ironheart says farewell seriesblack widow art bluemistasgard device siphon tesseracts power pretty coolnew dope wall artanyone good hand combo suggestionswould happen god snapdaredevilborn brilliant story terrible endingguys david harbour going black widowface _____ ___ ____ ___ ___ _______invincible hmmmmmblack widow skrull confirmedavengers spiderman vs venom battle go hulk ironman captain americagame awards week mua dlcdrew old man logan sketch agoget downvoted bc fortnitebad love much made btwlast weeks books available mumarvel iron man terninator originally made guys like please check insta lot marvel content awesome day guyswakanda forevercast original xmen new disney xmen films start original xmen post second genesisghost rider vs ironmanmarvel battle lines game terminating servicereality warpingmadecant recommend pack enough lovingcap tried choke robotblack czt vs catwomanspiderman franchise expert lets see score commentswhos realistic avenger meaning core sixcant marvel utilize malibu comics charactersalready posted spiderman subreddit figured yall would like linkspiderverse post credit scenedear funko thank releasing awesome marvel characters week cant wait rest ganganybody remember way back ultimate avengers avengers moviehulk smashtransphobia gender binary male hegemonyreal herorumour third antman movie set start filming january according actor michael douglasdisney xmen movie plothated steve rogers ending avengers endgame postdoctor doom vector speed artwell know jarvis whole stark tower didnt warnnotify intruder iron man answers guysavengers infinity war black widow vest shopsam ohara childs union jack curious world kristian lander podcastcomplete fox xmen saga series massive highs lowest lows cant wait mutants returnavengers go hulk spiderman ironman defeat thanos infinity gamotivational life story robert downey jr inspire become somethingnew avenger luke cage replace hulk marvel phasemarvel mix bulletin edition ants spidersscored absolute classic comics always politicalgamora costumedrew hybrid ultimate symbiotequick sketch everyones favorite webslingerbuyelf offensive war realmshot toys announce new spiderman negative suit scale figurespiderman spiderverse glitch poster show love guys follow instasmallville easter egg guardians galaxymarvels hero project proves heroes wear capesmade favorite scenes infinity war classic marvel titlepagemarvels official trailer new podcast marvel amp stitcherfour horsemen dolphin noisesmodel actress iman first choice storm xmen movies going interview stormmarvel legends grey hulk coming decembermarvel studios announces production begun falcon winter soldiergalactus sourcebookdoctor strange commissionbit latesuperherovillains ideaskorg voice darth vaderawesome team concepts never went anywhere come backscott amp cassie lang team new antman titlegood captain marvel comicstime yearwolverine variant editionpretty dope wanda cosplaywould spiderman gives push need often care admit amazing spidermanmarvel teleportersfound walgreens god love thonas hes favorite characterhey even endgame came ago friend made video playing guitar song portals go check cause wont disappointed dont let die newwwww youtube warren kimryan reynolds making fun dc lolleaked footage spiderman vs antmanlittle late finally got hires shot tony stark halloween costume yes drink fake goatee real babyim really loving last arc series new warriorsgot spidey workfinished big ass antivenomsebastian stan shared behindthescenes photo set falcon winter soldier appears bucky barnes military dog tagmartin scorsese like idk watermarksplease stop asking martin scorsese doesnt fit definition cinema ffsthanos shoethink silver surfer requiem kida overrated many serious plot holesmoon knight halloweenthoriron mandave dohrmann welldocumented sexual predator amp former gazillion marvel heroes ceospiderman spiderverse glitch poster show love guys follow instareport eternals set evacuated bomb discoverybeginstime foggy nelson slapped juggernaut punisher kill krewthing might go back flesh time anyone else dying eventually hear news ff mcuneed help finding series omnibusiam iron mantony stark spiderman relationship exposedinfluencer thanos use filters check faces look real enough recognized instagramred hulk smash hulkbuster team stop marvel toys super herohel vs hell marvel universeamazing spiderman issue nick spencer keep saying name deliscious brand instant ricemarvels eternals filming halted due bomb scare angelina jolie others evacuatedccnrussiafun loving song awesome spidermanenjoyquitelol made night monkeylore question lockjaws antenna part accessoryfamily opening endgamewhats craziest moment saved lives made biggest difference marvel comics excluding infinity gauntlet stuff course make sure mention hero made difference wellgoose always winspumpkin venomthings got first ever comic con know arent marvel artistmade mysterio poster three five popscatwomandc comics vs black catmarvel animationmcu iron man goes crazy power dropped real earth hellbent mission wiping military forces taking earthcharacter origin timelinesdawning new day time upon us ascension complete eternal one en sabah nur aka apocalypse one worlds first mutants octobers character monthmarvel character get disney seriesjackovenomjubilee wasnt included movieschuck norrisfirst attempt deadpool know completely accurate hope like going marvel characters inktober challenge instagram anyones interested cheerstribute favorite marvel comics characterhandwritten movie script poster avengers endgame silhouette iron man hours hours hard work finally paidfollowing marvel comics buy nextnext infinity wa endgame eventbring back ironman deadim danny randdeath penancemet thor captain america disneyland managed upset thor rd favouritecatch current xmen storyline last comic read uncanny xmen xmandisney ceo bob iger spiderman dealvenom drawing ak db arthappy finally issues books doomstrange revive tonyhandwritten movie script avengers endgame silhouette iron manmartin scorsese watch marvel movies says mcu titles cinemaspiderman spiderverse anime openingsaw guy wearing local mcdonalds last night stoked movieclock school bus broken spells rdj know meanssaw endgame first timefan first game would lying said didnt look promising promisingtrinity avengersavengers assemble tv seriesmartin scorsese says marvel movies cinema okrobert downey jrs oscar woes joker cant blamed iron mans shortcomingsdoctor strange multiverse madness may resurrect two dead mcu charactersmcu infinity saga screen time per characterbest made spiderman movie spiderverse includedmade chibi versions avengers infinity war characters last yearjean grey cosplay ltreally hard time locating photodr stranges magictop favourite marvel superheroesmartin scorsese says marvel movies arent cinema says closest thing theyre theme parksstrongest telepathmarvel dcago hope guys likeshowerthought spiderman pulled punches thanos infinity warfond memories beganshopping mall hong kong spiderman stop covering face illegal hkspiderman helpstar warsbest dance everinktober far homethanosaurous rexwant know instantkill would looked like homecoming without iron spiderinfinity saga collectors editiondrawing spiderman far home really happy comes back mcuunlockable king thor outfit revealed new marvels avengers trailer teasesgiving away marvel legends war machine punisherson fan iron mannightmare fuel material courtesy beta ray billsaw guy epic marvel phone back groundsnews marvel realm champions new marvel mobile game announcedwatch mcu movies dayohhhhhh doesnt want let go figures lolfinished house goworst best mcu final battlesavengers assembleimagine jean white phoenix reality warps entered galaxy hear news big solar storm heading wayanyone think going see xmen fantastic four possibly avengers franklin playing big role storydont understand people talking shit avengers age ultron one favorite movies mcuanimated friend school informative video end goes flying teacher shaked handsideal film sinister line mcu andor sonyversethor tried stop thanos shown movieal ewing new writer guardians galaxygetting back immortal hulk train october good horror comicsincredible hulk musicalmarvels avengers ms marvel announcement trailerdonny cates officially taking thor jason aarondonny cates write thor jason aaronvenomnibus purchaseeverybody hates clone sagahope one lines moonknightben grimm genitaliamarvel fanshandson gameplay impressions ms marvel avengerspredicting hc releaseshmmscorsese trending wonderbest made spiderman movie spiderverse included gonova rydermade avengers art piece celebration avengers gabe coming next year check twitter wellnew spiderman update sony disney deal reportedly soonnoncanon fan artreally shouldve snapped fingerslesser known comicsbombastic bagman cosplay dragonconmanual approval death subthanos already conquered planet wiped half population half thenhalf population still wiped snapthanos power stone shoots energy blast dinosaurs jurassic world game made unityops sister rips stan lee autographwatching endgame thought scott comes back old man quantum realm mean lived whole life timeline sent quantum realmdeadpool drawing madesomeone tell one moon knight comic carves moons victims headsmarvel collection cull obsidian way well update photo includedpainted ghost rider instagramcommoe_dotkree vs real worldwhove got hulk thingstanreading house powerspassed cool custom avengers decal back barracks weeks agogggallowed jeph loeb write terrible book like ultimatesbringing gwen stacy back permantentlyeveryone loves marvel needs see video least timesjon snow robb stark got roped marvel movie oyeyeahsomething noticed scene golden gate bridge xmen last stand could given magneto real evil plan would great trilogy endranking super geniuseslets see aaronsecret reverse announcedcap capscreenshot took gameiron man actually trying kill simply defeat captain america civil warmarvel comics going oneshots eternity mask plotlinecharacters like mad jim jaspers matthew malloy fulcrum canon one shotcharacters like mad jim jaspers fulcrum matthew malloy canon one shotgambit paintingexpo met cb cebulski editorinchief marvel comics presented bampw variant expo marvel printedknow someone postedthor god thundergtthe immortal hulk trade paperback reading orderspider man spider verseholpowerful villain peak excluding beyonder shuma dormammu abraxas cytorrak thanos etc would ranknever thought id saying proving one important figures marvel history moira mactaggert septembers character monthmarvels slice chaos magic scarlet witch essential reading guidepeople need read piece artdream xmen movie mcubucky keep red starexpo receieved special marvel exclusive bampw variant cb cebulski copies printedchicken sandwichestook two hours risk painting also add backgroundpathfinder rpg character conversion guide hulk cross postsmall shoot new mysteriobehind scenes portals scene avengers endgamemade infinity war like lovesecret reverse kazuki takahashicaptain marvel inspired ugodzillas silver surferendgame questionspiderman drawing thinking coloring dont know colorgiven extra copy absolute carnage would anybody like digital version codereally cool animation spidermanbringing earth gwen stacy back permanentlyold school project childhood idol stan lee ripspiderverse spidergwen cosplay shiroganesamaterms powers separates one spiderperson anotherwondering many super serums comics moviesmarvel bettermarc becomes moonknightthanos vs darkseid darkseid thanos winssaw another silver surfer wallpaper figured id post one made well let know think made using picsartthanos asstop panels weekwanna remind everyone particular reasonguys highest grossing movie ever billion dollar movie universe darkseid victory actually im underdog type battle made happy thanos vs darkseid marvel vs dc death battleloki tv theoryavengers everlasting exchangethor always worthyknow whatd great spiderman amazing friends remade new series following miles kamala ms marvel sam novafalcon winter soldier season take inspiration secret empirebesides champions recently nova sam alexandersnapping considered insensitive future mcuinnocent heroesvillainswtf justice league star warsrusso brothers ever commented natasha worthy lifting mjölnir mcugraphic design passionanyone know whats going sonymarvel spiderman partnership updatesboi yissversion caps endgame suitget comicsanyone know find spider man animated series dutch spoker versiontom holland tv show may anything marvel thought would uploadvenom spiderverse shoes slowly becoming hype beast buying marvel shoes theres lotjoker always top endgame released cant change mindfine guysstepped away comics kid ive rekindled love im happy arrivednew avengers bendis thoughtshaul got local flea market cost around together pops comics arent marveldrew venomanyone google doc marvel reading orderhello everyone wanted start daily post list discuss everyones favorite moment mcu daily someone new includes movies infinity saga today lets start favorite guardian groot everyones favorite moment grootpower packgrandfather watching endgame doesnt even know whats comingmarvel collection faragents shield season finale se sign new life discussion threadways wish marvel cinematic universe gone differentlyinking favourite marvel character bag might best im proudiron lobsterhighest grossing movies time augustwanted sayinteresting tidbitisnt theme used anymore great theme seems overshadowed avengers onemarvel comics easter egg upon time hollywoodmarvel expanded universe bookposter would guys mount behemothanyone know hero black blue shirt im lostrunsbrands non continuitymedium powered charactersthanos captain planetfan art captain bats commissioned amalgam piece brothercaptain americas excellent adventurehelpanyone else remember fighting game marvel nemesis rise imperfects ever comics tie ever something original characters gamethink happen quicksilver potential mcu xmen movie workshi people copy amazing spiderman signed stan lee anyone idea would worthquick spiderman shirt paintedhope spiderman becomes marveltheory next mcu big badhey fellow fans sorry rules quick questiondae think david harbour would make great kraven hunter rd spiderman movietop best superhero moviessomeone send res pic iron man scene trying make posterlot people say tom personality hes barely anything like spiderman comics lot people say andrew felt like important tell joke people getting killed tobey spiderman definitive spidermanclint barton smartphonefinished secret warswould love see mcu venom like didnt draw venom take picture combinedquick whiteboard sketch great rip stanatlantis rising see suethats factcomics introduce beta ray bill good story arcssecret empire actually wasnt badliana ramirez kate bishop ryan reviewsthink dont think storm atomokinesisliana ramirez kate bishop jake bartokscreenshot anyone poster worthyfinally done almost months finished mcu infinity saga supercutever think wolverine stabs someone blood enemys goes hand bladesyears ago day guardians galaxy released happy birthday guardianshuman torch iceman close friends eachotherultimates famous predicting sam jackson nick fury less jokeultimates famous saying sam jackson would play nick fury film version also contains ironic one jokesecret invasion worth readinglil summ whipped originalavengers endgame iron man scenebreaking comicsleftfirst comic booksbrooklyn street artfilmtelevision remember elevator scene endgame cap says hail hydracould anyone tell worth anthing stumbled uponoh startingblack widow died endgame didnt make black widow movieinstant copanyone else excited absolute carnage startpost heroes reborn avengers chris stevensspiderpeople get bit radioactive spiderlook marvel booth activations games fest minneapoliseveryone notice stones fall gauntlet onto ground tony tried snatch gauntlet thanos final time see stones lying front thanos looks like tony never intended snatch stones made best opportunity felllove questionmarvel comics collection crossover events think need buy nextnapkin doodlelittle fan artspiderman really thiefunderstand love kevin feigemarvel studios roomperfectbest books epic collection line characterlooking start reading comics dont know startbuy spiderman complete alien costume saga bookscloak levitation changed black doctor strange runspiderman xmen runs fitmarvel series people blipped awkward moments would funnyvenomaniacs covers absolute carnage new weekly podcast seriesneed information spider gwensomeone spoiled ultimate spidermannoticed benedict cumberbatchreview mark suit iron manget sleepersguys thought plot hold endgameim sayin cap could jump st movie like skipping rocks surfing idk couldalternative endgame ending tobey maguirewant start reading comicsthanos let wanda destroy mind stone purposereally dont like redesign blackheart looked unique creepy back day possessed marvel redesign generic horror movie monsterwes anderson directed xmenreading though older spiderman comics came across great advice stan leeideaanyone know series collected formatcollection would recommend seriesdigital venom fanartremember time spiderman wolverine swapped bodies ultimate universedad told seeing far home todaycomic scene felt character someoneopening day imax goodies far homefar homeign users want spiderman star hollywood walk famemoms brother collected comic books foundwouldnt jane except treatment asgardiansspiderman far home thoughtsposters watching far home outside theater freedraw tom holland spiderman far homestill angryneeds marvel animated universe hulu andor disneygreatest hits ultimate universegtspoilerltmay actually tease fox related property far homespider manthink cat might flerken sometimes name mortimerspoiler endgame might asked bugging happens people werent snapped years older people eventually returns get aged backsince disney bought foxvenetian spiderman pattern inspired spiderman far homespoiler spoiler spoiler spoiler spoiler spoiler spoiler spoiler spoiler spoiler spoiler spoiler spoiler spoiler spoiler spoiler spoiler spoiler spoiler spoiler spoiler spoiler spoiler spoiler spoiler spoiler spoiler look unless youve seen new spiderman movie spoiler spoiler spoiler spoilspoiler credit scenephase teasedouble gaspoh snap real boiactually good idea bring ton moneymarvel insider survey codedang miss daredevilquick petition get keanu reaves play doctor doom mcu easy someone cause dont knowneed watch engame understand new spidermanopening night far home ruined usquestion spiderman far home followpeter parker comics become adultlooking get back comicslook marvel statues collectionunpopular opinion hate mcu spiderman sortspotlight release week immortal hulkwent go see far home today theater giving huge posters anyone else score onehand drawn strangespiderman far homereally fixing timelines itunes movie cover wolverinekept avengers titles since dissemble questionspiderman far home official international release discussion megathreadenjoying new bedroom artcasting choices xmen fantastic four othersspider manmarvel needs endgame beats avatarspooder manffh spoiler memebig frank cho fan find book artlighting superstar hulkbuster smashupself gambit cosplay planet comiconmaker confusionserious question people new hulkspiderman far home amazing film filled great action fighting sequences cgi effects also lst film infinity saga full movie reviewfirst appearance makerbest quotes mcu chronological avengers assemblesign petition film music fans please help sign petition get second part dark phoenix soundtrack hans zimmer prepared second part us unused music ideas didnt make movie thankstop pretending hugh jackman wolverinepossible new spider man suits revealed film spiderman far home discussionmysterio far homemarvel universe tier listspiderman far home post credit scene explainedmade video essay iron man fancy suitfinallyyyyyspiderman spiderverse improved framerate netflixdifference tonys armours peppers war machinedoodled spidey mysterionewest lineart hope nobody dont offense seeing spidey defeatednative village marvels colossus looks like location russia ustordinsky village near lake baikal view window live whole life yearsrusso brothers sucklike onemoving trade paperbacks single issuesanyone else waiting gonlins last stand reprint anyone got info love epics frustrating go print likespiderman far home movie review amp reactionhandpainted tshirt groot art kozachenko natalilike fantastic fourspiderman vs vulture spider man homecoming ferry fight scene hd movie clipblack widow great fight scene best natasha romanovahappy hump day thanks sorting new feedback appreciated cant get better unless people let know think fanartsomeone told interesting idea marvel bring alot money new audiences basically idea somewhere alternate universe spiderman egyptian another verse kid actually got bit egyptxmen get xtreme makeovers uncanny xmenwont believe classic superhero team back punisherspideys encountered local ffh premierewatch eddie symbiote found new host savage avengersput charge dcmarvel crossover event makelovegetting ready see far homefar home got hyped suit everything kindaspiderman far home spoiler free reviewblack panther aja naomi king nicole beharie compete storm role sequelfixing sam raimi trilogy turning pentologyspiderman multiverse editionwhats good starting point wanna get secret invasion comicsquestion comic book fans could go back teenage years live superpower matter ridiculous wouldcollect buy whole series ie whenever new ghost rider comic buy etcrecreated one favorite comic book coversspidermans real name peter parkerwaiting far home likevillains want see future mcureadtheorytheoryvenom junkcouldnt avengers use time machine turn captain america young like accidentally ant manwwe wrestler johnny gargano rocks captain marvel inspired outfit ringmade spiderman far home posterlifesized iron manappreciate deadpool bathhouse fight scene extended cutprinted iron mans mk helmet avengers endgameim pretty sure hardest ever seen spidermanvenom punch someonedressed spiderman villains denver pop culture congrandma man filter looks like thanosmaking hydra logo styrofoamcaptain marvel ever hold mjolnir moviesdang really predicted besides character almost year agokeanu reeves negotiations role eternalsnoticed starlordloki cross scrolling iglil watercolour painting character first movies fully suited selves somewhat first proper painting constructive criticism pleaseheroxmen last stand amazingworking cap shield tips managed use old belt make actual shieldghost antman wasp deaddesign black widow moviedont suppose anyone knows brand thors robe thinghardest choices require strongest wills finishing weekseverybody wants happy endinggot wong sign infinity gauntlet today asked fun picturesmarvel avengers end game titan fx figurines scavenger huntendgameavengers endgames hulk professor hulkfirst ten years marvel collectors box gamestop decent quality great displaying arc reactor bracelets sling ring eye agamotto metal retailspiderman homecoming headcannonsfinally saw end game madeanyone know comic pannelstart last official cardboard duct tape battleeven depressed still worthyhail hydraspiderman boy named billy redhaired mother danger reference curt connors lizard billy wife similar look comicscaptain marvel infinity stone buddy scarlett witchfirst cosplay avengers premiere classmateproblem antmans masshello infinity gauntlet questionstarts bad gets worseclosespiderman far home spiderjetgot comic shop mallmaybe marvel reddit universe help reach right earsman thing movie sceneshtty marvel comic made paintreality disappointing peep thanos shirtanyone helpsee fury typed captain marvel avengers initiative sceneclassified headshotwholesome marvel memethors art found infinity stones comicsmet charlie cox last night confirm daredevil lovely guyurgent ursin planning killing self towmorrow repost every sub reddit show supportmcu style spectacular spiderman introcome bois close go cinema tomorrow watch one timeold school goodpower stone dangerous stonesomeone help identify characters marvel magnet toy sonread black bolt solo series realized amazing character got utterly wasted trainwreck tv show need ventfound facebookbecoming less goodytwoshoes made captain america worthy wield mjolnirsacrifice iron man tributemade xmen universe visual timeline dark pheonix excluding gifted since im yet watchnewcomer need guidanceunstoppable forcexmen universe visual timeline excluding gifted im yet watchimho guy makes best video essays comics time really check one first videos beautifull breakdown spiderman blue one made fan really eanted sharewant see sinister six venom spidermanone screencap two wallpapers edited together fanartfan art spidermanmarvel style video introcompletion closure dark phoenix director promises epic ending xmen sagasomeone care explain reason behind iron man bigger character first captain america larger character second part im sure must thought given choicespin spider man series following non profit organization flies helicopters spiderman websling seemingly skygood reading recommendationsquestion regarding continuitytimelinelearn manmet stan lee years back nicest man kiddo said ill never forgetmade avengers trading card setknow marvel produces steel bowlscustom marvels runaways uk bluray coverrest editseeing lot talk first hulk movie yes editing horrendous still favorite hulk sceneboys pressing chathi lovers deadpool drawspideytook awhile putrunaways think died thanos snapabsolutely love limited edition marvel venom hjc helmet follow snapchatinsta kyleafgetting xmennew xmen reading orderreally worried people endgame spoilersheads users spoiling endgame reddit getting creativemind borrow slight issue ravanicafavourite part avengers endgame video review amp discussiontrue purpose iron mans suitavengers endgame review score couldnt agreeunpopular opinion avengers endgamedoctor doom fantastic fouravengers support group needed feeling depressed loved ironman captain america much knowing time mcu one feeling like feel emotionally attachedone best shots avengers endgame pulled straight comicsamericas assspoilers promisewar realms mister fantastic looks like john krasinskithanos happened thousands timesmoment endgame wish couldve seennew still far homeget spread far possible pleaseanyone else avengers movie spree endgamerecent trades pick fcbdcharacters powers would want timecould kamala khan betterghost rider helstrom hulus next two liveaction marvel showsocrepost thomas cat defeat thanoshey guys need super sick iphone wallpaper preferably groot rocket anything marvel related coolgraduation capmay discovered plot hole endgamelets take time appreciate badass women mcu introduced us years mcu women think beststars stripes fire bloodscarlett johansson produce black widow moviepeter parker mutantlooks sickmake endgame numbercould please explain team dynamics avengers team particular captain america makes leader team opposed iron man members team fits within avengersfictional characters dampd thanos mcupeter parker mutantendgameendgamethor considered norse god marvelmarvel games take place earthposter made mcu postersevent reading orders marvel unlimited good followreedus bernthal ghost rider punisher movie marvelthink found time spiderman far home takes placecomic unos best comics week dceased savage avengersrunwatch endgame beat avatarcurrent symbiote setupmomentsquotesart liked amazing spiderman omnibus voltribute iron manavengers endgame infinity stone questiondont open havent seenshower thought watching mcu movies must feels like uatu watcherlittle end game fan artsomeone explainprobably went tbhharsh punishmentarticle doesnt sum full shit film critics dont knowspread word hope everyone okskipped school go see endgamedrew poster honor endgame crushing box officemaster list good comics readpossible spoiler ecstatic heard rolling stones song endgame thought id share anyone didnt know new music older bands usually overlooked part consider one best songs entire discographyfriend looks like tom holland omgrepresentation iron manthank stan leefan art daredevil pencil finished ink pastel inspired alex maleevs run marvel knights daredevil comicswithout contextantman confirmed jokehear prediction endgameunpopular theory scarlet witchholy crap loisspoiler alert ironman wears axe body sprayguys think ass double cap america cap marvelsmasher show anything hickmans avengers really liked wish stuffdiscussion unpopular theory scarlet witchkorean soldier went awol watch end game korean authority waited til movie finished arrested soldieramazingmcu battle ghost rider vs captain marvelquestiondwanye rock johnson might join marvel going thingfinally browse reddit safely finally watched endgamequestion regarding endgamedont feel good mrspidermanwar realms plot issues warningwould anyone interested series posters style onelove letter dear mr fantasydwanye rock johnson going playing thingdrstrange marvel movie sucked rightcould insert fuck fucking fucker avengers endgame would put spoilercloak dagger comic book series worth readingtonymade avengers inspired music piecedisney hollywood store avengers endgame pin release reviewwatched endgame honestly movie left hole chestthor tattoo sergey shankosaw different subcat ratgreatyears iron man suiting compilationyears tony stark suiting iron man compilationcaptain marvel chibi commission saltylotus'"
      ]
     },
     "execution_count": 496,
     "metadata": {},
     "output_type": "execute_result"
    }
   ],
   "source": [
    "marvel"
   ]
  },
  {
   "cell_type": "code",
   "execution_count": 497,
   "metadata": {},
   "outputs": [],
   "source": [
    "tokenizer = RegexpTokenizer(r'\\w+')\n",
    "tokens = tokenizer.tokenize(marvel)\n",
    "lemmatizer = WordNetLemmatizer()\n",
    "lem_tokens = [lemmatizer.lemmatize(i) for i in tokens]"
   ]
  },
  {
   "cell_type": "code",
   "execution_count": 498,
   "metadata": {},
   "outputs": [
    {
     "name": "stdout",
     "output_type": "stream",
     "text": [
      "('ultimates', 'ultimate')\n",
      "('adventures', 'adventure')\n",
      "('gifts', 'gift')\n",
      "('days', 'day')\n",
      "('rosss', 'ross')\n",
      "('changes', 'change')\n",
      "('girls', 'girl')\n",
      "('characters', 'character')\n",
      "('comics', 'comic')\n",
      "('comics', 'comic')\n",
      "('marvels', 'marvel')\n",
      "('reverses', 'revers')\n",
      "('titles', 'title')\n",
      "('stores', 'store')\n",
      "('agents', 'agent')\n",
      "('movies', 'movie')\n",
      "('looks', 'look')\n",
      "('guys', 'guy')\n",
      "('thors', 'thor')\n",
      "('ideas', 'idea')\n",
      "('covers', 'cover')\n",
      "('faces', 'face')\n",
      "('mandarins', 'mandarin')\n",
      "('tales', 'tale')\n",
      "('comics', 'comic')\n",
      "('marvels', 'marvel')\n",
      "('agents', 'agent')\n",
      "('meets', 'meet')\n",
      "('days', 'day')\n",
      "('marvels', 'marvel')\n",
      "('boxes', 'box')\n",
      "('arts', 'art')\n",
      "('avengers', 'avenger')\n",
      "('julys', 'july')\n",
      "('vs', 'v')\n",
      "('drawings', 'drawing')\n",
      "('vs', 'v')\n",
      "('vs', 'v')\n",
      "('eggs', 'egg')\n",
      "('statues', 'statue')\n",
      "('ships', 'ship')\n",
      "('pages', 'page')\n",
      "('novels', 'novel')\n",
      "('vs', 'v')\n",
      "('states', 'state')\n",
      "('parents', 'parent')\n",
      "('pups', 'pup')\n",
      "('vs', 'v')\n",
      "('says', 'say')\n",
      "('looks', 'look')\n",
      "('images', 'image')\n",
      "('days', 'day')\n",
      "('peters', 'peter')\n",
      "('movies', 'movie')\n",
      "('movies', 'movie')\n",
      "('hes', 'he')\n",
      "('theories', 'theory')\n",
      "('states', 'state')\n",
      "('ps', 'p')\n",
      "('heres', 'here')\n",
      "('eggs', 'egg')\n",
      "('creators', 'creator')\n",
      "('makes', 'make')\n",
      "('animators', 'animator')\n",
      "('heroes', 'hero')\n",
      "('guardians', 'guardian')\n",
      "('panthers', 'panther')\n",
      "('ps', 'p')\n",
      "('gets', 'get')\n",
      "('gets', 'get')\n",
      "('ones', 'one')\n",
      "('bubbles', 'bubble')\n",
      "('miles', 'mile')\n",
      "('morales', 'morale')\n",
      "('avengers', 'avenger')\n",
      "('avengers', 'avenger')\n",
      "('times', 'time')\n",
      "('hours', 'hour')\n",
      "('characters', 'character')\n",
      "('fans', 'fan')\n",
      "('monsters', 'monster')\n",
      "('feels', 'feel')\n",
      "('designs', 'design')\n",
      "('looks', 'look')\n",
      "('miles', 'mile')\n",
      "('morales', 'morale')\n",
      "('ketchups', 'ketchup')\n",
      "('guys', 'guy')\n",
      "('suits', 'suit')\n",
      "('spots', 'spot')\n",
      "('avengers', 'avenger')\n",
      "('leads', 'lead')\n",
      "('caps', 'cap')\n",
      "('vs', 'v')\n",
      "('marvels', 'marvel')\n",
      "('opinions', 'opinion')\n",
      "('heroes', 'hero')\n",
      "('vs', 'v')\n",
      "('folks', 'folk')\n",
      "('avengers', 'avenger')\n",
      "('works', 'work')\n",
      "('studios', 'studio')\n",
      "('rumors', 'rumor')\n",
      "('screeners', 'screener')\n",
      "('appearances', 'appearance')\n",
      "('heres', 'here')\n",
      "('wars', 'war')\n",
      "('villains', 'villain')\n",
      "('marvels', 'marvel')\n",
      "('guys', 'guy')\n",
      "('comics', 'comic')\n",
      "('sales', 'sale')\n",
      "('comics', 'comic')\n",
      "('creations', 'creation')\n",
      "('widows', 'widow')\n",
      "('vs', 'v')\n",
      "('things', 'thing')\n",
      "('films', 'film')\n",
      "('adaptations', 'adaptation')\n",
      "('lakes', 'lake')\n",
      "('avengers', 'avenger')\n",
      "('panels', 'panel')\n",
      "('hanks', 'hank')\n",
      "('avengers', 'avenger')\n",
      "('events', 'event')\n",
      "('movies', 'movie')\n",
      "('jobs', 'job')\n",
      "('pants', 'pant')\n",
      "('pics', 'pic')\n",
      "('avengers', 'avenger')\n",
      "('references', 'reference')\n",
      "('vs', 'v')\n",
      "('draws', 'draw')\n",
      "('scenes', 'scene')\n",
      "('films', 'film')\n",
      "('comics', 'comic')\n",
      "('masks', 'mask')\n",
      "('gloves', 'glove')\n",
      "('months', 'month')\n",
      "('nows', 'now')\n",
      "('comics', 'comic')\n",
      "('movies', 'movie')\n",
      "('comics', 'comic')\n",
      "('ones', 'one')\n",
      "('films', 'film')\n",
      "('events', 'event')\n",
      "('comics', 'comic')\n",
      "('runs', 'run')\n",
      "('xaviers', 'xavier')\n",
      "('guys', 'guy')\n",
      "('guardians', 'guardian')\n",
      "('us', 'u')\n",
      "('searches', 'search')\n",
      "('nightmares', 'nightmare')\n",
      "('items', 'item')\n",
      "('coasters', 'coaster')\n",
      "('vs', 'v')\n",
      "('scenes', 'scene')\n",
      "('avengers', 'avenger')\n",
      "('days', 'day')\n",
      "('vs', 'v')\n",
      "('turtles', 'turtle')\n",
      "('moments', 'moment')\n",
      "('aarons', 'aaron')\n",
      "('buddies', 'buddy')\n",
      "('swings', 'swing')\n",
      "('avengers', 'avenger')\n",
      "('vs', 'v')\n",
      "('movies', 'movie')\n",
      "('receipts', 'receipt')\n",
      "('gods', 'god')\n",
      "('hopes', 'hope')\n",
      "('villains', 'villain')\n",
      "('guys', 'guy')\n",
      "('fans', 'fan')\n",
      "('plans', 'plan')\n",
      "('summers', 'summer')\n",
      "('goblins', 'goblin')\n",
      "('stones', 'stone')\n",
      "('vs', 'v')\n",
      "('vs', 'v')\n",
      "('mutants', 'mutant')\n",
      "('womens', 'woman')\n",
      "('guys', 'guy')\n",
      "('pictures', 'picture')\n",
      "('dollars', 'dollar')\n",
      "('movies', 'movie')\n",
      "('trophies', 'trophy')\n",
      "('guys', 'guy')\n",
      "('clones', 'clone')\n",
      "('comics', 'comic')\n",
      "('legends', 'legend')\n",
      "('characters', 'character')\n",
      "('looks', 'look')\n",
      "('years', 'year')\n",
      "('miles', 'mile')\n",
      "('morales', 'morale')\n",
      "('talks', 'talk')\n",
      "('shocks', 'shock')\n",
      "('toys', 'toy')\n",
      "('avengers', 'avenger')\n",
      "('villains', 'villain')\n",
      "('shows', 'show')\n",
      "('ladies', 'lady')\n",
      "('forums', 'forum')\n",
      "('discuss', 'discus')\n",
      "('women', 'woman')\n",
      "('franklins', 'franklin')\n",
      "('women', 'woman')\n",
      "('franklins', 'franklin')\n",
      "('talks', 'talk')\n",
      "('talks', 'talk')\n",
      "('avengers', 'avenger')\n",
      "('vs', 'v')\n",
      "('makes', 'make')\n",
      "('characters', 'character')\n",
      "('comics', 'comic')\n",
      "('vs', 'v')\n",
      "('finds', 'find')\n",
      "('talks', 'talk')\n",
      "('vs', 'v')\n",
      "('agendas', 'agenda')\n",
      "('vs', 'v')\n",
      "('guys', 'guy')\n",
      "('portals', 'portal')\n",
      "('vs', 'v')\n",
      "('hulks', 'hulk')\n",
      "('films', 'film')\n",
      "('vs', 'v')\n",
      "('shows', 'show')\n",
      "('characters', 'character')\n",
      "('scenes', 'scene')\n",
      "('weeks', 'week')\n",
      "('films', 'film')\n",
      "('ladies', 'lady')\n",
      "('zombies', 'zombie')\n",
      "('makers', 'maker')\n",
      "('hours', 'hour')\n",
      "('guys', 'guy')\n",
      "('movies', 'movie')\n",
      "('vs', 'v')\n",
      "('movies', 'movie')\n",
      "('defeats', 'defeat')\n",
      "('months', 'month')\n",
      "('caps', 'cap')\n",
      "('caps', 'cap')\n",
      "('villains', 'villain')\n",
      "('costumes', 'costume')\n",
      "('guys', 'guy')\n",
      "('miles', 'mile')\n",
      "('morales', 'morale')\n",
      "('possibilities', 'possibility')\n",
      "('characters', 'character')\n",
      "('comics', 'comic')\n",
      "('avengers', 'avenger')\n",
      "('caps', 'cap')\n",
      "('dads', 'dad')\n",
      "('books', 'book')\n",
      "('variants', 'variant')\n",
      "('guys', 'guy')\n",
      "('venoms', 'venom')\n",
      "('thoughts', 'thought')\n",
      "('hates', 'hate')\n",
      "('vs', 'v')\n",
      "('vs', 'v')\n",
      "('spoilers', 'spoiler')\n",
      "('comics', 'comic')\n",
      "('fosters', 'foster')\n",
      "('marvels', 'marvel')\n",
      "('knows', 'know')\n",
      "('toys', 'toy')\n",
      "('knows', 'know')\n",
      "('toys', 'toy')\n",
      "('neighbors', 'neighbor')\n",
      "('stones', 'stone')\n",
      "('avengers', 'avenger')\n",
      "('mutants', 'mutant')\n",
      "('ass', 'as')\n",
      "('champions', 'champion')\n",
      "('vs', 'v')\n",
      "('avengers', 'avenger')\n",
      "('heres', 'here')\n",
      "('images', 'image')\n",
      "('fires', 'fire')\n",
      "('media', 'medium')\n",
      "('wants', 'want')\n",
      "('us', 'u')\n",
      "('opportunities', 'opportunity')\n",
      "('references', 'reference')\n",
      "('mans', 'man')\n",
      "('brothers', 'brother')\n",
      "('avengers', 'avenger')\n",
      "('sams', 'sam')\n",
      "('holds', 'hold')\n",
      "('vs', 'v')\n",
      "('parts', 'part')\n",
      "('fittings', 'fitting')\n",
      "('adjustments', 'adjustment')\n",
      "('leds', 'led')\n",
      "('needs', 'need')\n",
      "('theres', 'there')\n",
      "('baguettes', 'baguette')\n",
      "('hours', 'hour')\n",
      "('lakes', 'lake')\n",
      "('avengers', 'avenger')\n",
      "('bandits', 'bandit')\n",
      "('effects', 'effect')\n",
      "('davids', 'david')\n",
      "('marvels', 'marvel')\n",
      "('vs', 'v')\n",
      "('guys', 'guy')\n",
      "('guys', 'guy')\n",
      "('goes', 'go')\n",
      "('heres', 'here')\n",
      "('recaps', 'recap')\n",
      "('says', 'say')\n",
      "('tesseracts', 'tesseract')\n",
      "('vs', 'v')\n",
      "('awards', 'award')\n",
      "('weeks', 'week')\n",
      "('books', 'book')\n",
      "('guys', 'guy')\n",
      "('films', 'film')\n",
      "('vs', 'v')\n",
      "('lines', 'line')\n",
      "('vs', 'v')\n",
      "('lets', 'let')\n",
      "('comics', 'comic')\n",
      "('characters', 'character')\n",
      "('avengers', 'avenger')\n",
      "('avengers', 'avenger')\n",
      "('avengers', 'avenger')\n",
      "('answers', 'answer')\n",
      "('childs', 'child')\n",
      "('highs', 'high')\n",
      "('lows', 'low')\n",
      "('mutants', 'mutant')\n",
      "('ants', 'ant')\n",
      "('comics', 'comic')\n",
      "('toys', 'toy')\n",
      "('guys', 'guy')\n",
      "('guardians', 'guardian')\n",
      "('proves', 'prof')\n",
      "('heroes', 'hero')\n",
      "('scenes', 'scene')\n",
      "('horsemen', 'horseman')\n",
      "('movies', 'movie')\n",
      "('legends', 'legend')\n",
      "('studios', 'studio')\n",
      "('concepts', 'concept')\n",
      "('gives', 'give')\n",
      "('hes', 'he')\n",
      "('portals', 'portal')\n",
      "('vs', 'v')\n",
      "('hires', 'hire')\n",
      "('ass', 'as')\n",
      "('heroes', 'hero')\n",
      "('guys', 'guy')\n",
      "('filters', 'filter')\n",
      "('faces', 'face')\n",
      "('toys', 'toy')\n",
      "('vs', 'v')\n",
      "('lockjaws', 'lockjaw')\n",
      "('lives', 'life')\n",
      "('comics', 'comic')\n",
      "('comics', 'comic')\n",
      "('vs', 'v')\n",
      "('goes', 'go')\n",
      "('forces', 'force')\n",
      "('us', 'u')\n",
      "('worlds', 'world')\n",
      "('mutants', 'mutant')\n",
      "('octobers', 'october')\n",
      "('characters', 'character')\n",
      "('comics', 'comic')\n",
      "('avengers', 'avenger')\n",
      "('hours', 'hour')\n",
      "('hours', 'hour')\n",
      "('comics', 'comic')\n",
      "('issues', 'issue')\n",
      "('books', 'book')\n",
      "('avengers', 'avenger')\n",
      "('movies', 'movie')\n",
      "('says', 'say')\n",
      "('titles', 'title')\n",
      "('spells', 'spell')\n",
      "('says', 'say')\n",
      "('movies', 'movie')\n",
      "('jrs', 'jr')\n",
      "('woes', 'woe')\n",
      "('mans', 'man')\n",
      "('versions', 'version')\n",
      "('avengers', 'avenger')\n",
      "('characters', 'character')\n",
      "('says', 'say')\n",
      "('movies', 'movie')\n",
      "('says', 'say')\n",
      "('guys', 'guy')\n",
      "('punches', 'punch')\n",
      "('memories', 'memory')\n",
      "('collectors', 'collector')\n",
      "('comes', 'come')\n",
      "('marvels', 'marvel')\n",
      "('avengers', 'avenger')\n",
      "('legends', 'legend')\n",
      "('champions', 'champion')\n",
      "('movies', 'movie')\n",
      "('figures', 'figure')\n",
      "('warps', 'warp')\n",
      "('avengers', 'avenger')\n",
      "('avengers', 'avenger')\n",
      "('movies', 'movie')\n",
      "('goes', 'go')\n",
      "('guardians', 'guardian')\n",
      "('avengers', 'avenger')\n",
      "('ms', 'm')\n",
      "('hates', 'hate')\n",
      "('lines', 'line')\n",
      "('impressions', 'impression')\n",
      "('ms', 'm')\n",
      "('avengers', 'avenger')\n",
      "('avengers', 'avenger')\n",
      "('shoots', 'shoot')\n",
      "('dinosaurs', 'dinosaur')\n",
      "('rips', 'rip')\n",
      "('comes', 'come')\n",
      "('moons', 'moon')\n",
      "('victims', 'victim')\n",
      "('vs', 'v')\n",
      "('avengers', 'avenger')\n",
      "('barracks', 'barrack')\n",
      "('weeks', 'week')\n",
      "('loves', 'love')\n",
      "('needs', 'need')\n",
      "('comics', 'comic')\n",
      "('jaspers', 'jasper')\n",
      "('jaspers', 'jasper')\n",
      "('comics', 'comic')\n",
      "('figures', 'figure')\n",
      "('septembers', 'september')\n",
      "('copies', 'copy')\n",
      "('hours', 'hour')\n",
      "('scenes', 'scene')\n",
      "('portals', 'portal')\n",
      "('avengers', 'avenger')\n",
      "('powers', 'power')\n",
      "('separates', 'separate')\n",
      "('serums', 'serum')\n",
      "('comics', 'comic')\n",
      "('vs', 'v')\n",
      "('panels', 'panel')\n",
      "('vs', 'v')\n",
      "('vs', 'v')\n",
      "('friends', 'friend')\n",
      "('miles', 'mile')\n",
      "('ms', 'm')\n",
      "('champions', 'champion')\n",
      "('brothers', 'brother')\n",
      "('caps', 'cap')\n",
      "('shoes', 'shoe')\n",
      "('shoes', 'shoe')\n",
      "('theres', 'there')\n",
      "('comics', 'comic')\n",
      "('avengers', 'avenger')\n",
      "('pops', 'pop')\n",
      "('comics', 'comic')\n",
      "('discuss', 'discus')\n",
      "('movies', 'movie')\n",
      "('lets', 'let')\n",
      "('movies', 'movie')\n",
      "('avengers', 'avenger')\n",
      "('comics', 'comic')\n",
      "('guys', 'guy')\n",
      "('bats', 'bat')\n",
      "('americas', 'america')\n",
      "('imperfects', 'imperfect')\n",
      "('comics', 'comic')\n",
      "('characters', 'character')\n",
      "('fans', 'fan')\n",
      "('rules', 'rule')\n",
      "('res', 're')\n",
      "('hes', 'he')\n",
      "('comics', 'comic')\n",
      "('months', 'month')\n",
      "('stabs', 'stab')\n",
      "('enemys', 'enemy')\n",
      "('goes', 'go')\n",
      "('guardians', 'guardian')\n",
      "('friends', 'friend')\n",
      "('less', 'le')\n",
      "('says', 'say')\n",
      "('heroes', 'hero')\n",
      "('avengers', 'avenger')\n",
      "('activations', 'activation')\n",
      "('games', 'game')\n",
      "('stones', 'stone')\n",
      "('stones', 'stone')\n",
      "('looks', 'look')\n",
      "('stones', 'stone')\n",
      "('comics', 'comic')\n",
      "('events', 'event')\n",
      "('studios', 'studio')\n",
      "('books', 'book')\n",
      "('comics', 'comic')\n",
      "('runs', 'run')\n",
      "('moments', 'moment')\n",
      "('covers', 'cover')\n",
      "('rocks', 'rock')\n",
      "('comics', 'comic')\n",
      "('bodies', 'body')\n",
      "('goodies', 'goody')\n",
      "('users', 'user')\n",
      "('books', 'book')\n",
      "('hits', 'hit')\n",
      "('years', 'year')\n",
      "('returns', 'return')\n",
      "('comics', 'comic')\n",
      "('statues', 'statue')\n",
      "('posters', 'poster')\n",
      "('timelines', 'timeline')\n",
      "('avengers', 'avenger')\n",
      "('titles', 'title')\n",
      "('choices', 'choice')\n",
      "('needs', 'need')\n",
      "('beats', 'beat')\n",
      "('sequences', 'sequence')\n",
      "('effects', 'effect')\n",
      "('quotes', 'quote')\n",
      "('avengers', 'avenger')\n",
      "('fans', 'fan')\n",
      "('hans', 'han')\n",
      "('us', 'u')\n",
      "('ideas', 'idea')\n",
      "('suits', 'suit')\n",
      "('armours', 'armour')\n",
      "('peppers', 'pepper')\n",
      "('marvels', 'marvel')\n",
      "('looks', 'look')\n",
      "('brothers', 'brother')\n",
      "('paperbacks', 'paperback')\n",
      "('epics', 'epic')\n",
      "('vs', 'v')\n",
      "('audiences', 'audience')\n",
      "('makeovers', 'makeover')\n",
      "('fans', 'fan')\n",
      "('years', 'year')\n",
      "('avengers', 'avenger')\n",
      "('rocks', 'rock')\n",
      "('mans', 'man')\n",
      "('avengers', 'avenger')\n",
      "('villains', 'villain')\n",
      "('looks', 'look')\n",
      "('reeves', 'reef')\n",
      "('negotiations', 'negotiation')\n",
      "('movies', 'movie')\n",
      "('selves', 'self')\n",
      "('tips', 'tip')\n",
      "('knows', 'know')\n",
      "('thors', 'thor')\n",
      "('choices', 'choice')\n",
      "('wills', 'will')\n",
      "('wants', 'want')\n",
      "('avengers', 'avenger')\n",
      "('figurines', 'figurine')\n",
      "('endgames', 'endgame')\n",
      "('years', 'year')\n",
      "('collectors', 'collector')\n",
      "('bracelets', 'bracelet')\n",
      "('avengers', 'avenger')\n",
      "('gets', 'get')\n",
      "('avengers', 'avenger')\n",
      "('stones', 'stone')\n",
      "('characters', 'character')\n",
      "('less', 'le')\n",
      "('makes', 'make')\n",
      "('essays', 'essay')\n",
      "('comics', 'comic')\n",
      "('videos', 'video')\n",
      "('wallpapers', 'wallpaper')\n",
      "('promises', 'promise')\n",
      "('flies', 'fly')\n",
      "('helicopters', 'helicopter')\n",
      "('years', 'year')\n",
      "('avengers', 'avenger')\n",
      "('produces', 'produce')\n",
      "('marvels', 'marvel')\n",
      "('runaways', 'runaway')\n",
      "('lovers', 'lover')\n",
      "('users', 'user')\n",
      "('avengers', 'avenger')\n",
      "('mans', 'man')\n",
      "('avengers', 'avenger')\n",
      "('shots', 'shot')\n",
      "('avengers', 'avenger')\n",
      "('realms', 'realm')\n",
      "('looks', 'look')\n",
      "('thousands', 'thousand')\n",
      "('avengers', 'avenger')\n",
      "('trades', 'trade')\n",
      "('powers', 'power')\n",
      "('guys', 'guy')\n",
      "('women', 'woman')\n",
      "('us', 'u')\n",
      "('years', 'year')\n",
      "('women', 'woman')\n",
      "('stripes', 'stripe')\n",
      "('dynamics', 'dynamic')\n",
      "('avengers', 'avenger')\n",
      "('makes', 'make')\n",
      "('members', 'member')\n",
      "('fits', 'fit')\n",
      "('characters', 'character')\n",
      "('games', 'game')\n",
      "('orders', 'order')\n",
      "('takes', 'take')\n",
      "('comics', 'comic')\n",
      "('movies', 'movie')\n",
      "('feels', 'feel')\n",
      "('critics', 'critic')\n",
      "('comics', 'comic')\n",
      "('stones', 'stone')\n",
      "('bands', 'band')\n",
      "('songs', 'song')\n",
      "('looks', 'look')\n",
      "('knights', 'knight')\n",
      "('wears', 'wear')\n",
      "('ass', 'as')\n",
      "('avengers', 'avenger')\n",
      "('vs', 'v')\n",
      "('realms', 'realm')\n",
      "('issues', 'issue')\n",
      "('posters', 'poster')\n",
      "('avengers', 'avenger')\n",
      "('avengers', 'avenger')\n",
      "('avengers', 'avenger')\n"
     ]
    }
   ],
   "source": [
    "# Print only those lemmatized tokens that are different.\n",
    "for i in range(len(tokens)):\n",
    "    if tokens[i] != lem_tokens[i]:\n",
    "        print((tokens[i], lem_tokens[i]))"
   ]
  },
  {
   "cell_type": "markdown",
   "metadata": {},
   "source": [
    "Lemmatizing reduces plural words into singular"
   ]
  },
  {
   "cell_type": "markdown",
   "metadata": {},
   "source": [
    "### Stemming"
   ]
  },
  {
   "cell_type": "code",
   "execution_count": 499,
   "metadata": {},
   "outputs": [],
   "source": [
    "porter=PorterStemmer()"
   ]
  },
  {
   "cell_type": "code",
   "execution_count": 500,
   "metadata": {},
   "outputs": [],
   "source": [
    "tokens_stemm = [porter.stem(i) for i in tokens]"
   ]
  },
  {
   "cell_type": "code",
   "execution_count": 501,
   "metadata": {},
   "outputs": [
    {
     "name": "stdout",
     "output_type": "stream",
     "text": [
      "('sienkiewiczthats', 'sienkiewiczthat')\n",
      "('probably', 'probabl')\n",
      "('obvious', 'obviou')\n",
      "('example', 'exampl')\n",
      "('ultimates', 'ultim')\n",
      "('trying', 'tri')\n",
      "('movie', 'movi')\n",
      "('ultimatespicture', 'ultimatespictur')\n",
      "('drewlittle', 'drewlittl')\n",
      "('nothing', 'noth')\n",
      "('seriestheres', 'seriesther')\n",
      "('official', 'offici')\n",
      "('favorite', 'favorit')\n",
      "('commissioned', 'commiss')\n",
      "('popsomething', 'popsometh')\n",
      "('cable', 'cabl')\n",
      "('cable', 'cabl')\n",
      "('cablesilver', 'cablesilv')\n",
      "('bronze', 'bronz')\n",
      "('colorsavengers', 'colorsaveng')\n",
      "('surrenderagents', 'surrenderag')\n",
      "('totally', 'total')\n",
      "('excellent', 'excel')\n",
      "('adventures', 'adventur')\n",
      "('discussion', 'discuss')\n",
      "('threadrussell', 'threadrussel')\n",
      "('wonderful', 'wonder')\n",
      "('giantsize', 'giantsiz')\n",
      "('frostcake', 'frostcak')\n",
      "('gifts', 'gift')\n",
      "('days', 'day')\n",
      "('avengersandy', 'avengersandi')\n",
      "('changes', 'chang')\n",
      "('ultimate', 'ultim')\n",
      "('spidermancreate', 'spidermancr')\n",
      "('girls', 'girl')\n",
      "('characters', 'charact')\n",
      "('little', 'littl')\n",
      "('comics', 'comic')\n",
      "('universe', 'univers')\n",
      "('comics', 'comic')\n",
      "('strikeforce', 'strikeforc')\n",
      "('marvels', 'marvel')\n",
      "('going', 'go')\n",
      "('reverses', 'revers')\n",
      "('decision', 'decis')\n",
      "('release', 'releas')\n",
      "('titles', 'titl')\n",
      "('digital', 'digit')\n",
      "('returning', 'return')\n",
      "('stores', 'store')\n",
      "('updated', 'updat')\n",
      "('schedule', 'schedul')\n",
      "('series', 'seri')\n",
      "('hawkeye', 'hawkey')\n",
      "('freefall', 'freefal')\n",
      "('ghostspiderive', 'ghostspider')\n",
      "('questionwolverine', 'questionwolverin')\n",
      "('inspired', 'inspir')\n",
      "('unlimitedclassic', 'unlimitedclass')\n",
      "('statue', 'statu')\n",
      "('photographyfriendly', 'photographyfriendli')\n",
      "('confirms', 'confirm')\n",
      "('agents', 'agent')\n",
      "('issue', 'issu')\n",
      "('empyre', 'empyr')\n",
      "('miniseries', 'miniseri')\n",
      "('cancelledhours', 'cancelledhour')\n",
      "('amazing', 'amaz')\n",
      "('spiderverse', 'spidervers')\n",
      "('animated', 'anim')\n",
      "('movies', 'movi')\n",
      "('appreciate', 'appreci')\n",
      "('feedbackgender', 'feedbackgend')\n",
      "('swapped', 'swap')\n",
      "('wolverine', 'wolverin')\n",
      "('looks', 'look')\n",
      "('patty', 'patti')\n",
      "('daytime', 'daytim')\n",
      "('guys', 'guy')\n",
      "('infinity', 'infin')\n",
      "('thors', 'thor')\n",
      "('hammerinfinity', 'hammerinfin')\n",
      "('sample', 'sampl')\n",
      "('bedtime', 'bedtim')\n",
      "('grootempyre', 'grootempyr')\n",
      "('removed', 'remov')\n",
      "('tieinsive', 'tieinsiv')\n",
      "('since', 'sinc')\n",
      "('goodbye', 'goodby')\n",
      "('dearly', 'dearli')\n",
      "('another', 'anoth')\n",
      "('anyone', 'anyon')\n",
      "('ideas', 'idea')\n",
      "('murphy', 'murphi')\n",
      "('menonyoutubeone', 'menonyoutubeon')\n",
      "('covers', 'cover')\n",
      "('rossinfinity', 'rossinfin')\n",
      "('sample', 'sampl')\n",
      "('onecalled', 'onecal')\n",
      "('reading', 'read')\n",
      "('discussion', 'discuss')\n",
      "('brubakers', 'brubak')\n",
      "('faces', 'face')\n",
      "('mandarins', 'mandarin')\n",
      "('tales', 'tale')\n",
      "('tonny', 'tonni')\n",
      "('comics', 'comic')\n",
      "('xforce', 'xforc')\n",
      "('strange', 'strang')\n",
      "('empyre', 'empyr')\n",
      "('fantastic', 'fantast')\n",
      "('strange', 'strang')\n",
      "('academy', 'academi')\n",
      "('marvels', 'marvel')\n",
      "('agents', 'agent')\n",
      "('comicscomic', 'comicscom')\n",
      "('accurate', 'accur')\n",
      "('meets', 'meet')\n",
      "('spideybusy', 'spideybusi')\n",
      "('couple', 'coupl')\n",
      "('days', 'day')\n",
      "('hyped', 'hype')\n",
      "('gabriele', 'gabriel')\n",
      "('dellottoimagined', 'dellottoimagin')\n",
      "('predator', 'predat')\n",
      "('original', 'origin')\n",
      "('iwolverine', 'iwolverin')\n",
      "('larry', 'larri')\n",
      "('hamahonestly', 'hamahonestli')\n",
      "('liked', 'like')\n",
      "('marvels', 'marvel')\n",
      "('boxes', 'box')\n",
      "('generic', 'gener')\n",
      "('uninteresting', 'uninterest')\n",
      "('arts', 'art')\n",
      "('showed', 'show')\n",
      "('since', 'sinc')\n",
      "('thats', 'that')\n",
      "('pretty', 'pretti')\n",
      "('avengers', 'aveng')\n",
      "('julys', 'juli')\n",
      "('character', 'charact')\n",
      "('inspired', 'inspir')\n",
      "('carnage', 'carnag')\n",
      "('drawings', 'draw')\n",
      "('doneworking', 'donework')\n",
      "('tribute', 'tribut')\n",
      "('loved', 'love')\n",
      "('infinity', 'infin')\n",
      "('sagaworking', 'sagawork')\n",
      "('tribute', 'tribut')\n",
      "('drawing', 'draw')\n",
      "('loved', 'love')\n",
      "('infinity', 'infin')\n",
      "('sagainteresting', 'sagainterest')\n",
      "('factquestion', 'factquest')\n",
      "('deciding', 'decid')\n",
      "('ultimate', 'ultim')\n",
      "('infiniteseems', 'infiniteseem')\n",
      "('guyagents', 'guyag')\n",
      "('episode', 'episod')\n",
      "('eggs', 'egg')\n",
      "('episode', 'episod')\n",
      "('previewmade', 'previewmad')\n",
      "('drawing', 'draw')\n",
      "('collectible', 'collect')\n",
      "('statues', 'statu')\n",
      "('studiosevolution', 'studiosevolut')\n",
      "('unlimitedmarvels', 'unlimitedmarvel')\n",
      "('ships', 'ship')\n",
      "('hulkling', 'hulkl')\n",
      "('ultimate', 'ultim')\n",
      "('swinging', 'swing')\n",
      "('city', 'citi')\n",
      "('likeimmortal', 'likeimmort')\n",
      "('threshing', 'thresh')\n",
      "('placeseatmate', 'placeseatm')\n",
      "('screening', 'screen')\n",
      "('homecoming', 'homecom')\n",
      "('adorable', 'ador')\n",
      "('handmade', 'handmad')\n",
      "('costume', 'costum')\n",
      "('destroys', 'destroy')\n",
      "('universe', 'univers')\n",
      "('thorned', 'thorn')\n",
      "('curse', 'curs')\n",
      "('carnage', 'carnag')\n",
      "('garry', 'garri')\n",
      "('confirms', 'confirm')\n",
      "('canceled', 'cancel')\n",
      "('reveals', 'reveal')\n",
      "('inked', 'ink')\n",
      "('pages', 'page')\n",
      "('canceled', 'cancel')\n",
      "('upcoming', 'upcom')\n",
      "('stonesreflection', 'stonesreflect')\n",
      "('future', 'futur')\n",
      "('scholastic', 'scholast')\n",
      "('original', 'origin')\n",
      "('novels', 'novel')\n",
      "('really', 'realli')\n",
      "('fortune', 'fortun')\n",
      "('revivescreamwolverine', 'revivescreamwolverin')\n",
      "('handstories', 'handstori')\n",
      "('united', 'unit')\n",
      "('states', 'state')\n",
      "('otherwise', 'otherwis')\n",
      "('incredible', 'incred')\n",
      "('favorite', 'favorit')\n",
      "('cheated', 'cheat')\n",
      "('namorfutureyoull', 'namorfutureyoul')\n",
      "('totally', 'total')\n",
      "('inspiredinfinity', 'inspiredinfin')\n",
      "('thanos', 'thano')\n",
      "('wallpaper', 'wallpap')\n",
      "('morbius', 'morbiu')\n",
      "('happeningfuturistic', 'happeningfuturist')\n",
      "('looked', 'look')\n",
      "('characterseems', 'characterseem')\n",
      "('awesome', 'awesom')\n",
      "('carving', 'carv')\n",
      "('middle', 'middl')\n",
      "('course', 'cours')\n",
      "('parents', 'parent')\n",
      "('house', 'hous')\n",
      "('pups', 'pup')\n",
      "('scaleclassic', 'scaleclass')\n",
      "('rossanyone', 'rossanyon')\n",
      "('artisteverything', 'artisteveryth')\n",
      "('cancelledive', 'cancelled')\n",
      "('watched', 'watch')\n",
      "('online', 'onlin')\n",
      "('says', 'say')\n",
      "('starting', 'start')\n",
      "('looks', 'look')\n",
      "('looking', 'look')\n",
      "('series', 'seri')\n",
      "('try', 'tri')\n",
      "('painted', 'paint')\n",
      "('favorite', 'favorit')\n",
      "('images', 'imag')\n",
      "('kellycarnage', 'kellycarnag')\n",
      "('piece', 'piec')\n",
      "('worked', 'work')\n",
      "('posting', 'post')\n",
      "('days', 'day')\n",
      "('ocgoingcoming', 'ocgoingcom')\n",
      "('drawing', 'draw')\n",
      "('little', 'littl')\n",
      "('editguys', 'editguy')\n",
      "('searched', 'search')\n",
      "('google', 'googl')\n",
      "('peters', 'peter')\n",
      "('played', 'play')\n",
      "('quicksilver', 'quicksilv')\n",
      "('movies', 'movi')\n",
      "('movies', 'movi')\n",
      "('hes', 'he')\n",
      "('starred', 'star')\n",
      "('picture', 'pictur')\n",
      "('wandavision', 'wandavis')\n",
      "('thinking', 'think')\n",
      "('theories', 'theori')\n",
      "('going', 'go')\n",
      "('wandavision', 'wandavis')\n",
      "('drawing', 'draw')\n",
      "('little', 'littl')\n",
      "('jorge', 'jorg')\n",
      "('going', 'go')\n",
      "('coronaaffected', 'coronaaffect')\n",
      "('states', 'state')\n",
      "('ruled', 'rule')\n",
      "('another', 'anoth')\n",
      "('mashupincomingdamaged', 'mashupincomingdamag')\n",
      "('drawingrecently', 'drawingrec')\n",
      "('playing', 'play')\n",
      "('heres', 'here')\n",
      "('trilogy', 'trilog')\n",
      "('created', 'creat')\n",
      "('novelssinger', 'novelssing')\n",
      "('directed', 'direct')\n",
      "('phoenixavengers', 'phoenixaveng')\n",
      "('infinity', 'infin')\n",
      "('eggs', 'egg')\n",
      "('infinity', 'infin')\n",
      "('sagathanos', 'sagathano')\n",
      "('watching', 'watch')\n",
      "('marvelreally', 'marvelr')\n",
      "('anyone', 'anyon')\n",
      "('else', 'els')\n",
      "('muscle', 'muscl')\n",
      "('suitlengths', 'suitlength')\n",
      "('creators', 'creator')\n",
      "('justify', 'justifi')\n",
      "('intelligence', 'intellig')\n",
      "('superpower', 'superpow')\n",
      "('bizarre', 'bizarr')\n",
      "('fantastic', 'fantast')\n",
      "('reluctant', 'reluct')\n",
      "('gamesrogue', 'gamesrogu')\n",
      "('castle', 'castl')\n",
      "('coming', 'come')\n",
      "('pantherupdated', 'pantherupd')\n",
      "('chronological', 'chronolog')\n",
      "('timelinetype', 'timelinetyp')\n",
      "('identifying', 'identifi')\n",
      "('episode', 'episod')\n",
      "('really', 'realli')\n",
      "('thats', 'that')\n",
      "('makes', 'make')\n",
      "('animators', 'anim')\n",
      "('heroes', 'hero')\n",
      "('prominent', 'promin')\n",
      "('rolesoppression', 'rolesoppress')\n",
      "('tribute', 'tribut')\n",
      "('avenger', 'aveng')\n",
      "('making', 'make')\n",
      "('mighty', 'mighti')\n",
      "('happy', 'happi')\n",
      "('tony', 'toni')\n",
      "('died', 'die')\n",
      "('guardians', 'guardian')\n",
      "('galaxy', 'galaxi')\n",
      "('baby', 'babi')\n",
      "('detonator', 'deton')\n",
      "('movie', 'movi')\n",
      "('making', 'make')\n",
      "('arcsfavorite', 'arcsfavorit')\n",
      "('story', 'stori')\n",
      "('superherolets', 'superherolet')\n",
      "('panthers', 'panther')\n",
      "('ongoing', 'ongo')\n",
      "('definitely', 'definit')\n",
      "('strange', 'strang')\n",
      "('funmarvels', 'funmarvel')\n",
      "('versus', 'versu')\n",
      "('carnage', 'carnag')\n",
      "('crainsince', 'crainsinc')\n",
      "('punisher', 'punish')\n",
      "('entire', 'entir')\n",
      "('decade', 'decad')\n",
      "('future', 'futur')\n",
      "('jobalways', 'jobalway')\n",
      "('loved', 'love')\n",
      "('inkpresented', 'inkpres')\n",
      "('contextmade', 'contextmad')\n",
      "('rogue', 'rogu')\n",
      "('paintingmove', 'paintingmov')\n",
      "('hodgemove', 'hodgemov')\n",
      "('tony', 'toni')\n",
      "('castle', 'castl')\n",
      "('universe', 'univers')\n",
      "('everybody', 'everybodi')\n",
      "('gets', 'get')\n",
      "('upgraded', 'upgrad')\n",
      "('collectsseries', 'collectsseri')\n",
      "('questionfused', 'questionfus')\n",
      "('predator', 'predat')\n",
      "('ochappens', 'ochappen')\n",
      "('wolverine', 'wolverin')\n",
      "('gets', 'get')\n",
      "('series', 'seri')\n",
      "('double', 'doubl')\n",
      "('sided', 'side')\n",
      "('fantastic', 'fantast')\n",
      "('turntable', 'turntabl')\n",
      "('endgame', 'endgam')\n",
      "('challenge', 'challeng')\n",
      "('paradoxstrongeststill', 'paradoxstrongeststil')\n",
      "('happy', 'happi')\n",
      "('ones', 'one')\n",
      "('amazing', 'amaz')\n",
      "('jms', 'jm')\n",
      "('ultimate', 'ultim')\n",
      "('collection', 'collect')\n",
      "('bookslove', 'bookslov')\n",
      "('invasion', 'invas')\n",
      "('digital', 'digit')\n",
      "('piece', 'piec')\n",
      "('favourite', 'favourit')\n",
      "('minus', 'minu')\n",
      "('bubbles', 'bubbl')\n",
      "('benny', 'benni')\n",
      "('tattooillustration', 'tattooillustr')\n",
      "('beforeafterwatchable', 'beforeafterwatch')\n",
      "('animated', 'anim')\n",
      "('siege', 'sieg')\n",
      "('youtubeplwvgzyfavourite', 'youtubeplwvgzyfavourit')\n",
      "('moviespiderverse', 'moviespidervers')\n",
      "('miles', 'mile')\n",
      "('morales', 'moral')\n",
      "('likestoryline', 'likestorylin')\n",
      "('virus', 'viru')\n",
      "('backused', 'backus')\n",
      "('machine', 'machin')\n",
      "('learning', 'learn')\n",
      "('emulate', 'emul')\n",
      "('played', 'play')\n",
      "('turned', 'turn')\n",
      "('nightmare', 'nightmar')\n",
      "('showinfamous', 'showinfam')\n",
      "('series', 'seri')\n",
      "('coming', 'come')\n",
      "('colored', 'color')\n",
      "('sketchfavorite', 'sketchfavorit')\n",
      "('character', 'charact')\n",
      "('favorite', 'favorit')\n",
      "('danvers', 'danver')\n",
      "('character', 'charact')\n",
      "('questionagent', 'questionag')\n",
      "('carnage', 'carnag')\n",
      "('jackpotlittle', 'jackpotlittl')\n",
      "('reference', 'refer')\n",
      "('avengers', 'aveng')\n",
      "('fitting', 'fit')\n",
      "('linecomic', 'linecom')\n",
      "('avengers', 'aveng')\n",
      "('infinity', 'infin')\n",
      "('prelude', 'prelud')\n",
      "('issue', 'issu')\n",
      "('moviefavorite', 'moviefavorit')\n",
      "('ultimate', 'ultim')\n",
      "('alliance', 'allianc')\n",
      "('compation', 'compat')\n",
      "('captainamericasymbiotesfriends', 'captainamericasymbiotesfriend')\n",
      "('company', 'compani')\n",
      "('trying', 'tri')\n",
      "('times', 'time')\n",
      "('infinity', 'infin')\n",
      "('shawanywhere', 'shawanywher')\n",
      "('sequalsive', 'sequals')\n",
      "('hours', 'hour')\n",
      "('trying', 'tri')\n",
      "('characters', 'charact')\n",
      "('hardcore', 'hardcor')\n",
      "('fans', 'fan')\n",
      "('slemons', 'slemon')\n",
      "('monsters', 'monster')\n",
      "('iielse', 'iiels')\n",
      "('feels', 'feel')\n",
      "('people', 'peopl')\n",
      "('sharing', 'share')\n",
      "('venombody', 'venombodi')\n",
      "('collide', 'collid')\n",
      "('coverlife', 'coverlif')\n",
      "('imitates', 'imit')\n",
      "('designs', 'design')\n",
      "('looks', 'look')\n",
      "('sensational', 'sensat')\n",
      "('miles', 'mile')\n",
      "('morales', 'moral')\n",
      "('ultimate', 'ultim')\n",
      "('hellfire', 'hellfir')\n",
      "('ketchups', 'ketchup')\n",
      "('someone', 'someon')\n",
      "('picked', 'pick')\n",
      "('guys', 'guy')\n",
      "('suits', 'suit')\n",
      "('weakness', 'weak')\n",
      "('spots', 'spot')\n",
      "('technology', 'technolog')\n",
      "('appreciate', 'appreci')\n",
      "('acrylic', 'acryl')\n",
      "('gouache', 'gouach')\n",
      "('jorge', 'jorg')\n",
      "('hawkeye', 'hawkey')\n",
      "('venommade', 'venommad')\n",
      "('revives', 'reviv')\n",
      "('uncanny', 'uncanni')\n",
      "('avengers', 'aveng')\n",
      "('cyclops', 'cyclop')\n",
      "('leads', 'lead')\n",
      "('caps', 'cap')\n",
      "('used', 'use')\n",
      "('stormbreaker', 'stormbreak')\n",
      "('leedaredevilnever', 'leedaredevilnev')\n",
      "('frankly', 'frankli')\n",
      "('characterlike', 'characterlik')\n",
      "('marvels', 'marvel')\n",
      "('oneshots', 'oneshot')\n",
      "('whatifs', 'whatif')\n",
      "('silly', 'silli')\n",
      "('every', 'everi')\n",
      "('actually', 'actual')\n",
      "('series', 'seri')\n",
      "('issue', 'issu')\n",
      "('original', 'origin')\n",
      "('poundcover', 'poundcov')\n",
      "('chinese', 'chines')\n",
      "('figure', 'figur')\n",
      "('savedtell', 'savedtel')\n",
      "('opinions', 'opinion')\n",
      "('heroes', 'hero')\n",
      "('villiansannouncement', 'villiansannounc')\n",
      "('thanos', 'thano')\n",
      "('infinity', 'infin')\n",
      "('trailerposted', 'trailerpost')\n",
      "('strange', 'strang')\n",
      "('folks', 'folk')\n",
      "('holographicpsychedelic', 'holographicpsychedel')\n",
      "('stephenrogue', 'stephenrogu')\n",
      "('wolverine', 'wolverin')\n",
      "('quesadainterested', 'quesadainterest')\n",
      "('invasion', 'invas')\n",
      "('extremely', 'extrem')\n",
      "('turnedpretty', 'turnedpretti')\n",
      "('easy', 'easi')\n",
      "('trainingmade', 'trainingmad')\n",
      "('thinktonys', 'thinktoni')\n",
      "('horrible', 'horribl')\n",
      "('awesome', 'awesom')\n",
      "('avengers', 'aveng')\n",
      "('endgame', 'endgam')\n",
      "('battle', 'battl')\n",
      "('fury', 'furi')\n",
      "('works', 'work')\n",
      "('studios', 'studio')\n",
      "('nextclosing', 'nextclos')\n",
      "('dogital', 'dogit')\n",
      "('issue', 'issu')\n",
      "('patsy', 'patsi')\n",
      "('walke', 'walk')\n",
      "('hellcatgoodbye', 'hellcatgoodby')\n",
      "('webcomic', 'webcom')\n",
      "('rumors', 'rumor')\n",
      "('coming', 'come')\n",
      "('disneyemmy', 'disneyemmi')\n",
      "('screeners', 'screener')\n",
      "('signed', 'sign')\n",
      "('charlie', 'charli')\n",
      "('appearances', 'appear')\n",
      "('punisher', 'punish')\n",
      "('collection', 'collect')\n",
      "('infinity', 'infin')\n",
      "('warhappy', 'warhappi')\n",
      "('heres', 'here')\n",
      "('everything', 'everyth')\n",
      "('wars', 'war')\n",
      "('battlessymbiote', 'battlessymbiot')\n",
      "('placecombination', 'placecombin')\n",
      "('villains', 'villain')\n",
      "('cause', 'caus')\n",
      "('mayhemixine', 'mayhemixin')\n",
      "('marvels', 'marvel')\n",
      "('editionwhats', 'editionwhat')\n",
      "('guys', 'guy')\n",
      "('named', 'name')\n",
      "('sacrificing', 'sacrif')\n",
      "('thanos', 'thano')\n",
      "('retrieve', 'retriev')\n",
      "('stonesquestion', 'stonesquest')\n",
      "('supporting', 'support')\n",
      "('comics', 'comic')\n",
      "('sales', 'sale')\n",
      "('marchhope', 'marchhop')\n",
      "('something', 'someth')\n",
      "('universe', 'univers')\n",
      "('comics', 'comic')\n",
      "('ruined', 'ruin')\n",
      "('beyonderluis', 'beyonderlui')\n",
      "('breakscannonball', 'breakscannonbal')\n",
      "('favorite', 'favorit')\n",
      "('optimisedjohnny', 'optimisedjohnni')\n",
      "('storyoriginal', 'storyorigin')\n",
      "('creations', 'creation')\n",
      "('widows', 'widow')\n",
      "('childrens', 'children')\n",
      "('workhappened', 'workhappen')\n",
      "('odens', 'oden')\n",
      "('stafftony', 'stafftoni')\n",
      "('wallpaperreference', 'wallpaperrefer')\n",
      "('sketchsafespace', 'sketchsafespac')\n",
      "('snowflake', 'snowflak')\n",
      "('elaborated', 'elabor')\n",
      "('jokeanyone', 'jokeanyon')\n",
      "('revealed', 'reveal')\n",
      "('identity', 'ident')\n",
      "('undone', 'undon')\n",
      "('mcfarlanes', 'mcfarlan')\n",
      "('issue', 'issu')\n",
      "('things', 'thing')\n",
      "('togetherhomemade', 'togetherhomemad')\n",
      "('rankingvenomcrossover', 'rankingvenomcrossov')\n",
      "('etchingstormbreakercomes', 'etchingstormbreakercom')\n",
      "('films', 'film')\n",
      "('adaptations', 'adapt')\n",
      "('pencilschoose', 'pencilschoos')\n",
      "('creative', 'creativ')\n",
      "('future', 'futur')\n",
      "('lakes', 'lake')\n",
      "('avengers', 'aveng')\n",
      "('sketchedguys', 'sketchedguy')\n",
      "('community', 'commun')\n",
      "('fuckextended', 'fuckextend')\n",
      "('family', 'famili')\n",
      "('fantastic', 'fantast')\n",
      "('apreciatedwriter', 'apreciatedwrit')\n",
      "('favourite', 'favourit')\n",
      "('fassbender', 'fassbend')\n",
      "('redesignjames', 'redesignjam')\n",
      "('cyclops', 'cyclop')\n",
      "('redesignwhos', 'redesignwho')\n",
      "('hyped', 'hype')\n",
      "('wolverinecreate', 'wolverinecr')\n",
      "('superherotype', 'superherotyp')\n",
      "('panels', 'panel')\n",
      "('really', 'realli')\n",
      "('hanks', 'hank')\n",
      "('reputation', 'reput')\n",
      "('wolverine', 'wolverin')\n",
      "('avengers', 'aveng')\n",
      "('pírizessential', 'pírizessenti')\n",
      "('events', 'event')\n",
      "('relate', 'relat')\n",
      "('thanos', 'thano')\n",
      "('thinktake', 'thinktak')\n",
      "('ocsuperheroes', 'ocsuperhero')\n",
      "('yes', 'ye')\n",
      "('tony', 'toni')\n",
      "('different', 'differ')\n",
      "('movies', 'movi')\n",
      "('quite', 'quit')\n",
      "('frankly', 'frankli')\n",
      "('jobs', 'job')\n",
      "('apologize', 'apolog')\n",
      "('advance', 'advanc')\n",
      "('seems', 'seem')\n",
      "('repeated', 'repeat')\n",
      "('homemade', 'homemad')\n",
      "('pants', 'pant')\n",
      "('chance', 'chanc')\n",
      "('someone', 'someon')\n",
      "('please', 'pleas')\n",
      "('advise', 'advis')\n",
      "('pics', 'pic')\n",
      "('timelineyes', 'timeliney')\n",
      "('pleasefinally', 'pleasefin')\n",
      "('finished', 'finish')\n",
      "('galactus', 'galactu')\n",
      "('startthanos', 'startthano')\n",
      "('army', 'armi')\n",
      "('survived', 'surviv')\n",
      "('avengers', 'aveng')\n",
      "('strange', 'strang')\n",
      "('futurereference', 'futurerefer')\n",
      "('image', 'imag')\n",
      "('references', 'refer')\n",
      "('image', 'imag')\n",
      "('findbeginalternative', 'findbeginaltern')\n",
      "('comicstier', 'comicsti')\n",
      "('universecomics', 'universecom')\n",
      "('ultimatumhulks', 'ultimatumhulk')\n",
      "('intelligence', 'intellig')\n",
      "('playing', 'play')\n",
      "('finale', 'final')\n",
      "('battle', 'battl')\n",
      "('endgame', 'endgam')\n",
      "('alternateuniverse', 'alternateunivers')\n",
      "('otherwise', 'otherwis')\n",
      "('avengerssuperheros', 'avengerssuperhero')\n",
      "('krakoaheres', 'krakoaher')\n",
      "('fixed', 'fix')\n",
      "('machine', 'machin')\n",
      "('mcureally', 'mcureal')\n",
      "('sometimesberserker', 'sometimesberserk')\n",
      "('igrejected', 'igreject')\n",
      "('storyline', 'storylin')\n",
      "('eddie', 'eddi')\n",
      "('brocks', 'brock')\n",
      "('symbiote', 'symbiot')\n",
      "('starting', 'start')\n",
      "('discussion', 'discuss')\n",
      "('skrullsfinally', 'skrullsfin')\n",
      "('finished', 'finish')\n",
      "('carnage', 'carnag')\n",
      "('artworkanyone', 'artworkanyon')\n",
      "('else', 'els')\n",
      "('reading', 'read')\n",
      "('draws', 'draw')\n",
      "('scenes', 'scene')\n",
      "('films', 'film')\n",
      "('comics', 'comic')\n",
      "('nextwarriors', 'nextwarrior')\n",
      "('madnesssince', 'madnesssinc')\n",
      "('wearing', 'wear')\n",
      "('masks', 'mask')\n",
      "('gloves', 'glove')\n",
      "('several', 'sever')\n",
      "('months', 'month')\n",
      "('nows', 'now')\n",
      "('comics', 'comic')\n",
      "('movies', 'movi')\n",
      "('started', 'start')\n",
      "('getting', 'get')\n",
      "('comics', 'comic')\n",
      "('ones', 'one')\n",
      "('farusually', 'farusu')\n",
      "('realization', 'realiz')\n",
      "('brokenlooking', 'brokenlook')\n",
      "('youtube', 'youtub')\n",
      "('daisy', 'daisi')\n",
      "('currently', 'current')\n",
      "('watching', 'watch')\n",
      "('films', 'film')\n",
      "('events', 'event')\n",
      "('release', 'releas')\n",
      "('madeempyregoing', 'madeempyrego')\n",
      "('introduce', 'introduc')\n",
      "('fantastic', 'fantast')\n",
      "('comics', 'comic')\n",
      "('runs', 'run')\n",
      "('accused', 'accus')\n",
      "('bribing', 'bribe')\n",
      "('faculty', 'faculti')\n",
      "('xaviers', 'xavier')\n",
      "('gifted', 'gift')\n",
      "('appreciate', 'appreci')\n",
      "('guys', 'guy')\n",
      "('watchspoiler', 'watchspoil')\n",
      "('warning', 'warn')\n",
      "('asking', 'ask')\n",
      "('guardians', 'guardian')\n",
      "('galaxy', 'galaxi')\n",
      "('timeline', 'timelin')\n",
      "('deliberation', 'deliber')\n",
      "('theoryheartonys', 'theoryheartoni')\n",
      "('elementhate', 'elementh')\n",
      "('writing', 'write')\n",
      "('giving', 'give')\n",
      "('foreshadowing', 'foreshadow')\n",
      "('backwards', 'backward')\n",
      "('tony', 'toni')\n",
      "('searches', 'search')\n",
      "('setting', 'set')\n",
      "('nazistaneed', 'nazistane')\n",
      "('finding', 'find')\n",
      "('episode', 'episod')\n",
      "('incredible', 'incred')\n",
      "('nightmares', 'nightmar')\n",
      "('kidinfinity', 'kidinfin')\n",
      "('thanos', 'thano')\n",
      "('complete', 'complet')\n",
      "('designlove', 'designlov')\n",
      "('items', 'item')\n",
      "('quarantine', 'quarantin')\n",
      "('coasters', 'coaster')\n",
      "('madeamazing', 'madeamaz')\n",
      "('omnibus', 'omnibu')\n",
      "('spiderverse', 'spidervers')\n",
      "('electric', 'electr')\n",
      "('destroyerdesigned', 'destroyerdesign')\n",
      "('viddesigned', 'viddesign')\n",
      "('quarantine', 'quarantin')\n",
      "('puzzlesorder', 'puzzlesord')\n",
      "('movie', 'movi')\n",
      "('supposed', 'suppos')\n",
      "('starjammer', 'starjamm')\n",
      "('comicsamazing', 'comicsamaz')\n",
      "('worldwide', 'worldwid')\n",
      "('absolutely', 'absolut')\n",
      "('favorite', 'favorit')\n",
      "('scenes', 'scene')\n",
      "('runemily', 'runemili')\n",
      "('talked', 'talk')\n",
      "('fantastic', 'fantast')\n",
      "('unedited', 'unedit')\n",
      "('middleage', 'middleag')\n",
      "('robards', 'robard')\n",
      "('photogrhphy', 'photogrhphi')\n",
      "('try', 'tri')\n",
      "('drawing', 'draw')\n",
      "('avengers', 'aveng')\n",
      "('infinity', 'infin')\n",
      "('days', 'day')\n",
      "('future', 'futur')\n",
      "('stylecarnage', 'stylecarnag')\n",
      "('ultimate', 'ultim')\n",
      "('limited', 'limit')\n",
      "('edition', 'edit')\n",
      "('introducing', 'introduc')\n",
      "('carnage', 'carnag')\n",
      "('videospider', 'videospid')\n",
      "('teenage', 'teenag')\n",
      "('turtles', 'turtl')\n",
      "('always', 'alway')\n",
      "('moments', 'moment')\n",
      "('loosely', 'loos')\n",
      "('adapted', 'adapt')\n",
      "('cable', 'cabl')\n",
      "('sinisters', 'sinist')\n",
      "('printedavengers', 'printedaveng')\n",
      "('mcnivenmade', 'mcnivenmad')\n",
      "('memereading', 'memeread')\n",
      "('aarons', 'aaron')\n",
      "('marvelfanarts', 'marvelfanart')\n",
      "('including', 'includ')\n",
      "('thanos', 'thano')\n",
      "('thorocintroducing', 'thorocintroduc')\n",
      "('double', 'doubl')\n",
      "('everyone', 'everyon')\n",
      "('together', 'togeth')\n",
      "('buddies', 'buddi')\n",
      "('dysfunction', 'dysfunct')\n",
      "('family', 'famili')\n",
      "('guardianslove', 'guardianslov')\n",
      "('commentevery', 'commenteveri')\n",
      "('morning', 'morn')\n",
      "('friendly', 'friendli')\n",
      "('swings', 'swing')\n",
      "('toolboxwolverine', 'toolboxwolverin')\n",
      "('giangneed', 'giangne')\n",
      "('avengers', 'aveng')\n",
      "('kkkmoved', 'kkkmove')\n",
      "('able', 'abl')\n",
      "('pictureanyone', 'pictureanyon')\n",
      "('wayarguments', 'wayargu')\n",
      "('silly', 'silli')\n",
      "('fanartimmortal', 'fanartimmort')\n",
      "('gabriele', 'gabriel')\n",
      "('fistlooks', 'fistlook')\n",
      "('familiarimportant', 'familiarimport')\n",
      "('carewatched', 'carewatch')\n",
      "('movies', 'movi')\n",
      "('viewing', 'view')\n",
      "('receipts', 'receipt')\n",
      "('includedquestion', 'includedquest')\n",
      "('gods', 'god')\n",
      "('mighty', 'mighti')\n",
      "('namerogue', 'namerogu')\n",
      "('commissioned', 'commiss')\n",
      "('amazing', 'amaz')\n",
      "('spidermanamazing', 'spidermanamaz')\n",
      "('anyone', 'anyon')\n",
      "('else', 'els')\n",
      "('hopes', 'hope')\n",
      "('appears', 'appear')\n",
      "('spiderverse', 'spidervers')\n",
      "('movieone', 'movieon')\n",
      "('inspired', 'inspir')\n",
      "('lizardwent', 'lizardw')\n",
      "('middleinfinity', 'middleinfin')\n",
      "('artwhos', 'artwho')\n",
      "('signaturerussos', 'signaturerusso')\n",
      "('abrams', 'abram')\n",
      "('grossing', 'gross')\n",
      "('movieselse', 'moviesels')\n",
      "('treeguys', 'treeguy')\n",
      "('dolly', 'dolli')\n",
      "('exactly', 'exactli')\n",
      "('digitally', 'digit')\n",
      "('coloured', 'colour')\n",
      "('practice', 'practic')\n",
      "('remember', 'rememb')\n",
      "('comicbrutal', 'comicbrut')\n",
      "('xforce', 'xforc')\n",
      "('wolverine', 'wolverin')\n",
      "('definition', 'definit')\n",
      "('turned', 'turn')\n",
      "('villains', 'villain')\n",
      "('realfemale', 'realfemal')\n",
      "('guys', 'guy')\n",
      "('likeamazing', 'likeamaz')\n",
      "('statue', 'statu')\n",
      "('morbius', 'morbiu')\n",
      "('carlesimobloodstone', 'carlesimobloodston')\n",
      "('fans', 'fan')\n",
      "('excited', 'excit')\n",
      "('anybody', 'anybodi')\n",
      "('plans', 'plan')\n",
      "('collected', 'collect')\n",
      "('edition', 'edit')\n",
      "('ulysses', 'ulyss')\n",
      "('storiesquestion', 'storiesquest')\n",
      "('house', 'hous')\n",
      "('summers', 'summer')\n",
      "('questioneye', 'questioney')\n",
      "('activatedavengers', 'activatedaveng')\n",
      "('kiddos', 'kiddo')\n",
      "('really', 'realli')\n",
      "('honestlyhulks', 'honestlyhulk')\n",
      "('symbiotes', 'symbiot')\n",
      "('karaokebigger', 'karaokebigg')\n",
      "('thingfantastic', 'thingfantast')\n",
      "('fouravengers', 'fouraveng')\n",
      "('inspired', 'inspir')\n",
      "('imfinished', 'imfinish')\n",
      "('drawing', 'draw')\n",
      "('baby', 'babi')\n",
      "('ytheres', 'ythere')\n",
      "('goblins', 'goblin')\n",
      "('paintthanos', 'paintthano')\n",
      "('wallpaper', 'wallpap')\n",
      "('seriessubscription', 'seriessubscript')\n",
      "('kidtony', 'kidtoni')\n",
      "('pussy', 'pussi')\n",
      "('survive', 'surviv')\n",
      "('infinity', 'infin')\n",
      "('stones', 'stone')\n",
      "('figuresneed', 'figuresne')\n",
      "('identifying', 'identifi')\n",
      "('wolverinequestion', 'wolverinequest')\n",
      "('regarding', 'regard')\n",
      "('chronological', 'chronolog')\n",
      "('reading', 'read')\n",
      "('frequency', 'frequenc')\n",
      "('ongoing', 'ongo')\n",
      "('seriessweetsearching', 'seriessweetsearch')\n",
      "('character', 'charact')\n",
      "('backsomething', 'backsometh')\n",
      "('bugging', 'bug')\n",
      "('mcuthanos', 'mcuthano')\n",
      "('infinity', 'infin')\n",
      "('battle', 'battl')\n",
      "('detee', 'dete')\n",
      "('ocincredible', 'ocincred')\n",
      "('qnabrie', 'qnabri')\n",
      "('larsons', 'larson')\n",
      "('chooses', 'choos')\n",
      "('thanos', 'thano')\n",
      "('avengersopening', 'avengersopen')\n",
      "('mutants', 'mutant')\n",
      "('melbournerelatable', 'melbournerelat')\n",
      "('cosplayfantastic', 'cosplayfantast')\n",
      "('novelupsettinghappy', 'novelupsettinghappi')\n",
      "('international', 'intern')\n",
      "('womens', 'women')\n",
      "('daypeter', 'daypet')\n",
      "('whoaeddie', 'whoaeddi')\n",
      "('guys', 'guy')\n",
      "('togetherive', 'together')\n",
      "('passing', 'pass')\n",
      "('doodling', 'doodl')\n",
      "('pictures', 'pictur')\n",
      "('reedstill', 'reedstil')\n",
      "('waiting', 'wait')\n",
      "('underrated', 'underr')\n",
      "('reading', 'read')\n",
      "('americaknowstoked', 'americaknowstok')\n",
      "('couple', 'coupl')\n",
      "('dollars', 'dollar')\n",
      "('awesome', 'awesom')\n",
      "('dadrianartsphase', 'dadrianartsphas')\n",
      "('movies', 'movi')\n",
      "('emotional', 'emot')\n",
      "('impactfavorite', 'impactfavorit')\n",
      "('avenger', 'aveng')\n",
      "('native', 'nativ')\n",
      "('trophies', 'trophi')\n",
      "('engineering', 'engin')\n",
      "('competition', 'competit')\n",
      "('showmarvelous', 'showmarvel')\n",
      "('coupleschism', 'couplesch')\n",
      "('guys', 'guy')\n",
      "('thanos', 'thano')\n",
      "('clones', 'clone')\n",
      "('comics', 'comic')\n",
      "('bigsmall', 'bigsmal')\n",
      "('legends', 'legend')\n",
      "('collection', 'collect')\n",
      "('thus', 'thu')\n",
      "('chancecards', 'chancecard')\n",
      "('characters', 'charact')\n",
      "('looks', 'look')\n",
      "('animal', 'anim')\n",
      "('avatarspidermanbrie', 'avatarspidermanbri')\n",
      "('release', 'releas')\n",
      "('tufinonotice', 'tufinonotic')\n",
      "('colored', 'color')\n",
      "('awayimportant', 'awayimport')\n",
      "('running', 'run')\n",
      "('years', 'year')\n",
      "('unlimitedcollections', 'unlimitedcollect')\n",
      "('miles', 'mile')\n",
      "('morales', 'moral')\n",
      "('inspired', 'inspir')\n",
      "('ultimate', 'ultim')\n",
      "('spiderverse', 'spidervers')\n",
      "('talks', 'talk')\n",
      "('series', 'seri')\n",
      "('image', 'imag')\n",
      "('infinity', 'infin')\n",
      "('series', 'seri')\n",
      "('imagined', 'imagin')\n",
      "('moranepisode', 'moranepisod')\n",
      "('shocks', 'shock')\n",
      "('toys', 'toy')\n",
      "('announce', 'announc')\n",
      "('avengers', 'aveng')\n",
      "('endgame', 'endgam')\n",
      "('thanos', 'thano')\n",
      "('battle', 'battl')\n",
      "('damaged', 'damag')\n",
      "('replace', 'replac')\n",
      "('metropolis', 'metropoli')\n",
      "('digital', 'digit')\n",
      "('wanted', 'want')\n",
      "('villains', 'villain')\n",
      "('shows', 'show')\n",
      "('warnothope', 'warnothop')\n",
      "('future', 'futur')\n",
      "('opinionwandavision', 'opinionwandavis')\n",
      "('armourspiderversethats', 'armourspiderversethat')\n",
      "('btwcurious', 'btwcuriou')\n",
      "('lovelove', 'lovelov')\n",
      "('pretty', 'pretti')\n",
      "('excited', 'excit')\n",
      "('favorite', 'favorit')\n",
      "('ladies', 'ladi')\n",
      "('ltamazing', 'ltamaz')\n",
      "('spidermanmarvels', 'spidermanmarvel')\n",
      "('everything', 'everyth')\n",
      "('knowandy', 'knowandi')\n",
      "('serkis', 'serki')\n",
      "('forums', 'forum')\n",
      "('franklins', 'franklin')\n",
      "('xmenfantastic', 'xmenfantast')\n",
      "('franklins', 'franklin')\n",
      "('xmenfantastic', 'xmenfantast')\n",
      "('ongoing', 'ongo')\n",
      "('comicsrewatching', 'comicsrewatch')\n",
      "('anything', 'anyth')\n",
      "('experience', 'experi')\n",
      "('everything', 'everyth')\n",
      "('getdachoprabasically', 'getdachoprabas')\n",
      "('talks', 'talk')\n",
      "('strange', 'strang')\n",
      "('breaksomeone', 'breaksomeon')\n",
      "('talks', 'talk')\n",
      "('strange', 'strang')\n",
      "('multiverse', 'multivers')\n",
      "('someone', 'someon')\n",
      "('strange', 'strang')\n",
      "('batsmemory', 'batsmemori')\n",
      "('tony', 'toni')\n",
      "('mjölnirintroduction', 'mjölnirintroduct')\n",
      "('avengers', 'aveng')\n",
      "('galactustwitter', 'galactustwitt')\n",
      "('makes', 'make')\n",
      "('edits', 'edit')\n",
      "('tony', 'toni')\n",
      "('amazing', 'amaz')\n",
      "('reading', 'read')\n",
      "('characters', 'charact')\n",
      "('comics', 'comic')\n",
      "('hurtsvince', 'hurtsvinc')\n",
      "('ruined', 'ruin')\n",
      "('kirbys', 'kirbi')\n",
      "('youtubefinished', 'youtubefinish')\n",
      "('runawaystrailer', 'runawaystrail')\n",
      "('battlechase', 'battlechas')\n",
      "('finds', 'find')\n",
      "('terminal', 'termin')\n",
      "('toby', 'tobi')\n",
      "('maguire', 'maguir')\n",
      "('trilogy', 'trilog')\n",
      "('talks', 'talk')\n",
      "('strange', 'strang')\n",
      "('multiverse', 'multivers')\n",
      "('madnessever', 'madnessev')\n",
      "('fantastic', 'fantast')\n",
      "('richards', 'richard')\n",
      "('agendas', 'agenda')\n",
      "('summarizationreviewant', 'summarizationreview')\n",
      "('always', 'alway')\n",
      "('confined', 'confin')\n",
      "('limited', 'limit')\n",
      "('upcoming', 'upcom')\n",
      "('richardsfull', 'richardsful')\n",
      "('deleted', 'delet')\n",
      "('hdcostumes', 'hdcostum')\n",
      "('ultimate', 'ultim')\n",
      "('alliance', 'allianc')\n",
      "('getvalkyriejane', 'getvalkyriejan')\n",
      "('goodtony', 'goodtoni')\n",
      "('jarvis', 'jarvi')\n",
      "('guys', 'guy')\n",
      "('stranges', 'strang')\n",
      "('portals', 'portal')\n",
      "('hulks', 'hulk')\n",
      "('skinanimated', 'skinanim')\n",
      "('strangeposter', 'strangepost')\n",
      "('decorationspiderlife', 'decorationspiderlif')\n",
      "('singhhistory', 'singhhistori')\n",
      "('films', 'film')\n",
      "('leading', 'lead')\n",
      "('office', 'offic')\n",
      "('palpatine', 'palpatin')\n",
      "('thanoscharacters', 'thanoscharact')\n",
      "('shows', 'show')\n",
      "('characters', 'charact')\n",
      "('handsrereading', 'handsreread')\n",
      "('hawkeye', 'hawkey')\n",
      "('inspired', 'inspir')\n",
      "('little', 'littl')\n",
      "('something', 'someth')\n",
      "('universe', 'univers')\n",
      "('series', 'seri')\n",
      "('trading', 'trade')\n",
      "('starting', 'start')\n",
      "('startsorry', 'startsorri')\n",
      "('youve', 'youv')\n",
      "('tangled', 'tangl')\n",
      "('scenes', 'scene')\n",
      "('similarstucky', 'similarstucki')\n",
      "('marveltime', 'marveltim')\n",
      "('dudesposterstumbled', 'dudesposterstumbl')\n",
      "('watching', 'watch')\n",
      "('spidercurrently', 'spidercurr')\n",
      "('weeks', 'week')\n",
      "('recovering', 'recov')\n",
      "('surgery', 'surgeri')\n",
      "('decided', 'decid')\n",
      "('films', 'film')\n",
      "('beginning', 'begin')\n",
      "('strange', 'strang')\n",
      "('ladies', 'ladi')\n",
      "('already', 'alreadi')\n",
      "('image', 'imag')\n",
      "('zombies', 'zombi')\n",
      "('resurrectionmorbius', 'resurrectionmorbiu')\n",
      "('posteranswer', 'posteransw')\n",
      "('makers', 'maker')\n",
      "('venomspent', 'venomsp')\n",
      "('hours', 'hour')\n",
      "('making', 'make')\n",
      "('image', 'imag')\n",
      "('spiderverse', 'spidervers')\n",
      "('guys', 'guy')\n",
      "('defoe', 'defo')\n",
      "('accurate', 'accur')\n",
      "('goblinupcoming', 'goblinupcom')\n",
      "('movies', 'movi')\n",
      "('movies', 'movi')\n",
      "('release', 'releas')\n",
      "('dafoe', 'dafo')\n",
      "('accurate', 'accur')\n",
      "('valuablecharacters', 'valuablecharact')\n",
      "('infinity', 'infin')\n",
      "('stonesexpense', 'stonesexpens')\n",
      "('wolverine', 'wolverin')\n",
      "('slightly', 'slightli')\n",
      "('exaggerated', 'exagger')\n",
      "('defeats', 'defeat')\n",
      "('embarrassmentsshowing', 'embarrassmentsshow')\n",
      "('please', 'pleas')\n",
      "('ampspoiler', 'ampspoil')\n",
      "('predicted', 'predict')\n",
      "('ratedguys', 'ratedguy')\n",
      "('wandaposter', 'wandapost')\n",
      "('upcoming', 'upcom')\n",
      "('months', 'month')\n",
      "('agoheres', 'agoher')\n",
      "('recreate', 'recreat')\n",
      "('caps', 'cap')\n",
      "('juice', 'juic')\n",
      "('caps', 'cap')\n",
      "('purposeanyone', 'purposeanyon')\n",
      "('remember', 'rememb')\n",
      "('villains', 'villain')\n",
      "('ffchris', 'ffchri')\n",
      "('evans', 'evan')\n",
      "('elevator', 'elev')\n",
      "('rehearsalchris', 'rehearsalchri')\n",
      "('evans', 'evan')\n",
      "('rehearsing', 'rehears')\n",
      "('elevator', 'elev')\n",
      "('coolthors', 'coolthor')\n",
      "('every', 'everi')\n",
      "('artworkdonny', 'artworkdonni')\n",
      "('cates', 'cate')\n",
      "('wolverine', 'wolverin')\n",
      "('friendscomic', 'friendscom')\n",
      "('recommendationswolverines', 'recommendationswolverin')\n",
      "('expenseunique', 'expenseuniqu')\n",
      "('costumes', 'costum')\n",
      "('universejoe', 'universejo')\n",
      "('newlysurfaced', 'newlysurfac')\n",
      "('audition', 'audit')\n",
      "('seemingly', 'seemingli')\n",
      "('hinted', 'hint')\n",
      "('quicksilver', 'quicksilv')\n",
      "('superheroes', 'superhero')\n",
      "('ultimate', 'ultim')\n",
      "('alliance', 'allianc')\n",
      "('ultimate', 'ultim')\n",
      "('alliancedonny', 'alliancedonni')\n",
      "('cates', 'cate')\n",
      "('brings', 'bring')\n",
      "('guys', 'guy')\n",
      "('miles', 'mile')\n",
      "('morales', 'moral')\n",
      "('jacketcover', 'jacketcov')\n",
      "('calendarhappy', 'calendarhappi')\n",
      "('finally', 'final')\n",
      "('using', 'use')\n",
      "('property', 'properti')\n",
      "('mcuwanted', 'mcuwant')\n",
      "('rrated', 'rrate')\n",
      "('filmmany', 'filmmani')\n",
      "('possibilities', 'possibl')\n",
      "('imagine', 'imagin')\n",
      "('many', 'mani')\n",
      "('unexpected', 'unexpect')\n",
      "('characters', 'charact')\n",
      "('pinball', 'pinbal')\n",
      "('finally', 'final')\n",
      "('working', 'work')\n",
      "('belonggoing', 'belonggo')\n",
      "('middle', 'middl')\n",
      "('really', 'realli')\n",
      "('mrstarkhe', 'mrstarkh')\n",
      "('knowmonths', 'knowmonth')\n",
      "('grinding', 'grind')\n",
      "('finallyone', 'finallyon')\n",
      "('reading', 'read')\n",
      "('comics', 'comic')\n",
      "('unlimitedyears', 'unlimitedyear')\n",
      "('finally', 'final')\n",
      "('finished', 'finish')\n",
      "('avengers', 'aveng')\n",
      "('endgame', 'endgam')\n",
      "('montage', 'montag')\n",
      "('xmenanyone', 'xmenanyon')\n",
      "('ultimate', 'ultim')\n",
      "('alliance', 'allianc')\n",
      "('hyped', 'hype')\n",
      "('caps', 'cap')\n",
      "('dads', 'dad')\n",
      "('picture', 'pictur')\n",
      "('wraping', 'wrape')\n",
      "('hahaavengers', 'hahaaveng')\n",
      "('infinity', 'infin')\n",
      "('demastered', 'demast')\n",
      "('recreation', 'recreat')\n",
      "('infinity', 'infin')\n",
      "('schooleravengers', 'schooleraveng')\n",
      "('books', 'book')\n",
      "('feature', 'featur')\n",
      "('original', 'origin')\n",
      "('yummy', 'yummi')\n",
      "('biebervs', 'bieberv')\n",
      "('variants', 'variant')\n",
      "('guys', 'guy')\n",
      "('interesting', 'interest')\n",
      "('tried', 'tri')\n",
      "('thats', 'that')\n",
      "('countscinematic', 'countscinemat')\n",
      "('venoms', 'venom')\n",
      "('villainous', 'villain')\n",
      "('wolverine', 'wolverin')\n",
      "('questionwant', 'questionw')\n",
      "('another', 'anoth')\n",
      "('movie', 'movi')\n",
      "('lifting', 'lift')\n",
      "('thinking', 'think')\n",
      "('worthy', 'worthi')\n",
      "('thoughts', 'thought')\n",
      "('obviously', 'obvious')\n",
      "('avengerspeople', 'avengerspeopl')\n",
      "('universe', 'univers')\n",
      "('hates', 'hate')\n",
      "('mutantsthanos', 'mutantsthano')\n",
      "('hulkbuster', 'hulkbust')\n",
      "('infinity', 'infin')\n",
      "('bladeanyone', 'bladeanyon')\n",
      "('illegal', 'illeg')\n",
      "('spoilers', 'spoiler')\n",
      "('released', 'releas')\n",
      "('youtube', 'youtub')\n",
      "('please', 'pleas')\n",
      "('information', 'inform')\n",
      "('qualifies', 'qualifi')\n",
      "('montage', 'montag')\n",
      "('likefavorite', 'likefavorit')\n",
      "('movie', 'movi')\n",
      "('seriesexclusive', 'seriesexclus')\n",
      "('comics', 'comic')\n",
      "('amazing', 'amaz')\n",
      "('spidermanguys', 'spidermanguy')\n",
      "('uploaded', 'upload')\n",
      "('making', 'make')\n",
      "('snapdare', 'snapdar')\n",
      "('wielders', 'wielder')\n",
      "('fosters', 'foster')\n",
      "('bookindependent', 'bookindepend')\n",
      "('every', 'everi')\n",
      "('character', 'charact')\n",
      "('handsindependent', 'handsindepend')\n",
      "('every', 'everi')\n",
      "('character', 'charact')\n",
      "('handscelebrating', 'handscelebr')\n",
      "('marvels', 'marvel')\n",
      "('primetime', 'primetim')\n",
      "('hosted', 'host')\n",
      "('airing', 'air')\n",
      "('decemberdooopppeeeesilver', 'decemberdooopppeeeesilv')\n",
      "('digitally', 'digit')\n",
      "('edited', 'edit')\n",
      "('coloured', 'colour')\n",
      "('fanartsister', 'fanartsist')\n",
      "('knows', 'know')\n",
      "('christmas', 'christma')\n",
      "('toys', 'toy')\n",
      "('eggssister', 'eggssist')\n",
      "('knows', 'know')\n",
      "('tiny', 'tini')\n",
      "('christmas', 'christma')\n",
      "('toys', 'toy')\n",
      "('ornamentsthanos', 'ornamentsthano')\n",
      "('accordingmeeting', 'accordingmeet')\n",
      "('neighbors', 'neighbor')\n",
      "('movie', 'movi')\n",
      "('going', 'go')\n",
      "('infinity', 'infin')\n",
      "('sagasee', 'sagase')\n",
      "('absolute', 'absolut')\n",
      "('winfollowing', 'winfollow')\n",
      "('episode', 'episod')\n",
      "('remembers', 'rememb')\n",
      "('animated', 'anim')\n",
      "('series', 'seri')\n",
      "('randomly', 'randomli')\n",
      "('happened', 'happen')\n",
      "('suddenly', 'suddenli')\n",
      "('killed', 'kill')\n",
      "('returned', 'return')\n",
      "('stones', 'stone')\n",
      "('avengers', 'aveng')\n",
      "('endgame', 'endgam')\n",
      "('mutants', 'mutant')\n",
      "('someone', 'someon')\n",
      "('please', 'pleas')\n",
      "('create', 'creat')\n",
      "('baby', 'babi')\n",
      "('kicking', 'kick')\n",
      "('baby', 'babi')\n",
      "('yodas', 'yoda')\n",
      "('hatersfalls', 'hatersfal')\n",
      "('different', 'differ')\n",
      "('every', 'everi')\n",
      "('character', 'charact')\n",
      "('appears', 'appear')\n",
      "('champions', 'champion')\n",
      "('stilled', 'still')\n",
      "('friendsinternets', 'friendsinternet')\n",
      "('slamming', 'slam')\n",
      "('trailerfamily', 'trailerfamili')\n",
      "('canary', 'canari')\n",
      "('widowcouple', 'widowcoupl')\n",
      "('baddiescome', 'baddiescom')\n",
      "('house', 'hous')\n",
      "('avengers', 'aveng')\n",
      "('mannightwing', 'mannightw')\n",
      "('amazing', 'amaz')\n",
      "('heres', 'here')\n",
      "('wallpaper', 'wallpap')\n",
      "('using', 'use')\n",
      "('different', 'differ')\n",
      "('images', 'imag')\n",
      "('thanks', 'thank')\n",
      "('sorting', 'sort')\n",
      "('enormous', 'enorm')\n",
      "('forged', 'forg')\n",
      "('fires', 'fire')\n",
      "('capitalism', 'capit')\n",
      "('commercialisation', 'commercialis')\n",
      "('wants', 'want')\n",
      "('deprive', 'depriv')\n",
      "('opportunities', 'opportun')\n",
      "('filthy', 'filthi')\n",
      "('references', 'refer')\n",
      "('worthy', 'worthi')\n",
      "('mjolnirtaskmaster', 'mjolnirtaskmast')\n",
      "('mans', 'man')\n",
      "('played', 'play')\n",
      "('impossiblestyle', 'impossiblestyl')\n",
      "('usedcontinuity', 'usedcontinu')\n",
      "('brothers', 'brother')\n",
      "('avengers', 'aveng')\n",
      "('americaavengers', 'americaaveng')\n",
      "('infinity', 'infin')\n",
      "('battle', 'battl')\n",
      "('interested', 'interest')\n",
      "('sams', 'sam')\n",
      "('taking', 'take')\n",
      "('mantle', 'mantl')\n",
      "('americaawhile', 'americaawhil')\n",
      "('nowsee', 'nowse')\n",
      "('colossus', 'colossu')\n",
      "('feature', 'featur')\n",
      "('mangiantsize', 'mangiants')\n",
      "('medlemmer', 'medlemm')\n",
      "('danskmans', 'danskman')\n",
      "('playing', 'play')\n",
      "('arcade', 'arcad')\n",
      "('machine', 'machin')\n",
      "('barwhosoever', 'barwhosoev')\n",
      "('holds', 'hold')\n",
      "('extremely', 'extrem')\n",
      "('lucky', 'lucki')\n",
      "('happened', 'happen')\n",
      "('asheville', 'ashevil')\n",
      "('mcfarlane', 'mcfarlan')\n",
      "('announced', 'announc')\n",
      "('surprise', 'surpris')\n",
      "('signinglove', 'signinglov')\n",
      "('everything', 'everyth')\n",
      "('hoodies', 'hoodi')\n",
      "('canarymucic', 'canarymuc')\n",
      "('anybody', 'anybodi')\n",
      "('middleknull', 'middleknul')\n",
      "('cates', 'cate')\n",
      "('confirms', 'confirm')\n",
      "('worried', 'worri')\n",
      "('crossoveractually', 'crossoveractu')\n",
      "('getting', 'get')\n",
      "('something', 'someth')\n",
      "('different', 'differ')\n",
      "('thats', 'that')\n",
      "('cates', 'cate')\n",
      "('excels', 'excel')\n",
      "('imoloveevolution', 'imoloveevolut')\n",
      "('printed', 'print')\n",
      "('pieced', 'piec')\n",
      "('together', 'togeth')\n",
      "('printing', 'print')\n",
      "('parts', 'part')\n",
      "('fittings', 'fit')\n",
      "('adjustments', 'adjust')\n",
      "('leds', 'led')\n",
      "('shipped', 'ship')\n",
      "('truly', 'truli')\n",
      "('something', 'someth')\n",
      "('alone', 'alon')\n",
      "('madestrange', 'madestrang')\n",
      "('academy', 'academi')\n",
      "('comicsthanos', 'comicsthano')\n",
      "('needs', 'need')\n",
      "('theres', 'there')\n",
      "('france', 'franc')\n",
      "('baguettes', 'baguett')\n",
      "('voting', 'vote')\n",
      "('please', 'pleas')\n",
      "('thanos', 'thano')\n",
      "('hours', 'hour')\n",
      "('contestlooking', 'contestlook')\n",
      "('something', 'someth')\n",
      "('sinister', 'sinist')\n",
      "('scalphunter', 'scalphunt')\n",
      "('xteamfinished', 'xteamfinish')\n",
      "('reading', 'read')\n",
      "('universe', 'univers')\n",
      "('frustrated', 'frustrat')\n",
      "('reynolds', 'reynold')\n",
      "('lakes', 'lake')\n",
      "('avengers', 'aveng')\n",
      "('seriesavengers', 'seriesaveng')\n",
      "('endgame', 'endgam')\n",
      "('bandits', 'bandit')\n",
      "('effects', 'effect')\n",
      "('change', 'chang')\n",
      "('serving', 'serv')\n",
      "('tacocute', 'tacocut')\n",
      "('missexclusive', 'missexclus')\n",
      "('coming', 'come')\n",
      "('blufanstracking', 'blufanstrack')\n",
      "('unlimited', 'unlimit')\n",
      "('condition', 'condit')\n",
      "('davids', 'david')\n",
      "('incredible', 'incred')\n",
      "('announce', 'announc')\n",
      "('celebrating', 'celebr')\n",
      "('marvels', 'marvel')\n",
      "('leedifference', 'leediffer')\n",
      "('release', 'releas')\n",
      "('published', 'publish')\n",
      "('datequestions', 'datequest')\n",
      "('mostly', 'mostli')\n",
      "('guys', 'guy')\n",
      "('animated', 'anim')\n",
      "('archnemesis', 'archnemesi')\n",
      "('passing', 'pass')\n",
      "('guys', 'guy')\n",
      "('todayultimate', 'todayultim')\n",
      "('omnibus', 'omnibu')\n",
      "('volhell', 'volhel')\n",
      "('thats', 'that')\n",
      "('seenill', 'seenil')\n",
      "('leave', 'leav')\n",
      "('goes', 'goe')\n",
      "('youtube', 'youtub')\n",
      "('heres', 'here')\n",
      "('working', 'work')\n",
      "('wipeve', 'wipev')\n",
      "('ewing', 'ewe')\n",
      "('recaps', 'recap')\n",
      "('says', 'say')\n",
      "('farewell', 'farewel')\n",
      "('device', 'devic')\n",
      "('tesseracts', 'tesseract')\n",
      "('pretty', 'pretti')\n",
      "('artanyone', 'artanyon')\n",
      "('story', 'stori')\n",
      "('terrible', 'terribl')\n",
      "('endingguys', 'endingguy')\n",
      "('going', 'go')\n",
      "('widowface', 'widowfac')\n",
      "('_______invincible', '_______invinc')\n",
      "('confirmedavengers', 'confirmedaveng')\n",
      "('battle', 'battl')\n",
      "('americagame', 'americagam')\n",
      "('awards', 'award')\n",
      "('downvoted', 'downvot')\n",
      "('weeks', 'week')\n",
      "('books', 'book')\n",
      "('available', 'avail')\n",
      "('terninator', 'ternin')\n",
      "('originally', 'origin')\n",
      "('guys', 'guy')\n",
      "('please', 'pleas')\n",
      "('awesome', 'awesom')\n",
      "('original', 'origin')\n",
      "('films', 'film')\n",
      "('original', 'origin')\n",
      "('battle', 'battl')\n",
      "('lines', 'line')\n",
      "('terminating', 'termin')\n",
      "('servicereality', 'servicer')\n",
      "('warpingmadecant', 'warpingmadec')\n",
      "('tried', 'tri')\n",
      "('franchise', 'franchis')\n",
      "('lets', 'let')\n",
      "('commentswhos', 'commentswho')\n",
      "('realistic', 'realist')\n",
      "('avenger', 'aveng')\n",
      "('meaning', 'mean')\n",
      "('utilize', 'util')\n",
      "('comics', 'comic')\n",
      "('charactersalready', 'charactersalreadi')\n",
      "('posted', 'post')\n",
      "('figured', 'figur')\n",
      "('linkspiderverse', 'linkspidervers')\n",
      "('releasing', 'releas')\n",
      "('awesome', 'awesom')\n",
      "('characters', 'charact')\n",
      "('ganganybody', 'ganganybodi')\n",
      "('remember', 'rememb')\n",
      "('ultimate', 'ultim')\n",
      "('avengers', 'aveng')\n",
      "('avengers', 'aveng')\n",
      "('binary', 'binari')\n",
      "('hegemonyreal', 'hegemonyr')\n",
      "('movie', 'movi')\n",
      "('filming', 'film')\n",
      "('january', 'januari')\n",
      "('according', 'accord')\n",
      "('movie', 'movi')\n",
      "('plothated', 'plothat')\n",
      "('rogers', 'roger')\n",
      "('ending', 'end')\n",
      "('avengers', 'aveng')\n",
      "('endgame', 'endgam')\n",
      "('artwell', 'artwel')\n",
      "('jarvis', 'jarvi')\n",
      "('warnnotify', 'warnnotifi')\n",
      "('intruder', 'intrud')\n",
      "('answers', 'answer')\n",
      "('guysavengers', 'guysaveng')\n",
      "('infinity', 'infin')\n",
      "('childs', 'child')\n",
      "('curious', 'curiou')\n",
      "('podcastcomplete', 'podcastcomplet')\n",
      "('series', 'seri')\n",
      "('massive', 'massiv')\n",
      "('highs', 'high')\n",
      "('lows', 'low')\n",
      "('mutants', 'mutant')\n",
      "('returnavengers', 'returnaveng')\n",
      "('thanos', 'thano')\n",
      "('infinity', 'infin')\n",
      "('gamotivational', 'gamotiv')\n",
      "('story', 'stori')\n",
      "('inspire', 'inspir')\n",
      "('become', 'becom')\n",
      "('avenger', 'aveng')\n",
      "('replace', 'replac')\n",
      "('edition', 'edit')\n",
      "('ants', 'ant')\n",
      "('spidersscored', 'spidersscor')\n",
      "('absolute', 'absolut')\n",
      "('comics', 'comic')\n",
      "('always', 'alway')\n",
      "('ultimate', 'ultim')\n",
      "('everyones', 'everyon')\n",
      "('favorite', 'favorit')\n",
      "('offensive', 'offens')\n",
      "('toys', 'toy')\n",
      "('announce', 'announc')\n",
      "('negative', 'neg')\n",
      "('spiderverse', 'spidervers')\n",
      "('guys', 'guy')\n",
      "('instasmallville', 'instasmallvil')\n",
      "('guardians', 'guardian')\n",
      "('galaxymarvels', 'galaxymarvel')\n",
      "('proves', 'prove')\n",
      "('heroes', 'hero')\n",
      "('capesmade', 'capesmad')\n",
      "('favorite', 'favorit')\n",
      "('scenes', 'scene')\n",
      "('infinity', 'infin')\n",
      "('titlepagemarvels', 'titlepagemarvel')\n",
      "('official', 'offici')\n",
      "('choice', 'choic')\n",
      "('movies', 'movi')\n",
      "('going', 'go')\n",
      "('legends', 'legend')\n",
      "('coming', 'come')\n",
      "('studios', 'studio')\n",
      "('announces', 'announc')\n",
      "('production', 'product')\n",
      "('soldiergalactus', 'soldiergalactu')\n",
      "('strange', 'strang')\n",
      "('latesuperherovillains', 'latesuperherovillain')\n",
      "('voice', 'voic')\n",
      "('vaderawesome', 'vaderawesom')\n",
      "('concepts', 'concept')\n",
      "('anywhere', 'anywher')\n",
      "('cassie', 'cassi')\n",
      "('comicstime', 'comicstim')\n",
      "('yearwolverine', 'yearwolverin')\n",
      "('editionpretty', 'editionpretti')\n",
      "('gives', 'give')\n",
      "('amazing', 'amaz')\n",
      "('walgreens', 'walgreen')\n",
      "('thonas', 'thona')\n",
      "('hes', 'he')\n",
      "('favorite', 'favorit')\n",
      "('endgame', 'endgam')\n",
      "('playing', 'play')\n",
      "('portals', 'portal')\n",
      "('cause', 'caus')\n",
      "('disappointed', 'disappoint')\n",
      "('youtube', 'youtub')\n",
      "('reynolds', 'reynold')\n",
      "('making', 'make')\n",
      "('lolleaked', 'lolleak')\n",
      "('footage', 'footag')\n",
      "('antmanlittle', 'antmanlittl')\n",
      "('finally', 'final')\n",
      "('hires', 'hire')\n",
      "('tony', 'toni')\n",
      "('costume', 'costum')\n",
      "('yes', 'ye')\n",
      "('goatee', 'goate')\n",
      "('really', 'realli')\n",
      "('loving', 'love')\n",
      "('series', 'seri')\n",
      "('workfinished', 'workfinish')\n",
      "('shared', 'share')\n",
      "('behindthescenes', 'behindthescen')\n",
      "('appears', 'appear')\n",
      "('bucky', 'bucki')\n",
      "('barnes', 'barn')\n",
      "('military', 'militari')\n",
      "('scorsese', 'scorses')\n",
      "('watermarksplease', 'watermarkspleas')\n",
      "('asking', 'ask')\n",
      "('scorsese', 'scorses')\n",
      "('definition', 'definit')\n",
      "('ffsthanos', 'ffsthano')\n",
      "('overrated', 'overr')\n",
      "('many', 'mani')\n",
      "('serious', 'seriou')\n",
      "('mandave', 'mandav')\n",
      "('welldocumented', 'welldocu')\n",
      "('predator', 'predat')\n",
      "('heroes', 'hero')\n",
      "('spiderverse', 'spidervers')\n",
      "('guys', 'guy')\n",
      "('eternals', 'etern')\n",
      "('evacuated', 'evacu')\n",
      "('discoverybeginstime', 'discoverybeginstim')\n",
      "('foggy', 'foggi')\n",
      "('slapped', 'slap')\n",
      "('punisher', 'punish')\n",
      "('krewthing', 'krewth')\n",
      "('anyone', 'anyon')\n",
      "('else', 'els')\n",
      "('dying', 'die')\n",
      "('eventually', 'eventu')\n",
      "('mcuneed', 'mcune')\n",
      "('finding', 'find')\n",
      "('series', 'seri')\n",
      "('mantony', 'mantoni')\n",
      "('exposedinfluencer', 'exposedinfluenc')\n",
      "('thanos', 'thano')\n",
      "('filters', 'filter')\n",
      "('faces', 'face')\n",
      "('recognized', 'recogn')\n",
      "('instagramred', 'instagramr')\n",
      "('hulkbuster', 'hulkbust')\n",
      "('toys', 'toy')\n",
      "('universeamazing', 'universeamaz')\n",
      "('issue', 'issu')\n",
      "('saying', 'say')\n",
      "('deliscious', 'delisci')\n",
      "('ricemarvels', 'ricemarvel')\n",
      "('eternals', 'etern')\n",
      "('filming', 'film')\n",
      "('halted', 'halt')\n",
      "('jolie', 'joli')\n",
      "('others', 'other')\n",
      "('loving', 'love')\n",
      "('awesome', 'awesom')\n",
      "('monkeylore', 'monkeylor')\n",
      "('lockjaws', 'lockjaw')\n",
      "('accessoryfamily', 'accessoryfamili')\n",
      "('opening', 'open')\n",
      "('endgamewhats', 'endgamewhat')\n",
      "('saved', 'save')\n",
      "('lives', 'live')\n",
      "('difference', 'differ')\n",
      "('comics', 'comic')\n",
      "('excluding', 'exclud')\n",
      "('infinity', 'infin')\n",
      "('course', 'cours')\n",
      "('difference', 'differ')\n",
      "('wellgoose', 'wellgoos')\n",
      "('always', 'alway')\n",
      "('venomthings', 'venomth')\n",
      "('artistmade', 'artistmad')\n",
      "('comics', 'comic')\n",
      "('goes', 'goe')\n",
      "('crazy', 'crazi')\n",
      "('dropped', 'drop')\n",
      "('wiping', 'wipe')\n",
      "('military', 'militari')\n",
      "('forces', 'forc')\n",
      "('taking', 'take')\n",
      "('earthcharacter', 'earthcharact')\n",
      "('timelinesdawning', 'timelinesdawn')\n",
      "('ascension', 'ascens')\n",
      "('complete', 'complet')\n",
      "('eternal', 'etern')\n",
      "('apocalypse', 'apocalyps')\n",
      "('worlds', 'world')\n",
      "('mutants', 'mutant')\n",
      "('octobers', 'octob')\n",
      "('character', 'charact')\n",
      "('character', 'charact')\n",
      "('seriesjackovenomjubilee', 'seriesjackovenomjubile')\n",
      "('included', 'includ')\n",
      "('completely', 'complet')\n",
      "('accurate', 'accur')\n",
      "('going', 'go')\n",
      "('characters', 'charact')\n",
      "('inktober', 'inktob')\n",
      "('challenge', 'challeng')\n",
      "('anyones', 'anyon')\n",
      "('interested', 'interest')\n",
      "('cheerstribute', 'cheerstribut')\n",
      "('favorite', 'favorit')\n",
      "('comics', 'comic')\n",
      "('movie', 'movi')\n",
      "('avengers', 'aveng')\n",
      "('endgame', 'endgam')\n",
      "('silhouette', 'silhouett')\n",
      "('hours', 'hour')\n",
      "('hours', 'hour')\n",
      "('finally', 'final')\n",
      "('paidfollowing', 'paidfollow')\n",
      "('comics', 'comic')\n",
      "('infinity', 'infin')\n",
      "('endgame', 'endgam')\n",
      "('eventbring', 'eventbr')\n",
      "('danny', 'danni')\n",
      "('managed', 'manag')\n",
      "('storyline', 'storylin')\n",
      "('uncanny', 'uncanni')\n",
      "('drawing', 'draw')\n",
      "('arthappy', 'arthappi')\n",
      "('finally', 'final')\n",
      "('issues', 'issu')\n",
      "('books', 'book')\n",
      "('doomstrange', 'doomstrang')\n",
      "('revive', 'reviv')\n",
      "('movie', 'movi')\n",
      "('avengers', 'aveng')\n",
      "('endgame', 'endgam')\n",
      "('silhouette', 'silhouett')\n",
      "('scorsese', 'scorses')\n",
      "('movies', 'movi')\n",
      "('says', 'say')\n",
      "('titles', 'titl')\n",
      "('spiderverse', 'spidervers')\n",
      "('anime', 'anim')\n",
      "('wearing', 'wear')\n",
      "('mcdonalds', 'mcdonald')\n",
      "('stoked', 'stoke')\n",
      "('bus', 'bu')\n",
      "('spells', 'spell')\n",
      "('endgame', 'endgam')\n",
      "('lying', 'lie')\n",
      "('promising', 'promis')\n",
      "('promisingtrinity', 'promisingtrin')\n",
      "('avengersavengers', 'avengersaveng')\n",
      "('assemble', 'assembl')\n",
      "('scorsese', 'scorses')\n",
      "('says', 'say')\n",
      "('movies', 'movi')\n",
      "('jrs', 'jr')\n",
      "('woes', 'woe')\n",
      "('blamed', 'blame')\n",
      "('mans', 'man')\n",
      "('strange', 'strang')\n",
      "('multiverse', 'multivers')\n",
      "('madness', 'mad')\n",
      "('infinity', 'infin')\n",
      "('movie', 'movi')\n",
      "('spiderverse', 'spidervers')\n",
      "('includedmade', 'includedmad')\n",
      "('versions', 'version')\n",
      "('avengers', 'aveng')\n",
      "('infinity', 'infin')\n",
      "('characters', 'charact')\n",
      "('ltreally', 'ltrealli')\n",
      "('locating', 'locat')\n",
      "('stranges', 'strang')\n",
      "('favourite', 'favourit')\n",
      "('scorsese', 'scorses')\n",
      "('says', 'say')\n",
      "('movies', 'movi')\n",
      "('says', 'say')\n",
      "('theyre', 'theyr')\n",
      "('guys', 'guy')\n",
      "('pulled', 'pull')\n",
      "('punches', 'punch')\n",
      "('thanos', 'thano')\n",
      "('infinity', 'infin')\n",
      "('memories', 'memori')\n",
      "('beganshopping', 'beganshop')\n",
      "('covering', 'cover')\n",
      "('illegal', 'illeg')\n",
      "('dance', 'danc')\n",
      "('everinktober', 'everinktob')\n",
      "('homethanosaurous', 'homethanosaur')\n",
      "('instantkill', 'instantkil')\n",
      "('looked', 'look')\n",
      "('homecoming', 'homecom')\n",
      "('spiderinfinity', 'spiderinfin')\n",
      "('collectors', 'collector')\n",
      "('editiondrawing', 'editiondraw')\n",
      "('really', 'realli')\n",
      "('happy', 'happi')\n",
      "('comes', 'come')\n",
      "('mcuunlockable', 'mcuunlock')\n",
      "('revealed', 'reveal')\n",
      "('marvels', 'marvel')\n",
      "('avengers', 'aveng')\n",
      "('teasesgiving', 'teasesgiv')\n",
      "('legends', 'legend')\n",
      "('machine', 'machin')\n",
      "('mannightmare', 'mannightmar')\n",
      "('material', 'materi')\n",
      "('courtesy', 'courtesi')\n",
      "('groundsnews', 'groundsnew')\n",
      "('champions', 'champion')\n",
      "('mobile', 'mobil')\n",
      "('movies', 'movi')\n",
      "('figures', 'figur')\n",
      "('lolfinished', 'lolfinish')\n",
      "('house', 'hous')\n",
      "('battlesavengers', 'battlesaveng')\n",
      "('assembleimagine', 'assembleimagin')\n",
      "('reality', 'realiti')\n",
      "('warps', 'warp')\n",
      "('entered', 'enter')\n",
      "('galaxy', 'galaxi')\n",
      "('heading', 'head')\n",
      "('wayanyone', 'wayanyon')\n",
      "('going', 'go')\n",
      "('fantastic', 'fantast')\n",
      "('possibly', 'possibl')\n",
      "('avengers', 'aveng')\n",
      "('playing', 'play')\n",
      "('people', 'peopl')\n",
      "('talking', 'talk')\n",
      "('avengers', 'aveng')\n",
      "('favorite', 'favorit')\n",
      "('movies', 'movi')\n",
      "('mcuanimated', 'mcuanim')\n",
      "('informative', 'inform')\n",
      "('goes', 'goe')\n",
      "('flying', 'fli')\n",
      "('shaked', 'shake')\n",
      "('handsideal', 'handsid')\n",
      "('sinister', 'sinist')\n",
      "('tried', 'tri')\n",
      "('thanos', 'thano')\n",
      "('ewing', 'ewe')\n",
      "('guardians', 'guardian')\n",
      "('galaxygetting', 'galaxyget')\n",
      "('immortal', 'immort')\n",
      "('october', 'octob')\n",
      "('comicsincredible', 'comicsincred')\n",
      "('musicalmarvels', 'musicalmarvel')\n",
      "('avengers', 'aveng')\n",
      "('announcement', 'announc')\n",
      "('trailerdonny', 'trailerdonni')\n",
      "('cates', 'cate')\n",
      "('officially', 'offici')\n",
      "('taking', 'take')\n",
      "('aarondonny', 'aarondonni')\n",
      "('cates', 'cate')\n"
     ]
    },
    {
     "name": "stdout",
     "output_type": "stream",
     "text": [
      "('aaronvenomnibus', 'aaronvenomnibu')\n",
      "('purchaseeverybody', 'purchaseeverybodi')\n",
      "('hates', 'hate')\n",
      "('sagahope', 'sagahop')\n",
      "('lines', 'line')\n",
      "('impressions', 'impress')\n",
      "('avengerspredicting', 'avengerspredict')\n",
      "('releaseshmmscorsese', 'releaseshmmscorses')\n",
      "('trending', 'trend')\n",
      "('movie', 'movi')\n",
      "('spiderverse', 'spidervers')\n",
      "('included', 'includ')\n",
      "('rydermade', 'rydermad')\n",
      "('avengers', 'aveng')\n",
      "('piece', 'piec')\n",
      "('celebration', 'celebr')\n",
      "('avengers', 'aveng')\n",
      "('coming', 'come')\n",
      "('update', 'updat')\n",
      "('sony', 'soni')\n",
      "('reportedly', 'reportedli')\n",
      "('artreally', 'artreal')\n",
      "('shouldve', 'shouldv')\n",
      "('snapped', 'snap')\n",
      "('fingerslesser', 'fingersless')\n",
      "('comicsbombastic', 'comicsbombast')\n",
      "('dragonconmanual', 'dragonconmanu')\n",
      "('approval', 'approv')\n",
      "('subthanos', 'subthano')\n",
      "('already', 'alreadi')\n",
      "('conquered', 'conquer')\n",
      "('wiped', 'wipe')\n",
      "('population', 'popul')\n",
      "('population', 'popul')\n",
      "('wiped', 'wipe')\n",
      "('snapthanos', 'snapthano')\n",
      "('shoots', 'shoot')\n",
      "('energy', 'energi')\n",
      "('dinosaurs', 'dinosaur')\n",
      "('jurassic', 'jurass')\n",
      "('unityops', 'unityop')\n",
      "('rips', 'rip')\n",
      "('autographwatching', 'autographwatch')\n",
      "('endgame', 'endgam')\n",
      "('comes', 'come')\n",
      "('lived', 'live')\n",
      "('timeline', 'timelin')\n",
      "('drawing', 'draw')\n",
      "('madesomeone', 'madesomeon')\n",
      "('carves', 'carv')\n",
      "('moons', 'moon')\n",
      "('victims', 'victim')\n",
      "('collection', 'collect')\n",
      "('update', 'updat')\n",
      "('includedpainted', 'includedpaint')\n",
      "('instagramcommoe_dotkree', 'instagramcommoe_dotkre')\n",
      "('worldwhove', 'worldwhov')\n",
      "('thingstanreading', 'thingstanread')\n",
      "('house', 'hous')\n",
      "('powerspassed', 'powerspass')\n",
      "('avengers', 'aveng')\n",
      "('barracks', 'barrack')\n",
      "('weeks', 'week')\n",
      "('agogggallowed', 'agogggallow')\n",
      "('terrible', 'terribl')\n",
      "('ultimatesbringing', 'ultimatesbring')\n",
      "('stacy', 'staci')\n",
      "('permantentlyeveryone', 'permantentlyeveryon')\n",
      "('loves', 'love')\n",
      "('needs', 'need')\n",
      "('roped', 'rope')\n",
      "('movie', 'movi')\n",
      "('oyeyeahsomething', 'oyeyeahsometh')\n",
      "('noticed', 'notic')\n",
      "('bridge', 'bridg')\n",
      "('trilogy', 'trilog')\n",
      "('endranking', 'endrank')\n",
      "('geniuseslets', 'geniuseslet')\n",
      "('reverse', 'revers')\n",
      "('actually', 'actual')\n",
      "('trying', 'tri')\n",
      "('simply', 'simpli')\n",
      "('comics', 'comic')\n",
      "('going', 'go')\n",
      "('oneshots', 'oneshot')\n",
      "('eternity', 'etern')\n",
      "('plotlinecharacters', 'plotlinecharact')\n",
      "('jaspers', 'jasper')\n",
      "('shotcharacters', 'shotcharact')\n",
      "('jaspers', 'jasper')\n",
      "('comics', 'comic')\n",
      "('presented', 'present')\n",
      "('someone', 'someon')\n",
      "('thundergtthe', 'thundergtth')\n",
      "('immortal', 'immort')\n",
      "('reading', 'read')\n",
      "('orderspider', 'orderspid')\n",
      "('verseholpowerful', 'verseholpow')\n",
      "('excluding', 'exclud')\n",
      "('beyonder', 'beyond')\n",
      "('abraxas', 'abraxa')\n",
      "('thanos', 'thano')\n",
      "('ranknever', 'ranknev')\n",
      "('saying', 'say')\n",
      "('proving', 'prove')\n",
      "('important', 'import')\n",
      "('figures', 'figur')\n",
      "('history', 'histori')\n",
      "('septembers', 'septemb')\n",
      "('character', 'charact')\n",
      "('monthmarvels', 'monthmarvel')\n",
      "('chaos', 'chao')\n",
      "('essential', 'essenti')\n",
      "('reading', 'read')\n",
      "('guidepeople', 'guidepeopl')\n",
      "('piece', 'piec')\n",
      "('movie', 'movi')\n",
      "('mcubucky', 'mcubucki')\n",
      "('receieved', 'receiev')\n",
      "('exclusive', 'exclus')\n",
      "('copies', 'copi')\n",
      "('hours', 'hour')\n",
      "('painting', 'paint')\n",
      "('backgroundpathfinder', 'backgroundpathfind')\n",
      "('character', 'charact')\n",
      "('conversion', 'convers')\n",
      "('guide', 'guid')\n",
      "('postsmall', 'postsmal')\n",
      "('scenes', 'scene')\n",
      "('portals', 'portal')\n",
      "('avengers', 'aveng')\n",
      "('endgamemade', 'endgamemad')\n",
      "('infinity', 'infin')\n",
      "('reverse', 'revers')\n",
      "('inspired', 'inspir')\n",
      "('ugodzillas', 'ugodzilla')\n",
      "('surferendgame', 'surferendgam')\n",
      "('drawing', 'draw')\n",
      "('thinking', 'think')\n",
      "('coloring', 'color')\n",
      "('copy', 'copi')\n",
      "('absolute', 'absolut')\n",
      "('carnage', 'carnag')\n",
      "('anybody', 'anybodi')\n",
      "('digital', 'digit')\n",
      "('codereally', 'coder')\n",
      "('animation', 'anim')\n",
      "('spidermanbringing', 'spidermanbring')\n",
      "('stacy', 'staci')\n",
      "('ripspiderverse', 'ripspidervers')\n",
      "('shiroganesamaterms', 'shiroganesamaterm')\n",
      "('powers', 'power')\n",
      "('separates', 'separ')\n",
      "('anotherwondering', 'anotherwond')\n",
      "('many', 'mani')\n",
      "('serums', 'serum')\n",
      "('comics', 'comic')\n",
      "('becomes', 'becom')\n",
      "('moonknightthanos', 'moonknightthano')\n",
      "('thanos', 'thano')\n",
      "('another', 'anoth')\n",
      "('wallpaper', 'wallpap')\n",
      "('figured', 'figur')\n",
      "('using', 'use')\n",
      "('picsartthanos', 'picsartthano')\n",
      "('panels', 'panel')\n",
      "('everyone', 'everyon')\n",
      "('reasonguys', 'reasonguy')\n",
      "('grossing', 'gross')\n",
      "('movie', 'movi')\n",
      "('movie', 'movi')\n",
      "('universe', 'univers')\n",
      "('victory', 'victori')\n",
      "('actually', 'actual')\n",
      "('battle', 'battl')\n",
      "('happy', 'happi')\n",
      "('thanos', 'thano')\n",
      "('theoryavengers', 'theoryaveng')\n",
      "('everlasting', 'everlast')\n",
      "('always', 'alway')\n",
      "('amazing', 'amaz')\n",
      "('friends', 'friend')\n",
      "('remade', 'remad')\n",
      "('series', 'seri')\n",
      "('following', 'follow')\n",
      "('miles', 'mile')\n",
      "('inspiration', 'inspir')\n",
      "('empirebesides', 'empirebesid')\n",
      "('champions', 'champion')\n",
      "('recently', 'recent')\n",
      "('alexandersnapping', 'alexandersnap')\n",
      "('considered', 'consid')\n",
      "('insensitive', 'insensit')\n",
      "('future', 'futur')\n",
      "('mcuinnocent', 'mcuinnoc')\n",
      "('justice', 'justic')\n",
      "('league', 'leagu')\n",
      "('brothers', 'brother')\n",
      "('commented', 'comment')\n",
      "('worthy', 'worthi')\n",
      "('lifting', 'lift')\n",
      "('mcugraphic', 'mcugraph')\n",
      "('passionanyone', 'passionanyon')\n",
      "('whats', 'what')\n",
      "('going', 'go')\n",
      "('yissversion', 'yissvers')\n",
      "('caps', 'cap')\n",
      "('endgame', 'endgam')\n",
      "('comicsanyone', 'comicsanyon')\n",
      "('animated', 'anim')\n",
      "('series', 'seri')\n",
      "('anything', 'anyth')\n",
      "('spiderverse', 'spidervers')\n",
      "('shoes', 'shoe')\n",
      "('slowly', 'slowli')\n",
      "('becoming', 'becom')\n",
      "('buying', 'buy')\n",
      "('shoes', 'shoe')\n",
      "('theres', 'there')\n",
      "('lotjoker', 'lotjok')\n",
      "('always', 'alway')\n",
      "('endgame', 'endgam')\n",
      "('released', 'releas')\n",
      "('change', 'chang')\n",
      "('mindfine', 'mindfin')\n",
      "('guysstepped', 'guysstep')\n",
      "('comics', 'comic')\n",
      "('rekindled', 'rekindl')\n",
      "('happy', 'happi')\n",
      "('avengers', 'aveng')\n",
      "('bendis', 'bendi')\n",
      "('together', 'togeth')\n",
      "('pops', 'pop')\n",
      "('comics', 'comic')\n",
      "('venomanyone', 'venomanyon')\n",
      "('google', 'googl')\n",
      "('reading', 'read')\n",
      "('everyone', 'everyon')\n",
      "('wanted', 'want')\n",
      "('daily', 'daili')\n",
      "('everyones', 'everyon')\n",
      "('favorite', 'favorit')\n",
      "('daily', 'daili')\n",
      "('someone', 'someon')\n",
      "('includes', 'includ')\n",
      "('movies', 'movi')\n",
      "('infinity', 'infin')\n",
      "('lets', 'let')\n",
      "('favorite', 'favorit')\n",
      "('everyones', 'everyon')\n",
      "('favorite', 'favorit')\n",
      "('grootpower', 'grootpow')\n",
      "('packgrandfather', 'packgrandfath')\n",
      "('watching', 'watch')\n",
      "('endgame', 'endgam')\n",
      "('whats', 'what')\n",
      "('collection', 'collect')\n",
      "('faragents', 'farag')\n",
      "('finale', 'final')\n",
      "('discussion', 'discuss')\n",
      "('threadways', 'threadway')\n",
      "('cinematic', 'cinemat')\n",
      "('universe', 'univers')\n",
      "('differentlyinking', 'differentlyink')\n",
      "('favourite', 'favourit')\n",
      "('character', 'charact')\n",
      "('grossing', 'gross')\n",
      "('movies', 'movi')\n",
      "('augustwanted', 'augustw')\n",
      "('sayinteresting', 'sayinterest')\n",
      "('used', 'use')\n",
      "('anymore', 'anymor')\n",
      "('seems', 'seem')\n",
      "('overshadowed', 'overshadow')\n",
      "('avengers', 'aveng')\n",
      "('comics', 'comic')\n",
      "('expanded', 'expand')\n",
      "('universe', 'univers')\n",
      "('bookposter', 'bookpost')\n",
      "('guys', 'guy')\n",
      "('behemothanyone', 'behemothanyon')\n",
      "('lostrunsbrands', 'lostrunsbrand')\n",
      "('powered', 'power')\n",
      "('charactersthanos', 'charactersthano')\n",
      "('bats', 'bat')\n",
      "('commissioned', 'commiss')\n",
      "('piece', 'piec')\n",
      "('americas', 'america')\n",
      "('excellent', 'excel')\n",
      "('adventurehelpanyone', 'adventurehelpanyon')\n",
      "('else', 'els')\n",
      "('remember', 'rememb')\n",
      "('fighting', 'fight')\n",
      "('nemesis', 'nemesi')\n",
      "('imperfects', 'imperfect')\n",
      "('comics', 'comic')\n",
      "('something', 'someth')\n",
      "('original', 'origin')\n",
      "('characters', 'charact')\n",
      "('quicksilver', 'quicksilv')\n",
      "('potential', 'potenti')\n",
      "('movie', 'movi')\n",
      "('people', 'peopl')\n",
      "('copy', 'copi')\n",
      "('amazing', 'amaz')\n",
      "('signed', 'sign')\n",
      "('anyone', 'anyon')\n",
      "('paintedhope', 'paintedhop')\n",
      "('becomes', 'becom')\n",
      "('marveltheory', 'marveltheori')\n",
      "('fans', 'fan')\n",
      "('sorry', 'sorri')\n",
      "('rules', 'rule')\n",
      "('questiondae', 'questionda')\n",
      "('moviessomeone', 'moviessomeon')\n",
      "('res', 're')\n",
      "('trying', 'tri')\n",
      "('people', 'peopl')\n",
      "('personality', 'person')\n",
      "('hes', 'he')\n",
      "('barely', 'bare')\n",
      "('anything', 'anyth')\n",
      "('comics', 'comic')\n",
      "('people', 'peopl')\n",
      "('important', 'import')\n",
      "('people', 'peopl')\n",
      "('getting', 'get')\n",
      "('killed', 'kill')\n",
      "('definitive', 'definit')\n",
      "('smartphonefinished', 'smartphonefinish')\n",
      "('picture', 'pictur')\n",
      "('stanatlantis', 'stanatlanti')\n",
      "('rising', 'rise')\n",
      "('suethats', 'suethat')\n",
      "('factcomics', 'factcom')\n",
      "('introduce', 'introduc')\n",
      "('story', 'stori')\n",
      "('empire', 'empir')\n",
      "('actually', 'actual')\n",
      "('anyone', 'anyon')\n",
      "('worthyfinally', 'worthyfin')\n",
      "('months', 'month')\n",
      "('finished', 'finish')\n",
      "('infinity', 'infin')\n",
      "('supercutever', 'supercutev')\n",
      "('wolverine', 'wolverin')\n",
      "('stabs', 'stab')\n",
      "('someone', 'someon')\n",
      "('enemys', 'enemi')\n",
      "('goes', 'goe')\n",
      "('bladesyears', 'bladesyear')\n",
      "('guardians', 'guardian')\n",
      "('galaxy', 'galaxi')\n",
      "('released', 'releas')\n",
      "('happy', 'happi')\n",
      "('friends', 'friend')\n",
      "('eachotherultimates', 'eachotherultim')\n",
      "('famous', 'famou')\n",
      "('predicting', 'predict')\n",
      "('fury', 'furi')\n",
      "('jokeultimates', 'jokeultim')\n",
      "('famous', 'famou')\n",
      "('saying', 'say')\n",
      "('fury', 'furi')\n",
      "('contains', 'contain')\n",
      "('ironic', 'iron')\n",
      "('invasion', 'invas')\n",
      "('whipped', 'whip')\n",
      "('originalavengers', 'originalaveng')\n",
      "('endgame', 'endgam')\n",
      "('scenebreaking', 'scenebreak')\n",
      "('artfilmtelevision', 'artfilmtelevis')\n",
      "('remember', 'rememb')\n",
      "('elevator', 'elev')\n",
      "('endgame', 'endgam')\n",
      "('says', 'say')\n",
      "('anyone', 'anyon')\n",
      "('anthing', 'anth')\n",
      "('stumbled', 'stumbl')\n",
      "('died', 'die')\n",
      "('endgame', 'endgam')\n",
      "('movieinstant', 'movieinst')\n",
      "('copanyone', 'copanyon')\n",
      "('else', 'els')\n",
      "('excited', 'excit')\n",
      "('absolute', 'absolut')\n",
      "('carnage', 'carnag')\n",
      "('heroes', 'hero')\n",
      "('avengers', 'aveng')\n",
      "('chris', 'chri')\n",
      "('stevensspiderpeople', 'stevensspiderpeopl')\n",
      "('radioactive', 'radioact')\n",
      "('activations', 'activ')\n",
      "('games', 'game')\n",
      "('minneapoliseveryone', 'minneapoliseveryon')\n",
      "('notice', 'notic')\n",
      "('stones', 'stone')\n",
      "('tony', 'toni')\n",
      "('tried', 'tri')\n",
      "('thanos', 'thano')\n",
      "('stones', 'stone')\n",
      "('lying', 'lie')\n",
      "('thanos', 'thano')\n",
      "('looks', 'look')\n",
      "('tony', 'toni')\n",
      "('intended', 'intend')\n",
      "('stones', 'stone')\n",
      "('opportunity', 'opportun')\n",
      "('felllove', 'felllov')\n",
      "('comics', 'comic')\n",
      "('collection', 'collect')\n",
      "('crossover', 'crossov')\n",
      "('events', 'event')\n",
      "('doodlelittle', 'doodlelittl')\n",
      "('really', 'realli')\n",
      "('studios', 'studio')\n",
      "('books', 'book')\n",
      "('collection', 'collect')\n",
      "('characterlooking', 'characterlook')\n",
      "('reading', 'read')\n",
      "('comics', 'comic')\n",
      "('complete', 'complet')\n",
      "('costume', 'costum')\n",
      "('levitation', 'levit')\n",
      "('changed', 'chang')\n",
      "('strange', 'strang')\n",
      "('runs', 'run')\n",
      "('series', 'seri')\n",
      "('people', 'peopl')\n",
      "('blipped', 'blip')\n",
      "('moments', 'moment')\n",
      "('funnyvenomaniacs', 'funnyvenomaniac')\n",
      "('covers', 'cover')\n",
      "('absolute', 'absolut')\n",
      "('carnage', 'carnag')\n",
      "('weekly', 'weekli')\n",
      "('seriesneed', 'seriesne')\n",
      "('information', 'inform')\n",
      "('gwensomeone', 'gwensomeon')\n",
      "('spoiled', 'spoil')\n",
      "('ultimate', 'ultim')\n",
      "('spidermannoticed', 'spidermannot')\n",
      "('sleepersguys', 'sleepersguy')\n",
      "('movie', 'movi')\n",
      "('skipping', 'skip')\n",
      "('rocks', 'rock')\n",
      "('surfing', 'surf')\n",
      "('couldalternative', 'couldaltern')\n",
      "('endgame', 'endgam')\n",
      "('ending', 'end')\n",
      "('maguirewant', 'maguirew')\n",
      "('reading', 'read')\n",
      "('comicsthanos', 'comicsthano')\n",
      "('purposereally', 'purposer')\n",
      "('looked', 'look')\n",
      "('unique', 'uniqu')\n",
      "('creepy', 'creepi')\n",
      "('possessed', 'possess')\n",
      "('generic', 'gener')\n",
      "('movie', 'movi')\n",
      "('monsterwes', 'monsterw')\n",
      "('directed', 'direct')\n",
      "('xmenreading', 'xmenread')\n",
      "('comics', 'comic')\n",
      "('advice', 'advic')\n",
      "('leeideaanyone', 'leeideaanyon')\n",
      "('series', 'seri')\n",
      "('collected', 'collect')\n",
      "('formatcollection', 'formatcollect')\n",
      "('seriesdigital', 'seriesdigit')\n",
      "('fanartremember', 'fanartrememb')\n",
      "('wolverine', 'wolverin')\n",
      "('swapped', 'swap')\n",
      "('bodies', 'bodi')\n",
      "('ultimate', 'ultim')\n",
      "('seeing', 'see')\n",
      "('todaycomic', 'todaycom')\n",
      "('character', 'charact')\n",
      "('someoneopening', 'someoneopen')\n",
      "('goodies', 'goodi')\n",
      "('users', 'user')\n",
      "('famemoms', 'famemom')\n",
      "('collected', 'collect')\n",
      "('books', 'book')\n",
      "('thoughtsposters', 'thoughtspost')\n",
      "('watching', 'watch')\n",
      "('outside', 'outsid')\n",
      "('homestill', 'homestil')\n",
      "('angryneeds', 'angryne')\n",
      "('animated', 'anim')\n",
      "('universe', 'univers')\n",
      "('hits', 'hit')\n",
      "('ultimate', 'ultim')\n",
      "('actually', 'actual')\n",
      "('tease', 'teas')\n",
      "('related', 'relat')\n",
      "('property', 'properti')\n",
      "('homespider', 'homespid')\n",
      "('sometimes', 'sometim')\n",
      "('mortimerspoiler', 'mortimerspoil')\n",
      "('endgame', 'endgam')\n",
      "('asked', 'ask')\n",
      "('bugging', 'bug')\n",
      "('happens', 'happen')\n",
      "('people', 'peopl')\n",
      "('snapped', 'snap')\n",
      "('years', 'year')\n",
      "('people', 'peopl')\n",
      "('eventually', 'eventu')\n",
      "('returns', 'return')\n",
      "('aged', 'age')\n",
      "('backsince', 'backsinc')\n",
      "('inspired', 'inspir')\n",
      "('homespoiler', 'homespoil')\n",
      "('youve', 'youv')\n",
      "('movie', 'movi')\n",
      "('spoilspoiler', 'spoilspoil')\n",
      "('scenephase', 'scenephas')\n",
      "('teasedouble', 'teasedoubl')\n",
      "('boiactually', 'boiactual')\n",
      "('insider', 'insid')\n",
      "('petition', 'petit')\n",
      "('reaves', 'reav')\n",
      "('easy', 'easi')\n",
      "('someone', 'someon')\n",
      "('cause', 'caus')\n",
      "('knowneed', 'knowne')\n",
      "('engame', 'engam')\n",
      "('spidermanopening', 'spidermanopen')\n",
      "('ruined', 'ruin')\n",
      "('usquestion', 'usquest')\n",
      "('followpeter', 'followpet')\n",
      "('comics', 'comic')\n",
      "('become', 'becom')\n",
      "('adultlooking', 'adultlook')\n",
      "('statues', 'statu')\n",
      "('release', 'releas')\n",
      "('immortal', 'immort')\n",
      "('giving', 'give')\n",
      "('posters', 'poster')\n",
      "('anyone', 'anyon')\n",
      "('else', 'els')\n",
      "('homereally', 'homer')\n",
      "('fixing', 'fix')\n",
      "('timelines', 'timelin')\n",
      "('itunes', 'itun')\n",
      "('movie', 'movi')\n",
      "('avengers', 'aveng')\n",
      "('titles', 'titl')\n",
      "('since', 'sinc')\n",
      "('dissemble', 'dissembl')\n",
      "('official', 'offici')\n",
      "('international', 'intern')\n",
      "('release', 'releas')\n",
      "('discussion', 'discuss')\n",
      "('megathreadenjoying', 'megathreadenjoy')\n",
      "('artcasting', 'artcast')\n",
      "('choices', 'choic')\n",
      "('fantastic', 'fantast')\n",
      "('othersspider', 'othersspid')\n",
      "('needs', 'need')\n",
      "('endgame', 'endgam')\n",
      "('beats', 'beat')\n",
      "('avatarspooder', 'avatarspood')\n",
      "('artlighting', 'artlight')\n",
      "('hulkbuster', 'hulkbust')\n",
      "('comiconmaker', 'comiconmak')\n",
      "('confusionserious', 'confusionseri')\n",
      "('people', 'peopl')\n",
      "('amazing', 'amaz')\n",
      "('filled', 'fill')\n",
      "('fighting', 'fight')\n",
      "('sequences', 'sequenc')\n",
      "('effects', 'effect')\n",
      "('infinity', 'infin')\n",
      "('movie', 'movi')\n",
      "('appearance', 'appear')\n",
      "('quotes', 'quot')\n",
      "('chronological', 'chronolog')\n",
      "('avengers', 'aveng')\n",
      "('petition', 'petit')\n",
      "('fans', 'fan')\n",
      "('please', 'pleas')\n",
      "('petition', 'petit')\n",
      "('hans', 'han')\n",
      "('prepared', 'prepar')\n",
      "('unused', 'unus')\n",
      "('ideas', 'idea')\n",
      "('movie', 'movi')\n",
      "('pretending', 'pretend')\n",
      "('wolverinepossible', 'wolverineposs')\n",
      "('suits', 'suit')\n",
      "('revealed', 'reveal')\n",
      "('universe', 'univers')\n",
      "('explainedmade', 'explainedmad')\n",
      "('fancy', 'fanci')\n",
      "('spiderverse', 'spidervers')\n",
      "('improved', 'improv')\n",
      "('framerate', 'framer')\n",
      "('netflixdifference', 'netflixdiffer')\n",
      "('tonys', 'toni')\n",
      "('armours', 'armour')\n",
      "('peppers', 'pepper')\n",
      "('machinedoodled', 'machinedoodl')\n",
      "('nobody', 'nobodi')\n",
      "('offense', 'offens')\n",
      "('seeing', 'see')\n",
      "('defeatednative', 'defeatedn')\n",
      "('village', 'villag')\n",
      "('marvels', 'marvel')\n",
      "('colossus', 'colossu')\n",
      "('looks', 'look')\n",
      "('location', 'locat')\n",
      "('ustordinsky', 'ustordinski')\n",
      "('village', 'villag')\n",
      "('brothers', 'brother')\n",
      "('sucklike', 'sucklik')\n",
      "('onemoving', 'onemov')\n",
      "('paperbacks', 'paperback')\n",
      "('single', 'singl')\n",
      "('issuesanyone', 'issuesanyon')\n",
      "('else', 'els')\n",
      "('waiting', 'wait')\n",
      "('gonlins', 'gonlin')\n",
      "('anyone', 'anyon')\n",
      "('epics', 'epic')\n",
      "('frustrating', 'frustrat')\n",
      "('movie', 'movi')\n",
      "('reactionhandpainted', 'reactionhandpaint')\n",
      "('natalilike', 'natalilik')\n",
      "('fantastic', 'fantast')\n",
      "('vulture', 'vultur')\n",
      "('homecoming', 'homecom')\n",
      "('ferry', 'ferri')\n",
      "('movie', 'movi')\n",
      "('romanovahappy', 'romanovahappi')\n",
      "('thanks', 'thank')\n",
      "('sorting', 'sort')\n",
      "('appreciated', 'appreci')\n",
      "('people', 'peopl')\n",
      "('fanartsomeone', 'fanartsomeon')\n",
      "('interesting', 'interest')\n",
      "('audiences', 'audienc')\n",
      "('basically', 'basic')\n",
      "('somewhere', 'somewher')\n",
      "('alternate', 'altern')\n",
      "('universe', 'univers')\n",
      "('another', 'anoth')\n",
      "('verse', 'vers')\n",
      "('actually', 'actual')\n",
      "('makeovers', 'makeov')\n",
      "('uncanny', 'uncanni')\n",
      "('believe', 'believ')\n",
      "('punisherspideys', 'punisherspidey')\n",
      "('encountered', 'encount')\n",
      "('eddie', 'eddi')\n",
      "('symbiote', 'symbiot')\n",
      "('savage', 'savag')\n",
      "('charge', 'charg')\n",
      "('crossover', 'crossov')\n",
      "('makelovegetting', 'makeloveget')\n",
      "('ready', 'readi')\n",
      "('hyped', 'hype')\n",
      "('everything', 'everyth')\n",
      "('nicole', 'nicol')\n",
      "('beharie', 'behari')\n",
      "('compete', 'compet')\n",
      "('sequelfixing', 'sequelfix')\n",
      "('trilogy', 'trilog')\n",
      "('turning', 'turn')\n",
      "('multiverse', 'multivers')\n",
      "('editionwhats', 'editionwhat')\n",
      "('starting', 'start')\n",
      "('invasion', 'invas')\n",
      "('comicsquestion', 'comicsquest')\n",
      "('fans', 'fan')\n",
      "('teenage', 'teenag')\n",
      "('years', 'year')\n",
      "('superpower', 'superpow')\n",
      "('ridiculous', 'ridicul')\n",
      "('series', 'seri')\n",
      "('whenever', 'whenev')\n",
      "('etcrecreated', 'etcrecr')\n",
      "('favorite', 'favorit')\n",
      "('coversspidermans', 'coversspiderman')\n",
      "('parkerwaiting', 'parkerwait')\n",
      "('likevillains', 'likevillain')\n",
      "('future', 'futur')\n",
      "('avengers', 'aveng')\n",
      "('machine', 'machin')\n",
      "('accidentally', 'accident')\n",
      "('manwwe', 'manww')\n",
      "('johnny', 'johnni')\n",
      "('rocks', 'rock')\n",
      "('inspired', 'inspir')\n",
      "('ringmade', 'ringmad')\n",
      "('posterlifesized', 'posterlifes')\n",
      "('manappreciate', 'manappreci')\n",
      "('bathhouse', 'bathhous')\n",
      "('extended', 'extend')\n",
      "('cutprinted', 'cutprint')\n",
      "('mans', 'man')\n",
      "('avengers', 'aveng')\n",
      "('pretty', 'pretti')\n",
      "('someonedressed', 'someonedress')\n",
      "('villains', 'villain')\n",
      "('culture', 'cultur')\n",
      "('looks', 'look')\n",
      "('thanosmaking', 'thanosmak')\n",
      "('really', 'realli')\n",
      "('predicted', 'predict')\n",
      "('besides', 'besid')\n",
      "('character', 'charact')\n",
      "('reeves', 'reev')\n",
      "('negotiations', 'negoti')\n",
      "('eternalsnoticed', 'eternalsnot')\n",
      "('scrolling', 'scroll')\n",
      "('painting', 'paint')\n",
      "('character', 'charact')\n",
      "('movies', 'movi')\n",
      "('fully', 'fulli')\n",
      "('suited', 'suit')\n",
      "('selves', 'selv')\n",
      "('painting', 'paint')\n",
      "('constructive', 'construct')\n",
      "('criticism', 'critic')\n",
      "('amazingworking', 'amazingwork')\n",
      "('tips', 'tip')\n",
      "('managed', 'manag')\n",
      "('suppose', 'suppos')\n",
      "('anyone', 'anyon')\n",
      "('knows', 'know')\n",
      "('thors', 'thor')\n",
      "('choices', 'choic')\n",
      "('require', 'requir')\n",
      "('wills', 'will')\n",
      "('finishing', 'finish')\n",
      "('weekseverybody', 'weekseverybodi')\n",
      "('wants', 'want')\n",
      "('happy', 'happi')\n",
      "('infinity', 'infin')\n",
      "('asked', 'ask')\n",
      "('avengers', 'aveng')\n",
      "('figurines', 'figurin')\n",
      "('scavenger', 'scaveng')\n",
      "('huntendgameavengers', 'huntendgameaveng')\n",
      "('endgames', 'endgam')\n",
      "('years', 'year')\n",
      "('collectors', 'collector')\n",
      "('quality', 'qualiti')\n",
      "('displaying', 'display')\n",
      "('bracelets', 'bracelet')\n",
      "('homecoming', 'homecom')\n",
      "('headcannonsfinally', 'headcannonsfin')\n",
      "('madeanyone', 'madeanyon')\n",
      "('official', 'offici')\n",
      "('depressed', 'depress')\n",
      "('named', 'name')\n",
      "('billy', 'billi')\n",
      "('redhaired', 'redhair')\n",
      "('reference', 'refer')\n",
      "('connors', 'connor')\n",
      "('billy', 'billi')\n",
      "('infinity', 'infin')\n",
      "('buddy', 'buddi')\n",
      "('avengers', 'aveng')\n",
      "('premiere', 'premier')\n",
      "('antmans', 'antman')\n",
      "('infinity', 'infin')\n",
      "('questionstarts', 'questionstart')\n",
      "('gets', 'get')\n",
      "('mallmaybe', 'mallmayb')\n",
      "('universe', 'univers')\n",
      "('movie', 'movi')\n",
      "('sceneshtty', 'sceneshtti')\n",
      "('paintreality', 'paintreal')\n",
      "('disappointing', 'disappoint')\n",
      "('thanos', 'thano')\n",
      "('shirtanyone', 'shirtanyon')\n",
      "('helpsee', 'helpse')\n",
      "('fury', 'furi')\n",
      "('typed', 'type')\n",
      "('avengers', 'aveng')\n",
      "('initiative', 'initi')\n",
      "('sceneclassified', 'sceneclassifi')\n",
      "('headshotwholesome', 'headshotwholesom')\n",
      "('memethors', 'memethor')\n",
      "('infinity', 'infin')\n",
      "('stones', 'stone')\n",
      "('charlie', 'charli')\n",
      "('lovely', 'love')\n",
      "('guyurgent', 'guyurg')\n",
      "('planning', 'plan')\n",
      "('killing', 'kill')\n",
      "('every', 'everi')\n",
      "('introcome', 'introcom')\n",
      "('bois', 'boi')\n",
      "('goodpower', 'goodpow')\n",
      "('dangerous', 'danger')\n",
      "('stonesomeone', 'stonesomeon')\n",
      "('identify', 'identifi')\n",
      "('characters', 'charact')\n",
      "('series', 'seri')\n",
      "('realized', 'realiz')\n",
      "('amazing', 'amaz')\n",
      "('character', 'charact')\n",
      "('utterly', 'utterli')\n",
      "('wasted', 'wast')\n",
      "('facebookbecoming', 'facebookbecom')\n",
      "('goodytwoshoes', 'goodytwosho')\n",
      "('worthy', 'worthi')\n",
      "('mjolnirsacrifice', 'mjolnirsacrific')\n",
      "('tributemade', 'tributemad')\n",
      "('universe', 'univers')\n",
      "('timeline', 'timelin')\n",
      "('excluding', 'exclud')\n",
      "('gifted', 'gift')\n",
      "('since', 'sinc')\n",
      "('watchnewcomer', 'watchnewcom')\n",
      "('guidanceunstoppable', 'guidanceunstopp')\n",
      "('universe', 'univers')\n",
      "('timeline', 'timelin')\n",
      "('excluding', 'exclud')\n",
      "('gifted', 'gift')\n",
      "('makes', 'make')\n",
      "('essays', 'essay')\n",
      "('comics', 'comic')\n",
      "('really', 'realli')\n",
      "('videos', 'video')\n",
      "('beautifull', 'beautiful')\n",
      "('really', 'realli')\n",
      "('eanted', 'eant')\n",
      "('sharewant', 'sharew')\n",
      "('sinister', 'sinist')\n",
      "('spidermanone', 'spidermanon')\n",
      "('wallpapers', 'wallpap')\n",
      "('edited', 'edit')\n",
      "('together', 'togeth')\n",
      "('introcompletion', 'introcomplet')\n",
      "('closure', 'closur')\n",
      "('promises', 'promis')\n",
      "('ending', 'end')\n",
      "('sagasomeone', 'sagasomeon')\n",
      "('character', 'charact')\n",
      "('character', 'charact')\n",
      "('series', 'seri')\n",
      "('following', 'follow')\n",
      "('organization', 'organ')\n",
      "('flies', 'fli')\n",
      "('helicopters', 'helicopt')\n",
      "('websling', 'websl')\n",
      "('seemingly', 'seemingli')\n",
      "('reading', 'read')\n",
      "('recommendationsquestion', 'recommendationsquest')\n",
      "('regarding', 'regard')\n",
      "('years', 'year')\n",
      "('forgetmade', 'forgetmad')\n",
      "('avengers', 'aveng')\n",
      "('trading', 'trade')\n",
      "('produces', 'produc')\n",
      "('marvels', 'marvel')\n",
      "('runaways', 'runaway')\n",
      "('editseeing', 'editse')\n",
      "('movie', 'movi')\n",
      "('yes', 'ye')\n",
      "('editing', 'edit')\n",
      "('horrendous', 'horrend')\n",
      "('favorite', 'favorit')\n",
      "('sceneboys', 'sceneboy')\n",
      "('pressing', 'press')\n",
      "('lovers', 'lover')\n",
      "('awhile', 'awhil')\n",
      "('putrunaways', 'putrunaway')\n",
      "('died', 'die')\n",
      "('thanos', 'thano')\n",
      "('snapabsolutely', 'snapabsolut')\n",
      "('limited', 'limit')\n",
      "('edition', 'edit')\n",
      "('kyleafgetting', 'kyleafget')\n",
      "('reading', 'read')\n",
      "('orderreally', 'orderr')\n",
      "('worried', 'worri')\n",
      "('people', 'peopl')\n",
      "('endgame', 'endgam')\n",
      "('spoilersheads', 'spoilershead')\n",
      "('users', 'user')\n",
      "('spoiling', 'spoil')\n",
      "('endgame', 'endgam')\n",
      "('getting', 'get')\n",
      "('issue', 'issu')\n",
      "('ravanicafavourite', 'ravanicafavourit')\n",
      "('avengers', 'aveng')\n",
      "('endgame', 'endgam')\n",
      "('discussiontrue', 'discussiontru')\n",
      "('purpose', 'purpos')\n",
      "('mans', 'man')\n",
      "('suitavengers', 'suitaveng')\n",
      "('endgame', 'endgam')\n",
      "('avengers', 'aveng')\n",
      "('fantastic', 'fantast')\n",
      "('fouravengers', 'fouraveng')\n",
      "('needed', 'need')\n",
      "('feeling', 'feel')\n",
      "('depressed', 'depress')\n",
      "('loved', 'love')\n",
      "('knowing', 'know')\n",
      "('feeling', 'feel')\n",
      "('emotionally', 'emot')\n",
      "('attachedone', 'attachedon')\n",
      "('shots', 'shot')\n",
      "('avengers', 'aveng')\n",
      "('endgame', 'endgam')\n",
      "('pulled', 'pull')\n",
      "('comicsamericas', 'comicsamerica')\n",
      "('assspoilers', 'assspoil')\n",
      "('realms', 'realm')\n",
      "('fantastic', 'fantast')\n",
      "('looks', 'look')\n",
      "('krasinskithanos', 'krasinskithano')\n",
      "('happened', 'happen')\n",
      "('thousands', 'thousand')\n",
      "('timesmoment', 'timesmo')\n",
      "('endgame', 'endgam')\n",
      "('couldve', 'couldv')\n",
      "('possible', 'possibl')\n",
      "('pleaseanyone', 'pleaseanyon')\n",
      "('else', 'els')\n",
      "('avengers', 'aveng')\n",
      "('movie', 'movi')\n",
      "('endgamerecent', 'endgamerec')\n",
      "('trades', 'trade')\n",
      "('fcbdcharacters', 'fcbdcharact')\n",
      "('powers', 'power')\n",
      "('hulus', 'hulu')\n",
      "('liveaction', 'liveact')\n",
      "('thomas', 'thoma')\n",
      "('guys', 'guy')\n",
      "('iphone', 'iphon')\n",
      "('wallpaper', 'wallpap')\n",
      "('preferably', 'prefer')\n",
      "('anything', 'anyth')\n",
      "('related', 'relat')\n",
      "('coolgraduation', 'coolgradu')\n",
      "('discovered', 'discov')\n",
      "('endgamelets', 'endgamelet')\n",
      "('appreciate', 'appreci')\n",
      "('introduced', 'introduc')\n",
      "('years', 'year')\n",
      "('beststars', 'beststar')\n",
      "('stripes', 'stripe')\n",
      "('produce', 'produc')\n",
      "('moviepeter', 'moviepet')\n",
      "('mutantlooks', 'mutantlook')\n",
      "('sickmake', 'sickmak')\n",
      "('endgame', 'endgam')\n",
      "('please', 'pleas')\n",
      "('dynamics', 'dynam')\n",
      "('avengers', 'aveng')\n",
      "('makes', 'make')\n",
      "('opposed', 'oppos')\n",
      "('members', 'member')\n",
      "('fits', 'fit')\n",
      "('avengersfictional', 'avengersfict')\n",
      "('characters', 'charact')\n",
      "('thanos', 'thano')\n",
      "('mcupeter', 'mcupet')\n",
      "('considered', 'consid')\n",
      "('norse', 'nors')\n",
      "('games', 'game')\n",
      "('earthposter', 'earthpost')\n",
      "('postersevent', 'postersev')\n",
      "('reading', 'read')\n",
      "('orders', 'order')\n",
      "('unlimited', 'unlimit')\n",
      "('followreedus', 'followreedu')\n",
      "('punisher', 'punish')\n",
      "('movie', 'movi')\n",
      "('takes', 'take')\n",
      "('placecomic', 'placecom')\n",
      "('unos', 'uno')\n",
      "('comics', 'comic')\n",
      "('dceased', 'dceas')\n",
      "('savage', 'savag')\n",
      "('endgame', 'endgam')\n",
      "('avatarcurrent', 'avatarcurr')\n",
      "('symbiote', 'symbiot')\n",
      "('liked', 'like')\n",
      "('amazing', 'amaz')\n",
      "('omnibus', 'omnibu')\n",
      "('voltribute', 'voltribut')\n",
      "('manavengers', 'manaveng')\n",
      "('endgame', 'endgam')\n",
      "('infinity', 'infin')\n",
      "('seenshower', 'seenshow')\n",
      "('watching', 'watch')\n",
      "('movies', 'movi')\n",
      "('feels', 'feel')\n",
      "('watcherlittle', 'watcherlittl')\n",
      "('artsomeone', 'artsomeon')\n",
      "('explainprobably', 'explainprob')\n",
      "('punishmentarticle', 'punishmentarticl')\n",
      "('critics', 'critic')\n",
      "('everyone', 'everyon')\n",
      "('okskipped', 'okskip')\n",
      "('endgame', 'endgam')\n",
      "('crushing', 'crush')\n",
      "('officemaster', 'officemast')\n",
      "('comics', 'comic')\n",
      "('readpossible', 'readposs')\n",
      "('ecstatic', 'ecstat')\n",
      "('rolling', 'roll')\n",
      "('stones', 'stone')\n",
      "('endgame', 'endgam')\n",
      "('anyone', 'anyon')\n",
      "('bands', 'band')\n",
      "('usually', 'usual')\n",
      "('overlooked', 'overlook')\n",
      "('consider', 'consid')\n",
      "('songs', 'song')\n",
      "('entire', 'entir')\n",
      "('looks', 'look')\n",
      "('omgrepresentation', 'omgrepresent')\n",
      "('finished', 'finish')\n",
      "('inspired', 'inspir')\n",
      "('maleevs', 'maleev')\n",
      "('knights', 'knight')\n",
      "('confirmed', 'confirm')\n",
      "('prediction', 'predict')\n",
      "('theory', 'theori')\n",
      "('witchholy', 'witchholi')\n",
      "('loisspoiler', 'loisspoil')\n",
      "('wears', 'wear')\n",
      "('body', 'bodi')\n",
      "('sprayguys', 'sprayguy')\n",
      "('double', 'doubl')\n",
      "('marvelsmasher', 'marvelsmash')\n",
      "('anything', 'anyth')\n",
      "('hickmans', 'hickman')\n",
      "('avengers', 'aveng')\n",
      "('really', 'realli')\n",
      "('liked', 'like')\n",
      "('stuffdiscussion', 'stuffdiscuss')\n",
      "('theory', 'theori')\n",
      "('authority', 'author')\n",
      "('waited', 'wait')\n",
      "('movie', 'movi')\n",
      "('finished', 'finish')\n",
      "('arrested', 'arrest')\n",
      "('battle', 'battl')\n",
      "('marvelquestiondwanye', 'marvelquestiondwany')\n",
      "('going', 'go')\n",
      "('thingfinally', 'thingfin')\n",
      "('browse', 'brows')\n",
      "('safely', 'safe')\n",
      "('finally', 'final')\n",
      "('watched', 'watch')\n",
      "('endgamequestion', 'endgamequest')\n",
      "('regarding', 'regard')\n",
      "('realms', 'realm')\n",
      "('issues', 'issu')\n",
      "('anyone', 'anyon')\n",
      "('interested', 'interest')\n",
      "('series', 'seri')\n",
      "('posters', 'poster')\n",
      "('onelove', 'onelov')\n",
      "('fantasydwanye', 'fantasydwany')\n",
      "('going', 'go')\n",
      "('playing', 'play')\n",
      "('thingdrstrange', 'thingdrstrang')\n",
      "('movie', 'movi')\n",
      "('sucked', 'suck')\n",
      "('fucking', 'fuck')\n",
      "('avengers', 'aveng')\n",
      "('endgame', 'endgam')\n",
      "('series', 'seri')\n",
      "('readingtonymade', 'readingtonymad')\n",
      "('avengers', 'aveng')\n",
      "('inspired', 'inspir')\n",
      "('avengers', 'aveng')\n",
      "('endgame', 'endgam')\n",
      "('release', 'releas')\n",
      "('reviewwatched', 'reviewwatch')\n",
      "('endgame', 'endgam')\n",
      "('honestly', 'honestli')\n",
      "('movie', 'movi')\n",
      "('different', 'differ')\n",
      "('ratgreatyears', 'ratgreatyear')\n",
      "('suiting', 'suit')\n",
      "('compilationyears', 'compilationyear')\n",
      "('tony', 'toni')\n",
      "('suiting', 'suit')\n",
      "('commission', 'commiss')\n",
      "('saltylotus', 'saltylotu')\n"
     ]
    }
   ],
   "source": [
    "for i in range(len(tokens)):\n",
    "    if tokens[i] != tokens_stemm[i]:\n",
    "        print((tokens[i], tokens_stemm[i]))"
   ]
  },
  {
   "cell_type": "markdown",
   "metadata": {},
   "source": [
    "Stemming shortens the word to something not meaningful."
   ]
  },
  {
   "cell_type": "code",
   "execution_count": 502,
   "metadata": {},
   "outputs": [],
   "source": [
    "dc=\"\".join(title for title in model_df[model_df['target']==0]['submissions'])"
   ]
  },
  {
   "cell_type": "markdown",
   "metadata": {},
   "source": [
    "### set up X and y"
   ]
  },
  {
   "cell_type": "code",
   "execution_count": 598,
   "metadata": {},
   "outputs": [],
   "source": [
    "X=model_df['submissions']\n",
    "y=model_df['target']"
   ]
  },
  {
   "cell_type": "code",
   "execution_count": 504,
   "metadata": {},
   "outputs": [],
   "source": [
    "#Instantiate CountVectorizer.\n",
    "cv = CountVectorizer(ngram_range=(1,2))\n",
    "\n",
    "# Fit CountVectorizer to training data.\n",
    "cv.fit(X)\n",
    "\n",
    "# Transform training and testing data based on the fit CountVectorizer.\n",
    "X_cv = cv.transform(X)"
   ]
  },
  {
   "cell_type": "code",
   "execution_count": 505,
   "metadata": {},
   "outputs": [],
   "source": [
    "# Create a DataFrame with our words.\n",
    "words = pd.DataFrame(X_cv.todense(), columns=cv.get_feature_names())"
   ]
  },
  {
   "cell_type": "code",
   "execution_count": 506,
   "metadata": {},
   "outputs": [
    {
     "data": {
      "text/plain": [
       "marvel            210\n",
       "batman            197\n",
       "dc                179\n",
       "comic             170\n",
       "comics            159\n",
       "art               152\n",
       "new               133\n",
       "spiderman         128\n",
       "fan               126\n",
       "like              107\n",
       "fan art            99\n",
       "made               97\n",
       "man                94\n",
       "superman           87\n",
       "avengers           87\n",
       "joker              81\n",
       "justice            78\n",
       "movie              75\n",
       "would              73\n",
       "series             73\n",
       "one                72\n",
       "think              70\n",
       "black              69\n",
       "iron               65\n",
       "question           64\n",
       "anyone             61\n",
       "vs                 59\n",
       "league             59\n",
       "mcu                59\n",
       "cover              58\n",
       "endgame            58\n",
       "justice league     57\n",
       "time               56\n",
       "first              55\n",
       "know               55\n",
       "best               55\n",
       "iron man           55\n",
       "got                53\n",
       "im                 53\n",
       "guys               52\n",
       "discussion         50\n",
       "captain            50\n",
       "xmen               49\n",
       "get                49\n",
       "read               49\n",
       "spoiler            48\n",
       "reading            48\n",
       "help               47\n",
       "far                46\n",
       "good               45\n",
       "dtype: int64"
      ]
     },
     "execution_count": 506,
     "metadata": {},
     "output_type": "execute_result"
    }
   ],
   "source": [
    "# Let's look at the most frequently used words.\n",
    "words.sum().sort_values(ascending=False).head(50)"
   ]
  },
  {
   "cell_type": "code",
   "execution_count": 507,
   "metadata": {},
   "outputs": [
    {
     "data": {
      "image/png": "[encoded data removed]",
      "text/plain": [
       "<Figure size 432x288 with 1 Axes>"
      ]
     },
     "metadata": {
      "needs_background": "light"
     },
     "output_type": "display_data"
    }
   ],
   "source": [
    "# Plot the lengths of the words.\n",
    "words_length = [len(word) for word in words.columns]\n",
    "plt.hist(words_length)\n",
    "plt.title('Length of words');"
   ]
  },
  {
   "cell_type": "markdown",
   "metadata": {},
   "source": [
    "The word length distibution is skewed right, which the highest word length between 10 to 15 letters. This shows the frequency of many two word combinations example iron man and justice league."
   ]
  },
  {
   "cell_type": "code",
   "execution_count": 508,
   "metadata": {},
   "outputs": [
    {
     "data": {
      "image/png": "[encoded data removed]",
      "text/plain": [
       "<Figure size 432x288 with 1 Axes>"
      ]
     },
     "metadata": {
      "needs_background": "light"
     },
     "output_type": "display_data"
    }
   ],
   "source": [
    "# Plot the lengths of the posts.\n",
    "submission_length = [len(submission) for submission in X]\n",
    "plt.hist(submission_length)\n",
    "plt.title('Length of Submission');"
   ]
  },
  {
   "cell_type": "markdown",
   "metadata": {},
   "source": [
    "Most submissions were short less than 50 words. The distibution is skewed right."
   ]
  },
  {
   "cell_type": "code",
   "execution_count": 509,
   "metadata": {},
   "outputs": [],
   "source": [
    "### Comparing words between the two reddits"
   ]
  },
  {
   "cell_type": "code",
   "execution_count": 510,
   "metadata": {},
   "outputs": [],
   "source": [
    "marvel_df=model_df[model_df['target']==1]['submissions']"
   ]
  },
  {
   "cell_type": "code",
   "execution_count": 511,
   "metadata": {},
   "outputs": [],
   "source": [
    "marvel_cvec=CountVectorizer(ngram_range=(1,2))"
   ]
  },
  {
   "cell_type": "code",
   "execution_count": 512,
   "metadata": {},
   "outputs": [
    {
     "data": {
      "text/plain": [
       "CountVectorizer(analyzer='word', binary=False, decode_error='strict',\n",
       "                dtype=<class 'numpy.int64'>, encoding='utf-8', input='content',\n",
       "                lowercase=True, max_df=1.0, max_features=None, min_df=1,\n",
       "                ngram_range=(1, 2), preprocessor=None, stop_words=None,\n",
       "                strip_accents=None, token_pattern='(?u)\\\\b\\\\w\\\\w+\\\\b',\n",
       "                tokenizer=None, vocabulary=None)"
      ]
     },
     "execution_count": 512,
     "metadata": {},
     "output_type": "execute_result"
    }
   ],
   "source": [
    "marvel_cvec.fit(marvel_df)"
   ]
  },
  {
   "cell_type": "code",
   "execution_count": 513,
   "metadata": {},
   "outputs": [],
   "source": [
    "marvel_cv = pd.DataFrame(marvel_cvec.transform(marvel_df).todense(),columns=marvel_cvec.get_feature_names())"
   ]
  },
  {
   "cell_type": "code",
   "execution_count": 514,
   "metadata": {},
   "outputs": [
    {
     "data": {
      "text/plain": [
       "marvel       199\n",
       "spiderman    123\n",
       "avengers      86\n",
       "man           78\n",
       "iron          62\n",
       "comics        60\n",
       "mcu           58\n",
       "like          57\n",
       "endgame       55\n",
       "made          55\n",
       "iron man      54\n",
       "new           51\n",
       "xmen          49\n",
       "movie         48\n",
       "captain       48\n",
       "black         44\n",
       "infinity      42\n",
       "spoiler       41\n",
       "know          41\n",
       "thanos        41\n",
       "dtype: int64"
      ]
     },
     "execution_count": 514,
     "metadata": {},
     "output_type": "execute_result"
    }
   ],
   "source": [
    "marvel_top_words = marvel_cv.sum(axis=0)\n",
    "marvel_top_words.sort_values(ascending = False).head(20)"
   ]
  },
  {
   "cell_type": "code",
   "execution_count": 515,
   "metadata": {},
   "outputs": [],
   "source": [
    "dc_df=model_df[model_df['target']==0]['submissions']"
   ]
  },
  {
   "cell_type": "code",
   "execution_count": 516,
   "metadata": {},
   "outputs": [],
   "source": [
    "dc_cvec=CountVectorizer(ngram_range=(1,2))"
   ]
  },
  {
   "cell_type": "code",
   "execution_count": 517,
   "metadata": {},
   "outputs": [
    {
     "data": {
      "text/plain": [
       "CountVectorizer(analyzer='word', binary=False, decode_error='strict',\n",
       "                dtype=<class 'numpy.int64'>, encoding='utf-8', input='content',\n",
       "                lowercase=True, max_df=1.0, max_features=None, min_df=1,\n",
       "                ngram_range=(1, 2), preprocessor=None, stop_words=None,\n",
       "                strip_accents=None, token_pattern='(?u)\\\\b\\\\w\\\\w+\\\\b',\n",
       "                tokenizer=None, vocabulary=None)"
      ]
     },
     "execution_count": 517,
     "metadata": {},
     "output_type": "execute_result"
    }
   ],
   "source": [
    "dc_cvec.fit(dc_df)"
   ]
  },
  {
   "cell_type": "code",
   "execution_count": 518,
   "metadata": {},
   "outputs": [],
   "source": [
    "dc_cv = pd.DataFrame(dc_cvec.transform(dc_df).todense(),columns=dc_cvec.get_feature_names())"
   ]
  },
  {
   "cell_type": "code",
   "execution_count": 519,
   "metadata": {},
   "outputs": [
    {
     "data": {
      "text/plain": [
       "batman            197\n",
       "dc                173\n",
       "comic             136\n",
       "art               116\n",
       "fan               103\n",
       "comics             99\n",
       "fan art            87\n",
       "superman           83\n",
       "new                82\n",
       "justice            77\n",
       "joker              77\n",
       "league             58\n",
       "justice league     56\n",
       "like               50\n",
       "cover              45\n",
       "made               42\n",
       "wonder             42\n",
       "discussion         42\n",
       "filmtv             41\n",
       "think              38\n",
       "dtype: int64"
      ]
     },
     "execution_count": 519,
     "metadata": {},
     "output_type": "execute_result"
    }
   ],
   "source": [
    "dc_top_words = dc_cv.sum(axis=0)\n",
    "dc_top_words.sort_values(ascending = False).head(20)"
   ]
  },
  {
   "cell_type": "markdown",
   "metadata": {},
   "source": [
    "#### Set up baseline model"
   ]
  },
  {
   "cell_type": "code",
   "execution_count": 520,
   "metadata": {},
   "outputs": [
    {
     "data": {
      "text/plain": [
       "1    0.501863\n",
       "0    0.498137\n",
       "Name: target, dtype: float64"
      ]
     },
     "execution_count": 520,
     "metadata": {},
     "output_type": "execute_result"
    }
   ],
   "source": [
    "#the classes are balanced, approx 50%\n",
    "y.value_counts(normalize=True)"
   ]
  },
  {
   "cell_type": "markdown",
   "metadata": {},
   "source": [
    "The baseline accuracy score for predicting Marvel(most frequent class) is 50.18%"
   ]
  },
  {
   "cell_type": "markdown",
   "metadata": {},
   "source": [
    "#### Train Test Split"
   ]
  },
  {
   "cell_type": "code",
   "execution_count": 599,
   "metadata": {},
   "outputs": [],
   "source": [
    "X_train, X_val, y_train, y_val = train_test_split(X, y, random_state=42, stratify=y)"
   ]
  },
  {
   "cell_type": "code",
   "execution_count": 522,
   "metadata": {},
   "outputs": [],
   "source": [
    "#Code derived from General Assembly Naive Bayes lesson\n",
    "#Instantiate CountVectorizer.\n",
    "cvec = CountVectorizer(ngram_range=(1,2),max_features=2500)"
   ]
  },
  {
   "cell_type": "code",
   "execution_count": 523,
   "metadata": {
    "scrolled": true
   },
   "outputs": [
    {
     "data": {
      "text/plain": [
       "CountVectorizer(analyzer='word', binary=False, decode_error='strict',\n",
       "                dtype=<class 'numpy.int64'>, encoding='utf-8', input='content',\n",
       "                lowercase=True, max_df=1.0, max_features=2500, min_df=1,\n",
       "                ngram_range=(1, 2), preprocessor=None, stop_words=None,\n",
       "                strip_accents=None, token_pattern='(?u)\\\\b\\\\w\\\\w+\\\\b',\n",
       "                tokenizer=None, vocabulary=None)"
      ]
     },
     "execution_count": 523,
     "metadata": {},
     "output_type": "execute_result"
    }
   ],
   "source": [
    "# Fit CountVectorizer to training data.\n",
    "cvec.fit(X_train)"
   ]
  },
  {
   "cell_type": "code",
   "execution_count": 524,
   "metadata": {},
   "outputs": [
    {
     "name": "stdout",
     "output_type": "stream",
     "text": [
      "2500\n"
     ]
    }
   ],
   "source": [
    "len_features = len(cvec.get_feature_names())\n",
    "print(len_features)"
   ]
  },
  {
   "cell_type": "code",
   "execution_count": 525,
   "metadata": {},
   "outputs": [],
   "source": [
    "# Transform training and testing data based on the fit CountVectorizer.\n",
    "X_train_cvec = cvec.transform(X_train)"
   ]
  },
  {
   "cell_type": "code",
   "execution_count": 526,
   "metadata": {},
   "outputs": [],
   "source": [
    "X_val_cvec = cvec.transform(X_val)"
   ]
  },
  {
   "cell_type": "code",
   "execution_count": 527,
   "metadata": {},
   "outputs": [],
   "source": [
    "words = pd.DataFrame(X_train_cvec.todense(), columns=cvec.get_feature_names())"
   ]
  },
  {
   "cell_type": "code",
   "execution_count": 528,
   "metadata": {},
   "outputs": [
    {
     "data": {
      "text/plain": [
       "marvel         163\n",
       "batman         147\n",
       "dc             128\n",
       "comics         127\n",
       "art            123\n",
       "              ... \n",
       "make vision      2\n",
       "maker            2\n",
       "makes cameo      2\n",
       "maleev           2\n",
       "leads            2\n",
       "Length: 2500, dtype: int64"
      ]
     },
     "execution_count": 528,
     "metadata": {},
     "output_type": "execute_result"
    }
   ],
   "source": [
    "# Let's look at the most frequently used words to determine max feature inputs\n",
    "words.sum().sort_values(ascending=False).head(2500)"
   ]
  },
  {
   "cell_type": "code",
   "execution_count": 529,
   "metadata": {},
   "outputs": [
    {
     "data": {
      "text/plain": [
       "matrix([[0, 0, 0, ..., 0, 0, 0],\n",
       "        [0, 0, 0, ..., 0, 0, 0],\n",
       "        [0, 0, 0, ..., 0, 0, 0],\n",
       "        ...,\n",
       "        [0, 0, 0, ..., 0, 0, 0],\n",
       "        [0, 0, 0, ..., 0, 0, 0],\n",
       "        [0, 0, 0, ..., 0, 0, 0]], dtype=int64)"
      ]
     },
     "execution_count": 529,
     "metadata": {},
     "output_type": "execute_result"
    }
   ],
   "source": [
    "#Print Feature Matrix\n",
    "X_train_cvec.todense()"
   ]
  },
  {
   "cell_type": "code",
   "execution_count": 530,
   "metadata": {},
   "outputs": [],
   "source": [
    "#Instantiate TDIDFVectorizer.\n",
    "tvec=TfidfVectorizer(ngram_range=(1,2),max_features=2500)"
   ]
  },
  {
   "cell_type": "code",
   "execution_count": 531,
   "metadata": {},
   "outputs": [
    {
     "data": {
      "text/plain": [
       "TfidfVectorizer(analyzer='word', binary=False, decode_error='strict',\n",
       "                dtype=<class 'numpy.float64'>, encoding='utf-8',\n",
       "                input='content', lowercase=True, max_df=1.0, max_features=2500,\n",
       "                min_df=1, ngram_range=(1, 2), norm='l2', preprocessor=None,\n",
       "                smooth_idf=True, stop_words=None, strip_accents=None,\n",
       "                sublinear_tf=False, token_pattern='(?u)\\\\b\\\\w\\\\w+\\\\b',\n",
       "                tokenizer=None, use_idf=True, vocabulary=None)"
      ]
     },
     "execution_count": 531,
     "metadata": {},
     "output_type": "execute_result"
    }
   ],
   "source": [
    "tvec.fit(X_train)"
   ]
  },
  {
   "cell_type": "code",
   "execution_count": 532,
   "metadata": {},
   "outputs": [
    {
     "name": "stdout",
     "output_type": "stream",
     "text": [
      "2500\n"
     ]
    }
   ],
   "source": [
    "len_features = len(tvec.get_feature_names())\n",
    "print(len_features)"
   ]
  },
  {
   "cell_type": "code",
   "execution_count": 533,
   "metadata": {},
   "outputs": [],
   "source": [
    "# Transform training and testing data based on the fit TfIdfVectorizer.\n",
    "X_train_tvec = tvec.transform(X_train)"
   ]
  },
  {
   "cell_type": "code",
   "execution_count": 534,
   "metadata": {},
   "outputs": [],
   "source": [
    "X_val_tvec = tvec.transform(X_val)"
   ]
  },
  {
   "cell_type": "code",
   "execution_count": 535,
   "metadata": {},
   "outputs": [
    {
     "data": {
      "text/plain": [
       "matrix([[0., 0., 0., ..., 0., 0., 0.],\n",
       "        [0., 0., 0., ..., 0., 0., 0.],\n",
       "        [0., 0., 0., ..., 0., 0., 0.],\n",
       "        ...,\n",
       "        [0., 0., 0., ..., 0., 0., 0.],\n",
       "        [0., 0., 0., ..., 0., 0., 0.],\n",
       "        [0., 0., 0., ..., 0., 0., 0.]])"
      ]
     },
     "execution_count": 535,
     "metadata": {},
     "output_type": "execute_result"
    }
   ],
   "source": [
    "#Print Feature Matrix\n",
    "X_train_tvec.todense()"
   ]
  },
  {
   "cell_type": "code",
   "execution_count": 536,
   "metadata": {},
   "outputs": [],
   "source": [
    "weight_words = pd.DataFrame(X_train_tvec.todense(), columns=tvec.get_feature_names())"
   ]
  },
  {
   "cell_type": "code",
   "execution_count": 537,
   "metadata": {},
   "outputs": [
    {
     "data": {
      "text/plain": [
       "marvel           40.976679\n",
       "batman           40.234653\n",
       "art              34.309879\n",
       "dc               32.232158\n",
       "comics           31.759117\n",
       "                   ...    \n",
       "snatch            0.386850\n",
       "lot people        0.353328\n",
       "row               0.349892\n",
       "sign petition     0.341892\n",
       "daily             0.339045\n",
       "Length: 2500, dtype: float64"
      ]
     },
     "execution_count": 537,
     "metadata": {},
     "output_type": "execute_result"
    }
   ],
   "source": [
    "# Let's look at the most frequently used words to determine max feature inputs\n",
    "weight_words.sum().sort_values(ascending=False).head(2500)"
   ]
  },
  {
   "cell_type": "markdown",
   "metadata": {},
   "source": [
    "### Modeling"
   ]
  },
  {
   "cell_type": "markdown",
   "metadata": {},
   "source": [
    "Multiple classification models were explored using both count vectorizer and tfidf vectorizer to isolate the model with best accuracy score"
   ]
  },
  {
   "cell_type": "markdown",
   "metadata": {},
   "source": [
    "#### Modeling with Count Vectorizer"
   ]
  },
  {
   "cell_type": "code",
   "execution_count": 538,
   "metadata": {},
   "outputs": [
    {
     "data": {
      "text/plain": [
       "{'cvec__max_features': 3000, 'cvec__ngram_range': (1, 2)}"
      ]
     },
     "execution_count": 538,
     "metadata": {},
     "output_type": "execute_result"
    }
   ],
   "source": [
    "pipe_cvec_lr = Pipeline([(\"cvec\", CountVectorizer()),\n",
    "                         (\"lr\", LogisticRegression(max_iter = 2000))])\n",
    "pipe_cvec_lr_params = {\"cvec__max_features\": [500,1000,1500,1700,2000,2500,3000],\n",
    "                       \"cvec__ngram_range\": [(1,1),(1,2)]\n",
    "                       }\n",
    "gs_cvec_lr = GridSearchCV(pipe_cvec_lr,\n",
    "                          param_grid = pipe_cvec_lr_params,\n",
    "                          cv = 5)\n",
    "gs_cvec_lr.fit(X_train, y_train)\n",
    "gs_cvec_lr_model = gs_cvec_lr.best_estimator_\n",
    "gs_cvec_lr.best_params_"
   ]
  },
  {
   "cell_type": "code",
   "execution_count": 173,
   "metadata": {},
   "outputs": [
    {
     "data": {
      "text/plain": [
       "0.8500413674759711"
      ]
     },
     "execution_count": 173,
     "metadata": {},
     "output_type": "execute_result"
    }
   ],
   "source": [
    "gs_cvec_lr.best_score_"
   ]
  },
  {
   "cell_type": "code",
   "execution_count": 174,
   "metadata": {},
   "outputs": [
    {
     "data": {
      "text/plain": [
       "0.9670280036133695"
      ]
     },
     "execution_count": 174,
     "metadata": {},
     "output_type": "execute_result"
    }
   ],
   "source": [
    "gs_cvec_lr_model.score(X_train, y_train)"
   ]
  },
  {
   "cell_type": "code",
   "execution_count": 175,
   "metadata": {},
   "outputs": [
    {
     "data": {
      "text/plain": [
       "0.8728010825439784"
      ]
     },
     "execution_count": 175,
     "metadata": {},
     "output_type": "execute_result"
    }
   ],
   "source": [
    "gs_cvec_lr_model.score(X_val, y_val)"
   ]
  },
  {
   "cell_type": "code",
   "execution_count": 193,
   "metadata": {},
   "outputs": [
    {
     "data": {
      "text/plain": [
       "{'cvec__max_features': 500,\n",
       " 'cvec__ngram_range': (1, 1),\n",
       " 'knn__n_neighbors': 10}"
      ]
     },
     "execution_count": 193,
     "metadata": {},
     "output_type": "execute_result"
    }
   ],
   "source": [
    "pipe_cvec_knn = Pipeline([(\"cvec\", CountVectorizer()),\n",
    "                          (\"ft\", FunctionTransformer(lambda x: x.todense(), accept_sparse = True)),\n",
    "                          (\"knn\", KNeighborsClassifier())])\n",
    "pipe_cvec_knn_params = {\"cvec__max_features\":[500,1000,1500,1700,2000,2500,3000],\n",
    "                        \"cvec__ngram_range\": [(1,1),(1,2)],\n",
    "                        \"knn__n_neighbors\": [10]}\n",
    "gs_cvec_knn = GridSearchCV(pipe_cvec_knn,\n",
    "                           param_grid = pipe_cvec_knn_params,\n",
    "                           cv = 5)\n",
    "gs_cvec_knn.fit(X_train, y_train)\n",
    "gs_cvec_knn_model = gs_cvec_knn.best_estimator_\n",
    "gs_cvec_knn.best_params_"
   ]
  },
  {
   "cell_type": "code",
   "execution_count": 194,
   "metadata": {},
   "outputs": [
    {
     "data": {
      "text/plain": [
       "0.7317293647794245"
      ]
     },
     "execution_count": 194,
     "metadata": {},
     "output_type": "execute_result"
    }
   ],
   "source": [
    "gs_cvec_knn.best_score_"
   ]
  },
  {
   "cell_type": "code",
   "execution_count": 195,
   "metadata": {},
   "outputs": [
    {
     "data": {
      "text/plain": [
       "0.8428184281842819"
      ]
     },
     "execution_count": 195,
     "metadata": {},
     "output_type": "execute_result"
    }
   ],
   "source": [
    "gs_cvec_knn_model.score(X_train, y_train)"
   ]
  },
  {
   "cell_type": "code",
   "execution_count": 196,
   "metadata": {},
   "outputs": [
    {
     "data": {
      "text/plain": [
       "0.7794316644113667"
      ]
     },
     "execution_count": 196,
     "metadata": {},
     "output_type": "execute_result"
    }
   ],
   "source": [
    "gs_cvec_knn_model.score(X_val, y_val)"
   ]
  },
  {
   "cell_type": "code",
   "execution_count": 176,
   "metadata": {},
   "outputs": [
    {
     "data": {
      "text/plain": [
       "{'cvec__max_features': 3000, 'cvec__ngram_range': (1, 1)}"
      ]
     },
     "execution_count": 176,
     "metadata": {},
     "output_type": "execute_result"
    }
   ],
   "source": [
    "pipe_cvec_bnb = Pipeline([(\"cvec\", CountVectorizer()),\n",
    "                          (\"ft\", FunctionTransformer(lambda x: x.todense(), accept_sparse = True)),\n",
    "                          (\"bnb\", BernoulliNB())])\n",
    "pipe_cvec_bnb_params = {\"cvec__max_features\":[500,1000,1500,1700,2000,2500,3000],\n",
    "                        \"cvec__ngram_range\": [(1,1),(1,2)],\n",
    "                        }\n",
    "gs_cvec_bnb = GridSearchCV(pipe_cvec_bnb,\n",
    "                           param_grid = pipe_cvec_bnb_params,\n",
    "                           cv = 5)\n",
    "gs_cvec_bnb.fit(X_train, y_train)\n",
    "gs_cvec_bnb_model = gs_cvec_bnb.best_estimator_\n",
    "gs_cvec_bnb.best_params_"
   ]
  },
  {
   "cell_type": "code",
   "execution_count": 177,
   "metadata": {},
   "outputs": [
    {
     "data": {
      "text/plain": [
       "0.8522976823999265"
      ]
     },
     "execution_count": 177,
     "metadata": {},
     "output_type": "execute_result"
    }
   ],
   "source": [
    "gs_cvec_bnb.best_score_"
   ]
  },
  {
   "cell_type": "code",
   "execution_count": 178,
   "metadata": {},
   "outputs": [
    {
     "data": {
      "text/plain": [
       "0.9417344173441734"
      ]
     },
     "execution_count": 178,
     "metadata": {},
     "output_type": "execute_result"
    }
   ],
   "source": [
    "gs_cvec_bnb_model.score(X_train, y_train)"
   ]
  },
  {
   "cell_type": "code",
   "execution_count": 179,
   "metadata": {},
   "outputs": [
    {
     "data": {
      "text/plain": [
       "0.8809201623815968"
      ]
     },
     "execution_count": 179,
     "metadata": {},
     "output_type": "execute_result"
    }
   ],
   "source": [
    "gs_cvec_bnb_model.score(X_val, y_val)"
   ]
  },
  {
   "cell_type": "code",
   "execution_count": 539,
   "metadata": {},
   "outputs": [
    {
     "data": {
      "text/plain": [
       "{'cvec__max_features': 3000, 'cvec__ngram_range': (1, 1)}"
      ]
     },
     "execution_count": 539,
     "metadata": {},
     "output_type": "execute_result"
    }
   ],
   "source": [
    "pipe_cvec_mnb = Pipeline([(\"cvec\", CountVectorizer()),\n",
    "                          (\"ft\", FunctionTransformer(lambda x: x.todense(), accept_sparse = True)),\n",
    "                          (\"mnb\", MultinomialNB())])\n",
    "pipe_cvec_mnb_params = {\"cvec__max_features\": [500,1000,1500,1700,2000,2500,3000],\n",
    "                        \"cvec__ngram_range\": [(1,1),(1,2)],\n",
    "                        }\n",
    "gs_cvec_mnb = GridSearchCV(pipe_cvec_mnb,\n",
    "                           param_grid = pipe_cvec_mnb_params,\n",
    "                           cv = 5)\n",
    "gs_cvec_mnb.fit(X_train, y_train)\n",
    "gs_cvec_mnb_model = gs_cvec_mnb.best_estimator_\n",
    "gs_cvec_mnb.best_params_"
   ]
  },
  {
   "cell_type": "code",
   "execution_count": 540,
   "metadata": {},
   "outputs": [
    {
     "data": {
      "text/plain": [
       "0.8527522139260288"
      ]
     },
     "execution_count": 540,
     "metadata": {},
     "output_type": "execute_result"
    }
   ],
   "source": [
    "gs_cvec_mnb.best_score_"
   ]
  },
  {
   "cell_type": "code",
   "execution_count": 541,
   "metadata": {},
   "outputs": [
    {
     "data": {
      "text/plain": [
       "0.9426377597109304"
      ]
     },
     "execution_count": 541,
     "metadata": {},
     "output_type": "execute_result"
    }
   ],
   "source": [
    "gs_cvec_mnb_model.score(X_train, y_train)"
   ]
  },
  {
   "cell_type": "code",
   "execution_count": 542,
   "metadata": {},
   "outputs": [
    {
     "data": {
      "text/plain": [
       "0.878213802435724"
      ]
     },
     "execution_count": 542,
     "metadata": {},
     "output_type": "execute_result"
    }
   ],
   "source": [
    "gs_cvec_mnb_model.score(X_val, y_val)"
   ]
  },
  {
   "cell_type": "code",
   "execution_count": 184,
   "metadata": {},
   "outputs": [
    {
     "data": {
      "text/plain": [
       "{'cvec__max_features': 1500, 'cvec__ngram_range': (1, 2)}"
      ]
     },
     "execution_count": 184,
     "metadata": {},
     "output_type": "execute_result"
    }
   ],
   "source": [
    "pipe_cvec_gnb = Pipeline([(\"cvec\", CountVectorizer()),\n",
    "                          (\"ft\", FunctionTransformer(lambda x: x.todense(), accept_sparse = True)),\n",
    "                          (\"gnb\", GaussianNB())])\n",
    "pipe_cvec_gnb_params = {\"cvec__max_features\": [500,1000,1500,1700,2000,2500,3000],\n",
    "                        \"cvec__ngram_range\": [(1,1),(1,2)],\n",
    "                        }\n",
    "gs_cvec_gnb = GridSearchCV(pipe_cvec_gnb,\n",
    "                           param_grid = pipe_cvec_gnb_params,\n",
    "                           cv = 5)\n",
    "gs_cvec_gnb.fit(X_train, y_train)\n",
    "gs_cvec_gnb_model = gs_cvec_gnb.best_estimator_\n",
    "gs_cvec_gnb.best_params_"
   ]
  },
  {
   "cell_type": "code",
   "execution_count": 185,
   "metadata": {},
   "outputs": [
    {
     "data": {
      "text/plain": [
       "0.779580809576826"
      ]
     },
     "execution_count": 185,
     "metadata": {},
     "output_type": "execute_result"
    }
   ],
   "source": [
    "gs_cvec_gnb.best_score_"
   ]
  },
  {
   "cell_type": "code",
   "execution_count": 186,
   "metadata": {},
   "outputs": [
    {
     "data": {
      "text/plain": [
       "0.8658536585365854"
      ]
     },
     "execution_count": 186,
     "metadata": {},
     "output_type": "execute_result"
    }
   ],
   "source": [
    "gs_cvec_gnb_model.score(X_train, y_train)"
   ]
  },
  {
   "cell_type": "code",
   "execution_count": 187,
   "metadata": {
    "scrolled": true
   },
   "outputs": [
    {
     "data": {
      "text/plain": [
       "0.7943166441136671"
      ]
     },
     "execution_count": 187,
     "metadata": {},
     "output_type": "execute_result"
    }
   ],
   "source": [
    "gs_cvec_gnb_model.score(X_val, y_val)"
   ]
  },
  {
   "cell_type": "code",
   "execution_count": 232,
   "metadata": {
    "scrolled": true
   },
   "outputs": [
    {
     "data": {
      "text/plain": [
       "{'cvec__max_features': 2500,\n",
       " 'cvec__ngram_range': (1, 2),\n",
       " 'dt__max_depth': 40,\n",
       " 'dt__min_samples_leaf': 5,\n",
       " 'dt__min_samples_split': 40}"
      ]
     },
     "execution_count": 232,
     "metadata": {},
     "output_type": "execute_result"
    }
   ],
   "source": [
    "pipe_cvec_dt = Pipeline([(\"cvec\", CountVectorizer()),\n",
    "                         (\"ft\", FunctionTransformer(lambda x: x.todense(), accept_sparse = True)),\n",
    "                         (\"dt\", DecisionTreeClassifier())])\n",
    "pipe_cvec_dt_params = {\"cvec__max_features\":[500,1000,1500,1700,2000,2500,3000],\n",
    "                       \"cvec__ngram_range\": [(1,1),(1,2)],\n",
    "                       \"dt__max_depth\": [40],\n",
    "                       \"dt__min_samples_split\": [40],\n",
    "                       \"dt__min_samples_leaf\": [5]}\n",
    "gs_cvec_dt = GridSearchCV(pipe_cvec_dt,\n",
    "                          param_grid = pipe_cvec_dt_params,\n",
    "                          cv = 5)\n",
    "gs_cvec_dt.fit(X_train, y_train)\n",
    "gs_cvec_dt_model = gs_cvec_dt.best_estimator_\n",
    "gs_cvec_dt.best_params_"
   ]
  },
  {
   "cell_type": "code",
   "execution_count": 233,
   "metadata": {},
   "outputs": [
    {
     "data": {
      "text/plain": [
       "0.7899798780425524"
      ]
     },
     "execution_count": 233,
     "metadata": {},
     "output_type": "execute_result"
    }
   ],
   "source": [
    "gs_cvec_dt.best_score_"
   ]
  },
  {
   "cell_type": "code",
   "execution_count": 234,
   "metadata": {},
   "outputs": [
    {
     "data": {
      "text/plain": [
       "0.8089430894308943"
      ]
     },
     "execution_count": 234,
     "metadata": {},
     "output_type": "execute_result"
    }
   ],
   "source": [
    "gs_cvec_dt_model.score(X_train, y_train)"
   ]
  },
  {
   "cell_type": "code",
   "execution_count": 235,
   "metadata": {},
   "outputs": [
    {
     "data": {
      "text/plain": [
       "0.8064952638700947"
      ]
     },
     "execution_count": 235,
     "metadata": {},
     "output_type": "execute_result"
    }
   ],
   "source": [
    "gs_cvec_dt_model.score(X_val, y_val)"
   ]
  },
  {
   "cell_type": "code",
   "execution_count": 260,
   "metadata": {},
   "outputs": [
    {
     "data": {
      "text/plain": [
       "{'bag__base_estimator__max_depth': 40,\n",
       " 'bag__base_estimator__min_samples_leaf': 5,\n",
       " 'bag__base_estimator__min_samples_split': 40,\n",
       " 'bag__max_features': 0.4,\n",
       " 'bag__max_samples': 0.5,\n",
       " 'bag__n_estimators': 200,\n",
       " 'cvec__max_features': 2000,\n",
       " 'cvec__ngram_range': (1, 1)}"
      ]
     },
     "execution_count": 260,
     "metadata": {},
     "output_type": "execute_result"
    }
   ],
   "source": [
    "pipe_cvec_dt_bag = Pipeline([(\"cvec\", CountVectorizer()),\n",
    "                             (\"ft\", FunctionTransformer(lambda x: x.todense(), accept_sparse = True)),\n",
    "                             (\"bag\", BaggingClassifier(base_estimator = DecisionTreeClassifier()))])\n",
    "pipe_cvec_dt_bag_params = {\"bag__base_estimator__max_depth\": [40],\n",
    "                           \"bag__base_estimator__min_samples_leaf\": [5],\n",
    "                           \"bag__base_estimator__min_samples_split\": [40],\n",
    "                           'cvec__max_features':[500,1000,1500,1700,2000,2500,3000],\n",
    "                           'cvec__ngram_range': [(1, 1),(1,2)],\n",
    "                           \"bag__n_estimators\": [200],\n",
    "                           \"bag__max_samples\": [.5],\n",
    "                           \"bag__max_features\": [.4]}\n",
    "gs_cvec_dt_bag = GridSearchCV(pipe_cvec_dt_bag,\n",
    "                              param_grid = pipe_cvec_dt_bag_params,\n",
    "                              cv = 5)\n",
    "gs_cvec_dt_bag.fit(X_train, y_train)\n",
    "gs_cvec_dt_bag_model = gs_cvec_dt_bag.best_estimator_\n",
    "gs_cvec_dt_bag.best_params_"
   ]
  },
  {
   "cell_type": "code",
   "execution_count": 261,
   "metadata": {},
   "outputs": [
    {
     "data": {
      "text/plain": [
       "0.7976507359325046"
      ]
     },
     "execution_count": 261,
     "metadata": {},
     "output_type": "execute_result"
    }
   ],
   "source": [
    "gs_cvec_dt_bag.best_score_"
   ]
  },
  {
   "cell_type": "code",
   "execution_count": 262,
   "metadata": {},
   "outputs": [
    {
     "data": {
      "text/plain": [
       "0.8333333333333334"
      ]
     },
     "execution_count": 262,
     "metadata": {},
     "output_type": "execute_result"
    }
   ],
   "source": [
    "gs_cvec_dt_bag_model.score(X_train, y_train)"
   ]
  },
  {
   "cell_type": "code",
   "execution_count": 263,
   "metadata": {},
   "outputs": [
    {
     "data": {
      "text/plain": [
       "0.8281461434370772"
      ]
     },
     "execution_count": 263,
     "metadata": {},
     "output_type": "execute_result"
    }
   ],
   "source": [
    "gs_cvec_dt_bag_model.score(X_val, y_val)"
   ]
  },
  {
   "cell_type": "code",
   "execution_count": 274,
   "metadata": {
    "scrolled": true
   },
   "outputs": [
    {
     "data": {
      "text/plain": [
       "{'cvec__max_features': 2000,\n",
       " 'cvec__ngram_range': (1, 1),\n",
       " 'rf__max_depth': None,\n",
       " 'rf__n_estimators': 70}"
      ]
     },
     "execution_count": 274,
     "metadata": {},
     "output_type": "execute_result"
    }
   ],
   "source": [
    "pipe_cvec_rf = Pipeline([(\"cvec\", CountVectorizer()),\n",
    "                         (\"ft\", FunctionTransformer(lambda x: x.todense(), accept_sparse = True)),\n",
    "                         (\"rf\", RandomForestClassifier())])\n",
    "pipe_cvec_rf_params = {'cvec__max_features':[2000,2500,3000],\n",
    "                       'cvec__ngram_range': [(1, 1),(1,2)],\n",
    "                       \"rf__n_estimators\": [70],\n",
    "                       \"rf__max_depth\": [None]}\n",
    "gs_cvec_rf = GridSearchCV(pipe_cvec_rf,\n",
    "                          param_grid = pipe_cvec_rf_params,\n",
    "                          cv = 5)\n",
    "gs_cvec_rf.fit(X_train, y_train)\n",
    "gs_cvec_rf_model = gs_cvec_rf.best_estimator_\n",
    "gs_cvec_rf.best_params_"
   ]
  },
  {
   "cell_type": "code",
   "execution_count": 275,
   "metadata": {},
   "outputs": [
    {
     "data": {
      "text/plain": [
       "0.8355903292033953"
      ]
     },
     "execution_count": 275,
     "metadata": {},
     "output_type": "execute_result"
    }
   ],
   "source": [
    "gs_cvec_rf.best_score_"
   ]
  },
  {
   "cell_type": "code",
   "execution_count": 276,
   "metadata": {},
   "outputs": [
    {
     "data": {
      "text/plain": [
       "0.990063233965673"
      ]
     },
     "execution_count": 276,
     "metadata": {},
     "output_type": "execute_result"
    }
   ],
   "source": [
    "gs_cvec_rf_model.score(X_train, y_train)"
   ]
  },
  {
   "cell_type": "code",
   "execution_count": 277,
   "metadata": {},
   "outputs": [
    {
     "data": {
      "text/plain": [
       "0.8565629228687416"
      ]
     },
     "execution_count": 277,
     "metadata": {},
     "output_type": "execute_result"
    }
   ],
   "source": [
    "gs_cvec_rf_model.score(X_val, y_val)"
   ]
  },
  {
   "cell_type": "code",
   "execution_count": 543,
   "metadata": {},
   "outputs": [
    {
     "data": {
      "text/plain": [
       "{'cvec__max_features': 2000,\n",
       " 'cvec__ngram_range': (1, 1),\n",
       " 'et__max_depth': None,\n",
       " 'et__n_estimators': 50}"
      ]
     },
     "execution_count": 543,
     "metadata": {},
     "output_type": "execute_result"
    }
   ],
   "source": [
    "pipe_cvec_et = Pipeline([(\"cvec\", CountVectorizer()),\n",
    "                         (\"ft\", FunctionTransformer(lambda x: x.todense(), accept_sparse = True)),\n",
    "                         (\"et\", ExtraTreesClassifier())])\n",
    "pipe_cvec_et_params = {'cvec__max_features':[500,1000,1500,1700,2000,2500,3000],\n",
    "                       'cvec__ngram_range': [(1, 1),(1,2)],\n",
    "                       \"et__n_estimators\": [50],\n",
    "                       \"et__max_depth\": [None]}\n",
    "gs_cvec_et = GridSearchCV(pipe_cvec_et,\n",
    "                          param_grid = pipe_cvec_et_params,\n",
    "                          cv = 5)\n",
    "gs_cvec_et.fit(X_train, y_train)\n",
    "gs_cvec_et_model = gs_cvec_et.best_estimator_\n",
    "gs_cvec_et.best_params_"
   ]
  },
  {
   "cell_type": "code",
   "execution_count": 544,
   "metadata": {},
   "outputs": [
    {
     "data": {
      "text/plain": [
       "0.8382950471384942"
      ]
     },
     "execution_count": 544,
     "metadata": {},
     "output_type": "execute_result"
    }
   ],
   "source": [
    "gs_cvec_et.best_score_"
   ]
  },
  {
   "cell_type": "code",
   "execution_count": 545,
   "metadata": {},
   "outputs": [
    {
     "data": {
      "text/plain": [
       "0.9905149051490515"
      ]
     },
     "execution_count": 545,
     "metadata": {},
     "output_type": "execute_result"
    }
   ],
   "source": [
    "gs_cvec_et_model.score(X_train, y_train)"
   ]
  },
  {
   "cell_type": "code",
   "execution_count": 546,
   "metadata": {},
   "outputs": [
    {
     "data": {
      "text/plain": [
       "0.8470906630581867"
      ]
     },
     "execution_count": 546,
     "metadata": {},
     "output_type": "execute_result"
    }
   ],
   "source": [
    "gs_cvec_et_model.score(X_val, y_val)"
   ]
  },
  {
   "cell_type": "code",
   "execution_count": 311,
   "metadata": {},
   "outputs": [
    {
     "data": {
      "text/plain": [
       "{'ada__base_estimator__max_depth': 5,\n",
       " 'ada__n_estimators': 65,\n",
       " 'cvec__max_features': 1000,\n",
       " 'cvec__ngram_range': (1, 1)}"
      ]
     },
     "execution_count": 311,
     "metadata": {},
     "output_type": "execute_result"
    }
   ],
   "source": [
    "pipe_cvec_ada = Pipeline([(\"cvec\", CountVectorizer()),\n",
    "                          (\"ft\", FunctionTransformer(lambda x: x.todense(), accept_sparse = True)),\n",
    "                          (\"ada\", AdaBoostClassifier(base_estimator = DecisionTreeClassifier()))])\n",
    "pipe_cvec_ada_params = {\"ada__base_estimator__max_depth\": [5],\n",
    "                        'cvec__max_features':[500,1000,1500],\n",
    "                        'cvec__ngram_range': [(1, 1),(1,2)],\n",
    "                        \"ada__n_estimators\": [65]}\n",
    "gs_cvec_ada = GridSearchCV(pipe_cvec_ada,\n",
    "                           param_grid = pipe_cvec_ada_params,\n",
    "                           cv = 5)\n",
    "gs_cvec_ada.fit(X_train, y_train)\n",
    "gs_cvec_ada_model = gs_cvec_ada.best_estimator_\n",
    "gs_cvec_ada.best_params_"
   ]
  },
  {
   "cell_type": "code",
   "execution_count": 312,
   "metadata": {},
   "outputs": [
    {
     "data": {
      "text/plain": [
       "0.8175285742009949"
      ]
     },
     "execution_count": 312,
     "metadata": {},
     "output_type": "execute_result"
    }
   ],
   "source": [
    "gs_cvec_ada.best_score_"
   ]
  },
  {
   "cell_type": "code",
   "execution_count": 313,
   "metadata": {},
   "outputs": [
    {
     "data": {
      "text/plain": [
       "0.969286359530262"
      ]
     },
     "execution_count": 313,
     "metadata": {},
     "output_type": "execute_result"
    }
   ],
   "source": [
    "gs_cvec_ada_model.score(X_train, y_train)"
   ]
  },
  {
   "cell_type": "code",
   "execution_count": 314,
   "metadata": {},
   "outputs": [
    {
     "data": {
      "text/plain": [
       "0.8281461434370772"
      ]
     },
     "execution_count": 314,
     "metadata": {},
     "output_type": "execute_result"
    }
   ],
   "source": [
    "gs_cvec_ada_model.score(X_val, y_val)"
   ]
  },
  {
   "cell_type": "markdown",
   "metadata": {},
   "source": [
    "### Modeling with Tdidf Vectorizer"
   ]
  },
  {
   "cell_type": "code",
   "execution_count": 324,
   "metadata": {},
   "outputs": [
    {
     "data": {
      "text/plain": [
       "{'tvec__max_features': 3000, 'tvec__ngram_range': (1, 2)}"
      ]
     },
     "execution_count": 324,
     "metadata": {},
     "output_type": "execute_result"
    }
   ],
   "source": [
    "pipe_tvec_lr = Pipeline([(\"tvec\",  TfidfVectorizer()),\n",
    "                         (\"lr\", LogisticRegression(max_iter = 2000))])\n",
    "pipe_tvec_lr_params = {\"tvec__max_features\": [3000],\n",
    "                       \"tvec__ngram_range\": [(1,1),(1,2)]\n",
    "                       }\n",
    "gs_tvec_lr = GridSearchCV(pipe_tvec_lr,\n",
    "                          param_grid = pipe_tvec_lr_params,\n",
    "                          cv = 5)\n",
    "gs_tvec_lr.fit(X_train, y_train)\n",
    "gs_tvec_lr_model = gs_tvec_lr.best_estimator_\n",
    "gs_tvec_lr.best_params_"
   ]
  },
  {
   "cell_type": "code",
   "execution_count": 325,
   "metadata": {},
   "outputs": [
    {
     "data": {
      "text/plain": [
       "0.8500393246376514"
      ]
     },
     "execution_count": 325,
     "metadata": {},
     "output_type": "execute_result"
    }
   ],
   "source": [
    "gs_tvec_lr.best_score_"
   ]
  },
  {
   "cell_type": "code",
   "execution_count": 326,
   "metadata": {},
   "outputs": [
    {
     "data": {
      "text/plain": [
       "0.960252935862692"
      ]
     },
     "execution_count": 326,
     "metadata": {},
     "output_type": "execute_result"
    }
   ],
   "source": [
    "gs_tvec_lr_model.score(X_train,y_train)"
   ]
  },
  {
   "cell_type": "code",
   "execution_count": 327,
   "metadata": {},
   "outputs": [
    {
     "data": {
      "text/plain": [
       "0.8755074424898511"
      ]
     },
     "execution_count": 327,
     "metadata": {},
     "output_type": "execute_result"
    }
   ],
   "source": [
    "gs_tvec_lr_model.score(X_val,y_val)"
   ]
  },
  {
   "cell_type": "code",
   "execution_count": 333,
   "metadata": {},
   "outputs": [
    {
     "data": {
      "text/plain": [
       "{'knn__n_neighbors': 10,\n",
       " 'tvec__max_features': 500,\n",
       " 'tvec__ngram_range': (1, 1)}"
      ]
     },
     "execution_count": 333,
     "metadata": {},
     "output_type": "execute_result"
    }
   ],
   "source": [
    "pipe_tvec_knn = Pipeline([(\"tvec\",  TfidfVectorizer()),\n",
    "                          (\"ft\", FunctionTransformer(lambda x: x.todense(), accept_sparse = True)),\n",
    "                          (\"knn\", KNeighborsClassifier())])\n",
    "pipe_tvec_knn_params = {\"tvec__max_features\":[500,1000,1500],\n",
    "                        \"tvec__ngram_range\": [(1,1),(1,2)],\n",
    "                        \"knn__n_neighbors\": [10,15,20]}\n",
    "gs_tvec_knn = GridSearchCV(pipe_tvec_knn,\n",
    "                           param_grid = pipe_tvec_knn_params,\n",
    "                           cv = 5)\n",
    "gs_tvec_knn.fit(X_train, y_train)\n",
    "gs_tvec_knn_model = gs_tvec_knn.best_estimator_\n",
    "gs_tvec_knn.best_params_"
   ]
  },
  {
   "cell_type": "code",
   "execution_count": 334,
   "metadata": {},
   "outputs": [
    {
     "data": {
      "text/plain": [
       "0.6815715555192383"
      ]
     },
     "execution_count": 334,
     "metadata": {},
     "output_type": "execute_result"
    }
   ],
   "source": [
    "gs_tvec_knn.best_score_"
   ]
  },
  {
   "cell_type": "code",
   "execution_count": 335,
   "metadata": {},
   "outputs": [
    {
     "data": {
      "text/plain": [
       "0.7872628726287263"
      ]
     },
     "execution_count": 335,
     "metadata": {},
     "output_type": "execute_result"
    }
   ],
   "source": [
    "gs_tvec_knn_model.score(X_train,y_train)"
   ]
  },
  {
   "cell_type": "code",
   "execution_count": 336,
   "metadata": {},
   "outputs": [
    {
     "data": {
      "text/plain": [
       "0.706359945872801"
      ]
     },
     "execution_count": 336,
     "metadata": {},
     "output_type": "execute_result"
    }
   ],
   "source": [
    "gs_tvec_knn_model.score(X_val,y_val)"
   ]
  },
  {
   "cell_type": "code",
   "execution_count": 392,
   "metadata": {},
   "outputs": [
    {
     "data": {
      "text/plain": [
       "{'tvec__max_features': 1700, 'tvec__ngram_range': (1, 1)}"
      ]
     },
     "execution_count": 392,
     "metadata": {},
     "output_type": "execute_result"
    }
   ],
   "source": [
    "pipe_tvec_mnb = Pipeline([(\"tvec\",TfidfVectorizer()),\n",
    "                          (\"ft\", FunctionTransformer(lambda x: x.todense(), accept_sparse = True)),\n",
    "                          (\"mnb\", MultinomialNB())])\n",
    "pipe_tvec_mnb_params = {\"tvec__max_features\": [500,1000,1500,1700,2000,2500,3000],\n",
    "                        \"tvec__ngram_range\": [(1,1),(1,2)],\n",
    "                        }\n",
    "gs_tvec_mnb = GridSearchCV(pipe_tvec_mnb,\n",
    "                           param_grid = pipe_tvec_mnb_params,\n",
    "                           cv = 5)\n",
    "gs_tvec_mnb.fit(X_train, y_train)\n",
    "gs_tvec_mnb_model = gs_tvec_mnb.best_estimator_\n",
    "gs_tvec_mnb.best_params_"
   ]
  },
  {
   "cell_type": "code",
   "execution_count": 393,
   "metadata": {},
   "outputs": [
    {
     "data": {
      "text/plain": [
       "0.8464265650695075"
      ]
     },
     "execution_count": 393,
     "metadata": {},
     "output_type": "execute_result"
    }
   ],
   "source": [
    "gs_tvec_mnb.best_score_"
   ]
  },
  {
   "cell_type": "code",
   "execution_count": 394,
   "metadata": {},
   "outputs": [
    {
     "data": {
      "text/plain": [
       "0.9345076784101174"
      ]
     },
     "execution_count": 394,
     "metadata": {},
     "output_type": "execute_result"
    }
   ],
   "source": [
    "gs_tvec_mnb_model.score(X_train,y_train)"
   ]
  },
  {
   "cell_type": "code",
   "execution_count": 395,
   "metadata": {},
   "outputs": [
    {
     "data": {
      "text/plain": [
       "0.8633288227334236"
      ]
     },
     "execution_count": 395,
     "metadata": {},
     "output_type": "execute_result"
    }
   ],
   "source": [
    "gs_tvec_mnb_model.score(X_val,y_val)"
   ]
  },
  {
   "cell_type": "code",
   "execution_count": 387,
   "metadata": {},
   "outputs": [
    {
     "data": {
      "text/plain": [
       "{'tvec__max_features': 500, 'tvec__ngram_range': (1, 2)}"
      ]
     },
     "execution_count": 387,
     "metadata": {},
     "output_type": "execute_result"
    }
   ],
   "source": [
    "pipe_tvec_gnb = Pipeline([(\"tvec\",TfidfVectorizer()),\n",
    "                          (\"ft\", FunctionTransformer(lambda x: x.todense(), accept_sparse = True)),\n",
    "                          (\"gnb\", GaussianNB())])\n",
    "pipe_tvec_gnb_params = {\"tvec__max_features\": [500,1000,1500,1700,2000,2500,3000],\n",
    "                        \"tvec__ngram_range\": [(1,1),(1,2)],\n",
    "                        }\n",
    "gs_tvec_gnb = GridSearchCV(pipe_tvec_gnb,\n",
    "                           param_grid = pipe_tvec_gnb_params,\n",
    "                           cv = 5)\n",
    "gs_tvec_gnb.fit(X_train, y_train)\n",
    "gs_tvec_gnb_model = gs_tvec_gnb.best_estimator_\n",
    "gs_tvec_gnb.best_params_"
   ]
  },
  {
   "cell_type": "code",
   "execution_count": 388,
   "metadata": {},
   "outputs": [
    {
     "data": {
      "text/plain": [
       "0.7755186255783786"
      ]
     },
     "execution_count": 388,
     "metadata": {},
     "output_type": "execute_result"
    }
   ],
   "source": [
    "gs_tvec_gnb.best_score_"
   ]
  },
  {
   "cell_type": "code",
   "execution_count": 389,
   "metadata": {},
   "outputs": [
    {
     "data": {
      "text/plain": [
       "0.8527551942186089"
      ]
     },
     "execution_count": 389,
     "metadata": {},
     "output_type": "execute_result"
    }
   ],
   "source": [
    "gs_tvec_gnb_model.score(X_train,y_train)"
   ]
  },
  {
   "cell_type": "code",
   "execution_count": 390,
   "metadata": {},
   "outputs": [
    {
     "data": {
      "text/plain": [
       "0.7875507442489851"
      ]
     },
     "execution_count": 390,
     "metadata": {},
     "output_type": "execute_result"
    }
   ],
   "source": [
    "gs_tvec_gnb_model.score(X_val,y_val)"
   ]
  },
  {
   "cell_type": "code",
   "execution_count": 363,
   "metadata": {},
   "outputs": [
    {
     "data": {
      "text/plain": [
       "{'bag__base_estimator__max_depth': 40,\n",
       " 'bag__base_estimator__min_samples_leaf': 5,\n",
       " 'bag__base_estimator__min_samples_split': 40,\n",
       " 'bag__max_features': 0.3,\n",
       " 'bag__max_samples': 0.5,\n",
       " 'bag__n_estimators': 30,\n",
       " 'tvec__max_features': 2500,\n",
       " 'tvec__ngram_range': (1, 1)}"
      ]
     },
     "execution_count": 363,
     "metadata": {},
     "output_type": "execute_result"
    }
   ],
   "source": [
    "pipe_tvec_dt_bag = Pipeline([(\"tvec\",TfidfVectorizer()),\n",
    "                             (\"ft\", FunctionTransformer(lambda x: x.todense(), accept_sparse = True)),\n",
    "                             (\"bag\", BaggingClassifier(base_estimator = DecisionTreeClassifier()))])\n",
    "pipe_tvec_dt_bag_params = {\"bag__base_estimator__max_depth\": [40],\n",
    "                           \"bag__base_estimator__min_samples_leaf\": [5],\n",
    "                           \"bag__base_estimator__min_samples_split\": [40],\n",
    "                           'tvec__max_features':[500,1000,1500,1700,2000,2500,3000],\n",
    "                           'tvec__ngram_range': [(1, 1),(1,2)],\n",
    "                           \"bag__n_estimators\": [30],\n",
    "                           \"bag__max_samples\": [.5],\n",
    "                           \"bag__max_features\": [.3]}\n",
    "gs_tvec_dt_bag = GridSearchCV(pipe_tvec_dt_bag,\n",
    "                              param_grid = pipe_tvec_dt_bag_params,\n",
    "                              cv = 5)\n",
    "gs_tvec_dt_bag.fit(X_train, y_train)\n",
    "gs_tvec_dt_bag_model = gs_tvec_dt_bag.best_estimator_\n",
    "gs_tvec_dt_bag.best_params_"
   ]
  },
  {
   "cell_type": "code",
   "execution_count": 364,
   "metadata": {},
   "outputs": [
    {
     "data": {
      "text/plain": [
       "0.7913261084951431"
      ]
     },
     "execution_count": 364,
     "metadata": {},
     "output_type": "execute_result"
    }
   ],
   "source": [
    "gs_tvec_dt_bag.best_score_"
   ]
  },
  {
   "cell_type": "code",
   "execution_count": 365,
   "metadata": {},
   "outputs": [
    {
     "data": {
      "text/plain": [
       "0.8360433604336044"
      ]
     },
     "execution_count": 365,
     "metadata": {},
     "output_type": "execute_result"
    }
   ],
   "source": [
    "gs_tvec_dt_bag_model.score(X_train,y_train)"
   ]
  },
  {
   "cell_type": "code",
   "execution_count": 366,
   "metadata": {},
   "outputs": [
    {
     "data": {
      "text/plain": [
       "0.8308525033829499"
      ]
     },
     "execution_count": 366,
     "metadata": {},
     "output_type": "execute_result"
    }
   ],
   "source": [
    "gs_tvec_dt_bag_model.score(X_val,y_val)"
   ]
  },
  {
   "cell_type": "code",
   "execution_count": 371,
   "metadata": {},
   "outputs": [
    {
     "data": {
      "text/plain": [
       "{'rf__max_depth': None,\n",
       " 'rf__n_estimators': 70,\n",
       " 'tvec__max_features': 2500,\n",
       " 'tvec__ngram_range': (1, 1)}"
      ]
     },
     "execution_count": 371,
     "metadata": {},
     "output_type": "execute_result"
    }
   ],
   "source": [
    "pipe_tvec_rf = Pipeline([(\"tvec\",TfidfVectorizer()),\n",
    "                         (\"ft\", FunctionTransformer(lambda x: x.todense(), accept_sparse = True)),\n",
    "                         (\"rf\", RandomForestClassifier())])\n",
    "pipe_tvec_rf_params = {'tvec__max_features':[500,1000,2000,2500,3000],\n",
    "                       'tvec__ngram_range': [(1, 1),(1,2)],\n",
    "                       \"rf__n_estimators\": [70],\n",
    "                       \"rf__max_depth\": [None]}\n",
    "gs_tvec_rf = GridSearchCV(pipe_tvec_rf,\n",
    "                          param_grid = pipe_tvec_rf_params,\n",
    "                          cv = 5)\n",
    "gs_tvec_rf.fit(X_train, y_train)\n",
    "gs_tvec_rf_model = gs_tvec_rf.best_estimator_\n",
    "gs_tvec_rf.best_params_"
   ]
  },
  {
   "cell_type": "code",
   "execution_count": 372,
   "metadata": {},
   "outputs": [
    {
     "data": {
      "text/plain": [
       "0.8342451201699641"
      ]
     },
     "execution_count": 372,
     "metadata": {},
     "output_type": "execute_result"
    }
   ],
   "source": [
    "gs_tvec_rf.best_score_"
   ]
  },
  {
   "cell_type": "code",
   "execution_count": 373,
   "metadata": {},
   "outputs": [
    {
     "data": {
      "text/plain": [
       "0.9932249322493225"
      ]
     },
     "execution_count": 373,
     "metadata": {},
     "output_type": "execute_result"
    }
   ],
   "source": [
    "gs_tvec_rf_model.score(X_train,y_train)"
   ]
  },
  {
   "cell_type": "code",
   "execution_count": 374,
   "metadata": {},
   "outputs": [
    {
     "data": {
      "text/plain": [
       "0.8552097428958051"
      ]
     },
     "execution_count": 374,
     "metadata": {},
     "output_type": "execute_result"
    }
   ],
   "source": [
    "gs_tvec_rf_model.score(X_val,y_val)"
   ]
  },
  {
   "cell_type": "code",
   "execution_count": 375,
   "metadata": {},
   "outputs": [
    {
     "data": {
      "text/plain": [
       "{'et__max_depth': None,\n",
       " 'et__n_estimators': 50,\n",
       " 'tvec__max_features': 2000,\n",
       " 'tvec__ngram_range': (1, 1)}"
      ]
     },
     "execution_count": 375,
     "metadata": {},
     "output_type": "execute_result"
    }
   ],
   "source": [
    "pipe_tvec_et = Pipeline([(\"tvec\",TfidfVectorizer()),\n",
    "                         (\"ft\", FunctionTransformer(lambda x: x.todense(), accept_sparse = True)),\n",
    "                         (\"et\", ExtraTreesClassifier())])\n",
    "pipe_tvec_et_params = {'tvec__max_features':[500,1000,1500,1700,2000,2500,3000],\n",
    "                       'tvec__ngram_range': [(1, 1),(1,2)],\n",
    "                       \"et__n_estimators\": [50],\n",
    "                       \"et__max_depth\": [None]}\n",
    "gs_tvec_et = GridSearchCV(pipe_tvec_et,\n",
    "                          param_grid = pipe_tvec_et_params,\n",
    "                          cv = 5)\n",
    "gs_tvec_et.fit(X_train, y_train)\n",
    "gs_tvec_et_model = gs_tvec_et.best_estimator_\n",
    "gs_tvec_et.best_params_"
   ]
  },
  {
   "cell_type": "code",
   "execution_count": 475,
   "metadata": {},
   "outputs": [
    {
     "data": {
      "text/plain": [
       "0.8428148269205235"
      ]
     },
     "execution_count": 475,
     "metadata": {},
     "output_type": "execute_result"
    }
   ],
   "source": [
    "gs_tvec_et.best_score_"
   ]
  },
  {
   "cell_type": "code",
   "execution_count": 377,
   "metadata": {},
   "outputs": [
    {
     "data": {
      "text/plain": [
       "0.9905149051490515"
      ]
     },
     "execution_count": 377,
     "metadata": {},
     "output_type": "execute_result"
    }
   ],
   "source": [
    "gs_tvec_et_model.score(X_train,y_train)"
   ]
  },
  {
   "cell_type": "code",
   "execution_count": 378,
   "metadata": {},
   "outputs": [
    {
     "data": {
      "text/plain": [
       "0.8565629228687416"
      ]
     },
     "execution_count": 378,
     "metadata": {},
     "output_type": "execute_result"
    }
   ],
   "source": [
    "gs_tvec_et_model.score(X_val,y_val)"
   ]
  },
  {
   "cell_type": "code",
   "execution_count": 383,
   "metadata": {},
   "outputs": [
    {
     "data": {
      "text/plain": [
       "{'ada__base_estimator__max_depth': 5,\n",
       " 'ada__n_estimators': 70,\n",
       " 'tvec__max_features': 1000,\n",
       " 'tvec__ngram_range': (1, 2)}"
      ]
     },
     "execution_count": 383,
     "metadata": {},
     "output_type": "execute_result"
    }
   ],
   "source": [
    "pipe_tvec_ada = Pipeline([(\"tvec\",TfidfVectorizer()),\n",
    "                          (\"ft\", FunctionTransformer(lambda x: x.todense(), accept_sparse = True)),\n",
    "                          (\"ada\", AdaBoostClassifier(base_estimator = DecisionTreeClassifier()))])\n",
    "pipe_tvec_ada_params = {\"ada__base_estimator__max_depth\": [5],\n",
    "                        'tvec__max_features':[500,1000,1500],\n",
    "                        'tvec__ngram_range': [(1, 1),(1,2)],\n",
    "                        \"ada__n_estimators\": [70]}\n",
    "gs_tvec_ada = GridSearchCV(pipe_tvec_ada,\n",
    "                           param_grid = pipe_tvec_ada_params,\n",
    "                           cv = 5)\n",
    "gs_tvec_ada.fit(X_train, y_train)\n",
    "gs_tvec_ada_model = gs_tvec_ada.best_estimator_\n",
    "gs_tvec_ada.best_params_"
   ]
  },
  {
   "cell_type": "code",
   "execution_count": 384,
   "metadata": {},
   "outputs": [
    {
     "data": {
      "text/plain": [
       "0.7994606906836358"
      ]
     },
     "execution_count": 384,
     "metadata": {},
     "output_type": "execute_result"
    }
   ],
   "source": [
    "gs_tvec_ada.best_score_"
   ]
  },
  {
   "cell_type": "code",
   "execution_count": 385,
   "metadata": {},
   "outputs": [
    {
     "data": {
      "text/plain": [
       "0.971093044263776"
      ]
     },
     "execution_count": 385,
     "metadata": {},
     "output_type": "execute_result"
    }
   ],
   "source": [
    "gs_tvec_ada_model.score(X_train,y_train)"
   ]
  },
  {
   "cell_type": "code",
   "execution_count": 474,
   "metadata": {},
   "outputs": [
    {
     "data": {
      "text/plain": [
       "0.8092016238159675"
      ]
     },
     "execution_count": 474,
     "metadata": {},
     "output_type": "execute_result"
    }
   ],
   "source": [
    "gs_tvec_ada_model.score(X_val,y_val)"
   ]
  },
  {
   "cell_type": "code",
   "execution_count": 547,
   "metadata": {},
   "outputs": [],
   "source": [
    "### Dataframe to visualize accuracy scores for different models\n",
    "scores=pd.DataFrame()"
   ]
  },
  {
   "cell_type": "code",
   "execution_count": 548,
   "metadata": {},
   "outputs": [],
   "source": [
    "scores['Model Type']=['CountVectorization-LR','CountVectorization-KNN','CountVectorization-BNB','CountVectorization-MNB','CountVectorization-GNB','CountVectorization-DecisionTree','CountVectorization-DecisionTree,Bag','CountVectorization-RandomForest','CountVectorization-ExtraTrees','CountVectorization-AdaBoost','TFIDFVectorization-LR','TFIDFVectorization-KNN','TFIDFVectorization-MNB','TFIDFVectorization-GNB','TFIDFVectorization-DecisionTree,Bag','TFIDFVectorization-RandomForest','TFIDFVectorization-ExtraTrees','TFIDFVectorization-AdaBoost']\n",
    "scores['Train Accuracy']=[gs_cvec_lr_model.score(X_train,y_train),gs_cvec_knn_model.score(X_train,y_train),gs_cvec_bnb_model.score(X_train,y_train),gs_cvec_mnb_model.score(X_train,y_train),gs_cvec_gnb_model.score(X_train,y_train),gs_cvec_dt_model.score(X_train,y_train),gs_cvec_dt_bag_model.score(X_train,y_train),gs_cvec_rf_model.score(X_train,y_train),gs_cvec_et_model.score(X_train,y_train),gs_cvec_ada_model.score(X_train,y_train),gs_tvec_lr_model.score(X_train,y_train),gs_tvec_knn_model.score(X_train,y_train),gs_tvec_mnb_model.score(X_train,y_train),gs_tvec_gnb_model.score(X_train,y_train),gs_tvec_dt_bag_model.score(X_train,y_train),gs_tvec_rf_model.score(X_train,y_train),gs_tvec_et_model.score(X_train,y_train),gs_tvec_ada_model.score(X_train,y_train)]\n",
    "scores['Test Accuracy']=[gs_cvec_lr_model.score(X_val,y_val),gs_cvec_knn_model.score(X_val,y_val),gs_cvec_bnb_model.score(X_val,y_val),gs_cvec_mnb_model.score(X_val,y_val),gs_cvec_gnb_model.score(X_val,y_val),gs_cvec_dt_model.score(X_val,y_val),gs_cvec_dt_bag_model.score(X_val,y_val),gs_cvec_rf_model.score(X_val,y_val),gs_cvec_et_model.score(X_val,y_val),gs_cvec_ada_model.score(X_val,y_val),gs_tvec_lr_model.score(X_val,y_val),gs_tvec_knn_model.score(X_val,y_val),gs_tvec_mnb_model.score(X_val,y_val),gs_tvec_gnb_model.score(X_val,y_val),gs_tvec_dt_bag_model.score(X_val,y_val),gs_tvec_rf_model.score(X_val,y_val),gs_tvec_et_model.score(X_val,y_val),gs_tvec_ada_model.score(X_val,y_val)]\n",
    "scores['Accuracy Difference']=scores['Train Accuracy']-scores['Test Accuracy']"
   ]
  },
  {
   "cell_type": "code",
   "execution_count": 549,
   "metadata": {
    "scrolled": true
   },
   "outputs": [
    {
     "data": {
      "text/html": [
       "<div>\n",
       "<style scoped>\n",
       "    .dataframe tbody tr th:only-of-type {\n",
       "        vertical-align: middle;\n",
       "    }\n",
       "\n",
       "    .dataframe tbody tr th {\n",
       "        vertical-align: top;\n",
       "    }\n",
       "\n",
       "    .dataframe thead th {\n",
       "        text-align: right;\n",
       "    }\n",
       "</style>\n",
       "<table border=\"1\" class=\"dataframe\">\n",
       "  <thead>\n",
       "    <tr style=\"text-align: right;\">\n",
       "      <th></th>\n",
       "      <th>Model Type</th>\n",
       "      <th>Train Accuracy</th>\n",
       "      <th>Test Accuracy</th>\n",
       "      <th>Accuracy Difference</th>\n",
       "    </tr>\n",
       "  </thead>\n",
       "  <tbody>\n",
       "    <tr>\n",
       "      <th>15</th>\n",
       "      <td>TFIDFVectorization-RandomForest</td>\n",
       "      <td>0.993225</td>\n",
       "      <td>0.855210</td>\n",
       "      <td>0.138015</td>\n",
       "    </tr>\n",
       "    <tr>\n",
       "      <th>16</th>\n",
       "      <td>TFIDFVectorization-ExtraTrees</td>\n",
       "      <td>0.990515</td>\n",
       "      <td>0.856563</td>\n",
       "      <td>0.133952</td>\n",
       "    </tr>\n",
       "    <tr>\n",
       "      <th>8</th>\n",
       "      <td>CountVectorization-ExtraTrees</td>\n",
       "      <td>0.990515</td>\n",
       "      <td>0.847091</td>\n",
       "      <td>0.143424</td>\n",
       "    </tr>\n",
       "    <tr>\n",
       "      <th>7</th>\n",
       "      <td>CountVectorization-RandomForest</td>\n",
       "      <td>0.990063</td>\n",
       "      <td>0.856563</td>\n",
       "      <td>0.133500</td>\n",
       "    </tr>\n",
       "    <tr>\n",
       "      <th>17</th>\n",
       "      <td>TFIDFVectorization-AdaBoost</td>\n",
       "      <td>0.971093</td>\n",
       "      <td>0.809202</td>\n",
       "      <td>0.161891</td>\n",
       "    </tr>\n",
       "    <tr>\n",
       "      <th>9</th>\n",
       "      <td>CountVectorization-AdaBoost</td>\n",
       "      <td>0.969286</td>\n",
       "      <td>0.828146</td>\n",
       "      <td>0.141140</td>\n",
       "    </tr>\n",
       "    <tr>\n",
       "      <th>0</th>\n",
       "      <td>CountVectorization-LR</td>\n",
       "      <td>0.967028</td>\n",
       "      <td>0.872801</td>\n",
       "      <td>0.094227</td>\n",
       "    </tr>\n",
       "    <tr>\n",
       "      <th>10</th>\n",
       "      <td>TFIDFVectorization-LR</td>\n",
       "      <td>0.960253</td>\n",
       "      <td>0.875507</td>\n",
       "      <td>0.084745</td>\n",
       "    </tr>\n",
       "    <tr>\n",
       "      <th>3</th>\n",
       "      <td>CountVectorization-MNB</td>\n",
       "      <td>0.942638</td>\n",
       "      <td>0.878214</td>\n",
       "      <td>0.064424</td>\n",
       "    </tr>\n",
       "    <tr>\n",
       "      <th>2</th>\n",
       "      <td>CountVectorization-BNB</td>\n",
       "      <td>0.941734</td>\n",
       "      <td>0.880920</td>\n",
       "      <td>0.060814</td>\n",
       "    </tr>\n",
       "    <tr>\n",
       "      <th>12</th>\n",
       "      <td>TFIDFVectorization-MNB</td>\n",
       "      <td>0.934508</td>\n",
       "      <td>0.863329</td>\n",
       "      <td>0.071179</td>\n",
       "    </tr>\n",
       "    <tr>\n",
       "      <th>4</th>\n",
       "      <td>CountVectorization-GNB</td>\n",
       "      <td>0.865854</td>\n",
       "      <td>0.794317</td>\n",
       "      <td>0.071537</td>\n",
       "    </tr>\n",
       "    <tr>\n",
       "      <th>13</th>\n",
       "      <td>TFIDFVectorization-GNB</td>\n",
       "      <td>0.852755</td>\n",
       "      <td>0.787551</td>\n",
       "      <td>0.065204</td>\n",
       "    </tr>\n",
       "    <tr>\n",
       "      <th>1</th>\n",
       "      <td>CountVectorization-KNN</td>\n",
       "      <td>0.842818</td>\n",
       "      <td>0.779432</td>\n",
       "      <td>0.063387</td>\n",
       "    </tr>\n",
       "    <tr>\n",
       "      <th>14</th>\n",
       "      <td>TFIDFVectorization-DecisionTree,Bag</td>\n",
       "      <td>0.836043</td>\n",
       "      <td>0.830853</td>\n",
       "      <td>0.005191</td>\n",
       "    </tr>\n",
       "    <tr>\n",
       "      <th>6</th>\n",
       "      <td>CountVectorization-DecisionTree,Bag</td>\n",
       "      <td>0.833333</td>\n",
       "      <td>0.828146</td>\n",
       "      <td>0.005187</td>\n",
       "    </tr>\n",
       "    <tr>\n",
       "      <th>5</th>\n",
       "      <td>CountVectorization-DecisionTree</td>\n",
       "      <td>0.808943</td>\n",
       "      <td>0.806495</td>\n",
       "      <td>0.002448</td>\n",
       "    </tr>\n",
       "    <tr>\n",
       "      <th>11</th>\n",
       "      <td>TFIDFVectorization-KNN</td>\n",
       "      <td>0.787263</td>\n",
       "      <td>0.706360</td>\n",
       "      <td>0.080903</td>\n",
       "    </tr>\n",
       "  </tbody>\n",
       "</table>\n",
       "</div>"
      ],
      "text/plain": [
       "                             Model Type  Train Accuracy  Test Accuracy  \\\n",
       "15      TFIDFVectorization-RandomForest        0.993225       0.855210   \n",
       "16        TFIDFVectorization-ExtraTrees        0.990515       0.856563   \n",
       "8         CountVectorization-ExtraTrees        0.990515       0.847091   \n",
       "7       CountVectorization-RandomForest        0.990063       0.856563   \n",
       "17          TFIDFVectorization-AdaBoost        0.971093       0.809202   \n",
       "9           CountVectorization-AdaBoost        0.969286       0.828146   \n",
       "0                 CountVectorization-LR        0.967028       0.872801   \n",
       "10                TFIDFVectorization-LR        0.960253       0.875507   \n",
       "3                CountVectorization-MNB        0.942638       0.878214   \n",
       "2                CountVectorization-BNB        0.941734       0.880920   \n",
       "12               TFIDFVectorization-MNB        0.934508       0.863329   \n",
       "4                CountVectorization-GNB        0.865854       0.794317   \n",
       "13               TFIDFVectorization-GNB        0.852755       0.787551   \n",
       "1                CountVectorization-KNN        0.842818       0.779432   \n",
       "14  TFIDFVectorization-DecisionTree,Bag        0.836043       0.830853   \n",
       "6   CountVectorization-DecisionTree,Bag        0.833333       0.828146   \n",
       "5       CountVectorization-DecisionTree        0.808943       0.806495   \n",
       "11               TFIDFVectorization-KNN        0.787263       0.706360   \n",
       "\n",
       "    Accuracy Difference  \n",
       "15             0.138015  \n",
       "16             0.133952  \n",
       "8              0.143424  \n",
       "7              0.133500  \n",
       "17             0.161891  \n",
       "9              0.141140  \n",
       "0              0.094227  \n",
       "10             0.084745  \n",
       "3              0.064424  \n",
       "2              0.060814  \n",
       "12             0.071179  \n",
       "4              0.071537  \n",
       "13             0.065204  \n",
       "1              0.063387  \n",
       "14             0.005191  \n",
       "6              0.005187  \n",
       "5              0.002448  \n",
       "11             0.080903  "
      ]
     },
     "execution_count": 549,
     "metadata": {},
     "output_type": "execute_result"
    }
   ],
   "source": [
    "scores.sort_values(by='Train Accuracy',ascending=False)"
   ]
  },
  {
   "cell_type": "markdown",
   "metadata": {},
   "source": [
    "After comparing all the models, Count Vectorizer, Multinomial Naive Bayes model was selected as the final model."
   ]
  },
  {
   "cell_type": "code",
   "execution_count": 600,
   "metadata": {},
   "outputs": [],
   "source": [
    "#Final Model Features\n",
    "cvec_best=CountVectorizer(ngram_range=(1,1),max_features=3000)"
   ]
  },
  {
   "cell_type": "code",
   "execution_count": 601,
   "metadata": {},
   "outputs": [
    {
     "data": {
      "text/plain": [
       "CountVectorizer(analyzer='word', binary=False, decode_error='strict',\n",
       "                dtype=<class 'numpy.int64'>, encoding='utf-8', input='content',\n",
       "                lowercase=True, max_df=1.0, max_features=3000, min_df=1,\n",
       "                ngram_range=(1, 1), preprocessor=None, stop_words=None,\n",
       "                strip_accents=None, token_pattern='(?u)\\\\b\\\\w\\\\w+\\\\b',\n",
       "                tokenizer=None, vocabulary=None)"
      ]
     },
     "execution_count": 601,
     "metadata": {},
     "output_type": "execute_result"
    }
   ],
   "source": [
    "cvec_best.fit(X_train)"
   ]
  },
  {
   "cell_type": "code",
   "execution_count": 602,
   "metadata": {},
   "outputs": [],
   "source": [
    "X_train=cvec_best.transform(X_train)"
   ]
  },
  {
   "cell_type": "code",
   "execution_count": 603,
   "metadata": {},
   "outputs": [],
   "source": [
    "X_val=cvec_best.transform(X_val)"
   ]
  },
  {
   "cell_type": "code",
   "execution_count": 606,
   "metadata": {},
   "outputs": [],
   "source": [
    "func_tran=FunctionTransformer(lambda x: x.todense(), accept_sparse = True)"
   ]
  },
  {
   "cell_type": "code",
   "execution_count": 607,
   "metadata": {},
   "outputs": [
    {
     "data": {
      "text/plain": [
       "FunctionTransformer(accept_sparse=True, check_inverse=True,\n",
       "                    func=<function <lambda> at 0x0000011A16E5DEE8>,\n",
       "                    inv_kw_args=None, inverse_func=None, kw_args=None,\n",
       "                    validate=False)"
      ]
     },
     "execution_count": 607,
     "metadata": {},
     "output_type": "execute_result"
    }
   ],
   "source": [
    "func_tran.fit(X_train)"
   ]
  },
  {
   "cell_type": "code",
   "execution_count": 608,
   "metadata": {},
   "outputs": [],
   "source": [
    "X_train =func_tran.transform(X_train)"
   ]
  },
  {
   "cell_type": "code",
   "execution_count": 609,
   "metadata": {},
   "outputs": [],
   "source": [
    "X_val =func_tran.transform(X_val)"
   ]
  },
  {
   "cell_type": "code",
   "execution_count": 610,
   "metadata": {},
   "outputs": [],
   "source": [
    "#Initiate Multinomial Naive Bayes Classifier\n",
    "nb_multinomial=MultinomialNB()"
   ]
  },
  {
   "cell_type": "code",
   "execution_count": 611,
   "metadata": {},
   "outputs": [],
   "source": [
    "best_model=nb_multinomial.fit(X_train,y_train)"
   ]
  },
  {
   "cell_type": "code",
   "execution_count": 612,
   "metadata": {},
   "outputs": [],
   "source": [
    "#Confusion Matrix Visualization for the best model"
   ]
  },
  {
   "cell_type": "code",
   "execution_count": 613,
   "metadata": {},
   "outputs": [],
   "source": [
    "y_pred = best_model.predict(X_val)"
   ]
  },
  {
   "cell_type": "code",
   "execution_count": 614,
   "metadata": {},
   "outputs": [
    {
     "name": "stdout",
     "output_type": "stream",
     "text": [
      "True Positives: 332\n",
      "False Positives: 51\n",
      "False Negatives: 39\n",
      "True Negatives: 317\n",
      "\n"
     ]
    }
   ],
   "source": [
    "tn, fp, fn, tp = confusion_matrix(y_val, y_pred).ravel()\n",
    "\n",
    "print(\"True Positives: %s\" % tp)\n",
    "print(\"False Positives: %s\" % fp)\n",
    "print(\"False Negatives: %s\" % fn)\n",
    "print(\"True Negatives: %s\" % tn)\n",
    "print('')\n"
   ]
  },
  {
   "cell_type": "code",
   "execution_count": 615,
   "metadata": {
    "scrolled": true
   },
   "outputs": [
    {
     "data": {
      "image/png": "[encoded data removed]",
      "text/plain": [
       "<Figure size 720x720 with 2 Axes>"
      ]
     },
     "metadata": {
      "needs_background": "light"
     },
     "output_type": "display_data"
    }
   ],
   "source": [
    "disp = plot_confusion_matrix(best_model, X_val, y_val, cmap = \"Blues\", values_format = \".3g\",\n",
    "                             display_labels = [\"DCComics\", \"Marvel\"])\n",
    "fig = plt.gcf()\n",
    "fig.set_size_inches(10,10)\n",
    "plt.title('Model Predictions', fontsize = 20)\n",
    "plt.xlabel('Model Prediction', fontsize = 16)\n",
    "plt.ylabel('Actual', fontsize = 16)\n",
    "plt.show()"
   ]
  },
  {
   "cell_type": "code",
   "execution_count": null,
   "metadata": {},
   "outputs": [],
   "source": [
    "#Confusion matrix metrics"
   ]
  },
  {
   "cell_type": "code",
   "execution_count": 621,
   "metadata": {},
   "outputs": [],
   "source": [
    "sensitivity = tp/(tp+fn)\n",
    "specificity = tn/(tn+fp)\n",
    "precision = tp/(tp+fp)"
   ]
  },
  {
   "cell_type": "code",
   "execution_count": 624,
   "metadata": {},
   "outputs": [
    {
     "name": "stdout",
     "output_type": "stream",
     "text": [
      "Sensitivity: 0.895\n",
      "Specificity: 0.861\n",
      "Precision: 0.867\n"
     ]
    }
   ],
   "source": [
    "print('Sensitivity:',round(sensitivity,3))\n",
    "print('Specificity:',round(specificity,3))\n",
    "print('Precision:',round(precision,3))"
   ]
  },
  {
   "cell_type": "markdown",
   "metadata": {},
   "source": [
    "### Conclusions and Recommendations\n",
    "\n",
    "The best classifier model was a Multinomial Naive Bayes Classifier using Count Vectorizer with a good accuracy score of 94.3%.\n",
    "\n",
    "The best model score was a huge improvement than guessing wherever a post belonged to the Marvel subreddit or not 50.2% of the time.\n",
    "\n",
    "The model can be further improved by looking into the posts that were misclassified.\n",
    "\n",
    "Hyperparameters can be further explored and finetuned for various models that were analyzed. \n",
    "\n",
    "The total dataset consisted of only 3000 subreddit posts. Maybe more subreddit posts can be webscraped from the reddit platforms to construct a more generalized model and avoid overfitting.\n",
    "\n",
    "For this project, only the subreddit posts were considered. As an extension to improve the model, the comments and self text columns can be considered as well. \n",
    "\n",
    "Subreddit posts from a non biased subreddit like r/Comics can be classified to further validate the accuracy of the model. "
   ]
  }
 ],
 "metadata": {
  "kernelspec": {
   "display_name": "Python 3",
   "language": "python",
   "name": "python3"
  },
  "language_info": {
   "codemirror_mode": {
    "name": "ipython",
    "version": 3
   },
   "file_extension": ".py",
   "mimetype": "text/x-python",
   "name": "python",
   "nbconvert_exporter": "python",
   "pygments_lexer": "ipython3",
   "version": "3.7.6"
  }
 },
 "nbformat": 4,
 "nbformat_minor": 4
}
